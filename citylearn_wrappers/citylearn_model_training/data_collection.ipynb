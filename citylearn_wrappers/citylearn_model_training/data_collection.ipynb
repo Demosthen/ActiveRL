{
 "cells": [
  {
   "cell_type": "code",
   "execution_count": 1,
   "metadata": {},
   "outputs": [
    {
     "name": "stderr",
     "output_type": "stream",
     "text": [
      "/home/doseok/miniconda3/envs/ActiveRL/lib/python3.10/site-packages/torch/utils/tensorboard/__init__.py:4: DeprecationWarning: distutils Version classes are deprecated. Use packaging.version instead.\n",
      "  if not hasattr(tensorboard, \"__version__\") or LooseVersion(\n"
     ]
    }
   ],
   "source": [
    "import pandas as pd\n",
    "# For some reason we have to define this store before importing the citylearnwrapper...\n",
    "store = pd.HDFStore(\"planning_model_data.h5\")\n",
    "import sys\n",
    " \n",
    "# setting path\n",
    "sys.path.append('../')\n",
    "from citylearn_wrapper import CityLearnEnvWrapper\n",
    "import csv\n",
    "\n",
    "import numpy as np\n",
    "import h5py"
   ]
  },
  {
   "cell_type": "code",
   "execution_count": 2,
   "metadata": {},
   "outputs": [],
   "source": [
    "schemas = [\"../data/Test_cold_Texas/schema.json\", \"../data/Test_dry_Cali/schema.json\",\n",
    "            \"../data/Test_hot_new_york/schema.json\", \"../data/Test_snowy_Cali_winter/schema.json\"]\n",
    "env_configs = [{\n",
    "    \"schema\": schema,\n",
    "    \"is_evaluation\": True,\n",
    "} for schema in schemas]\n",
    "num_episodes = 5"
   ]
  },
  {
   "cell_type": "code",
   "execution_count": 3,
   "metadata": {},
   "outputs": [
    {
     "name": "stdout",
     "output_type": "stream",
     "text": [
      "[{'schema': '../data/Test_cold_Texas/schema.json', 'is_evaluation': True}, {'schema': '../data/Test_dry_Cali/schema.json', 'is_evaluation': True}, {'schema': '../data/Test_hot_new_york/schema.json', 'is_evaluation': True}, {'schema': '../data/Test_snowy_Cali_winter/schema.json', 'is_evaluation': True}]\n"
     ]
    }
   ],
   "source": [
    "envs = [CityLearnEnvWrapper(env_config) for env_config in env_configs]"
   ]
  },
  {
   "cell_type": "code",
   "execution_count": 4,
   "metadata": {},
   "outputs": [],
   "source": [
    "def collect_dataset(envs, num_episodes, save_interval = 50):\n",
    "    obss = []\n",
    "    next_obss = []\n",
    "    actions = []\n",
    "    rews = []\n",
    "    dones = []\n",
    "    for i in range(num_episodes):\n",
    "        print(f\"Episode {i}, {len(obss)} steps collected\")\n",
    "        env_choice = np.random.choice(len(envs))\n",
    "        env = envs[env_choice]\n",
    "        obs = env.reset()\n",
    "        done = False\n",
    "        while not done:\n",
    "            action = env.action_space.sample()\n",
    "            next_obs, rew, done, info = env.step(action)\n",
    "            #data.append([obs, next_obs, action.tolist(), rew, done])\n",
    "            obss.append(obs)\n",
    "            next_obss.append(next_obs)\n",
    "            actions.append(action)\n",
    "            rews.append([rew])\n",
    "            dones.append([done])\n",
    "            obs = next_obs\n",
    "        if i % save_interval == save_interval - 1:\n",
    "            store_data([obss, next_obss, actions, rews, dones])\n",
    "            obss = []\n",
    "            next_obss = []\n",
    "            actions = []\n",
    "            rews = []\n",
    "            dones = []\n",
    "    return obss, next_obss, actions, rews, dones\n",
    "\n",
    "def convert_to_df(data, prefix):\n",
    "    return pd.DataFrame(data, columns = [f\"{prefix}_{i}\" for i in range(len(data[0]))])\n",
    "\n",
    "def store_data(data):\n",
    "    obss, next_obss, actions, rews, dones = data\n",
    "    obss_df = convert_to_df(obss, \"obs\")\n",
    "    next_obss_df = convert_to_df(next_obss, \"next_obs\")\n",
    "    actions_df = convert_to_df(actions, \"action\")\n",
    "    rews_df = convert_to_df(rews, \"rew\")\n",
    "    dones_df = convert_to_df(dones, \"done\")\n",
    "    #df = pd.concat([obss_df, next_obss_df, actions_df, rews_df, dones_df])\n",
    "    store.append(\"obs\", obss_df, format='t')\n",
    "    store.append(\"next_obs\", next_obss_df, format='t')\n",
    "    store.append(\"actions\", actions_df, format='t')\n",
    "    store.append(\"rews\", rews_df, format='t')\n",
    "    store.append(\"dones\", dones_df, format='t')\n",
    "\n",
    "    #pd.to_pickle(df, filename)\n",
    "    # with open(filename, \"w\") as f:\n",
    "    #     writer = csv.writer(f, delimiter='|')\n",
    "    #     writer.writerow([\"obs\", \"next_obs\", \"action\", \"rew\", \"done\"])\n",
    "    #     writer.writerows(data)"
   ]
  },
  {
   "cell_type": "code",
   "execution_count": 7,
   "metadata": {},
   "outputs": [
    {
     "name": "stdout",
     "output_type": "stream",
     "text": [
      "Episode 0, 0 steps collected\n",
      "3\n",
      "Episode 1, 8759 steps collected\n",
      "0\n",
      "Episode 2, 17518 steps collected\n",
      "2\n",
      "Episode 3, 26277 steps collected\n",
      "1\n",
      "Episode 4, 35036 steps collected\n",
      "0\n"
     ]
    }
   ],
   "source": [
    "data = collect_dataset(envs, num_episodes)\n",
    "#store_data(data, \"planning_model_data.pkl\")"
   ]
  },
  {
   "cell_type": "code",
   "execution_count": null,
   "metadata": {},
   "outputs": [],
   "source": []
  },
  {
   "cell_type": "code",
   "execution_count": 6,
   "metadata": {},
   "outputs": [],
   "source": [
    "store.close()"
   ]
  },
  {
   "cell_type": "code",
   "execution_count": null,
   "metadata": {},
   "outputs": [],
   "source": []
  }
 ],
 "metadata": {
  "kernelspec": {
   "display_name": "Python 3.10.4 ('ActiveRL')",
   "language": "python",
   "name": "python3"
  },
  "language_info": {
   "codemirror_mode": {
    "name": "ipython",
    "version": 3
   },
   "file_extension": ".py",
   "mimetype": "text/x-python",
   "name": "python",
   "nbconvert_exporter": "python",
   "pygments_lexer": "ipython3",
   "version": "3.10.4"
  },
  "orig_nbformat": 4,
  "vscode": {
   "interpreter": {
    "hash": "05ed386050a6f61d6ae19bb50f9ad90c7e2b03875ed318bf31de6d12a39305c0"
   }
  }
 },
 "nbformat": 4,
 "nbformat_minor": 2
}
