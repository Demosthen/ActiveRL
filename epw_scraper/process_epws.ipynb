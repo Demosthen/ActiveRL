{
 "cells": [
  {
   "cell_type": "code",
   "execution_count": 1,
   "metadata": {},
   "outputs": [],
   "source": [
    "import os\n",
    "import opyplus as op\n",
    "import matplotlib.pyplot as plt\n",
    "import pandas as pd\n",
    "epw_files = os.listdir(\"data\")\n",
    "weather_dfs = []\n",
    "base_df = None\n",
    "for file in epw_files:\n",
    "    # load weather data object\n",
    "    try:\n",
    "        if \"USA\" in file:\n",
    "            weather_data = op.WeatherData.from_epw(os.path.join(\"data\", file))\n",
    "            weather_dfs.append(weather_data.get_weather_series())\n",
    "            if file == 'USA_AZ_Davis-Monthan.AFB.722745_TMY3.epw':\n",
    "                base_df = weather_dfs[-1]\n",
    "    except Exception as e:\n",
    "        print(e)"
   ]
  },
  {
   "attachments": {},
   "cell_type": "markdown",
   "metadata": {},
   "source": [
    "### Overall Process of Embedding OU Parameters into a low dimensional space:\n",
    "We model each weather file as having been generated from an OU process adding noise to the \"base\" weather of our environment. After recovering the OU parameters, we can encode them in a low dimensional space using PCA, which will capture the covariances between the parameters for each individual variable.\n",
    "\n",
    "1. Subtract each epw from base epw and rescale using base epw's std deviation\n",
    "2. Since OU process is auto-generative, we use a linear regression to predict the effect x[t] had on x[t+1]\n",
    "3. Do some math on the linear regression outputs to recover the MLE of the OU process parameters for each variable for each epw\n",
    "4. Standardize the recovered OU parameters\n",
    "5. Fit PCA to the parameters\n",
    "\n",
    "When generating new epw files:\n",
    "1. Sample a uniform random variable and multiply it by the PCA\n",
    "2. Rescale the new parameters by subtracting OU means and variances\n",
    "3. Rescale again by multiplying OU offset and std parameters by the base epw's std deviation\n"
   ]
  },
  {
   "cell_type": "code",
   "execution_count": 2,
   "metadata": {},
   "outputs": [],
   "source": [
    "variables = ['drybulb', 'relhum', \"winddir\", \"dirnorrad\", \"difhorrad\", \"windspd\", \"precip_wtr\", \"snowdepth\"]\n",
    "base_df = base_df[variables]\n",
    "df_mean = base_df.mean(0)\n",
    "df_std = base_df.std(0)\n",
    "df_std[df_std == 0] = 1\n",
    "dt = 1/8760"
   ]
  },
  {
   "cell_type": "code",
   "execution_count": 3,
   "metadata": {},
   "outputs": [
    {
     "data": {
      "text/plain": [
       "drybulb         9.003335\n",
       "relhum         23.782531\n",
       "winddir        82.218378\n",
       "dirnorrad     358.688955\n",
       "difhorrad      86.422528\n",
       "windspd         1.811650\n",
       "precip_wtr     84.068268\n",
       "snowdepth       1.000000\n",
       "dtype: float64"
      ]
     },
     "execution_count": 3,
     "metadata": {},
     "output_type": "execute_result"
    }
   ],
   "source": [
    "df_std"
   ]
  },
  {
   "cell_type": "code",
   "execution_count": 4,
   "metadata": {},
   "outputs": [],
   "source": [
    "for i in range(len(weather_dfs)):\n",
    "    weather_dfs[i] = (weather_dfs[i][variables] - base_df) / (df_std + 0.0000001)"
   ]
  },
  {
   "cell_type": "code",
   "execution_count": 5,
   "metadata": {},
   "outputs": [
    {
     "data": {
      "text/html": [
       "<div>\n",
       "<style scoped>\n",
       "    .dataframe tbody tr th:only-of-type {\n",
       "        vertical-align: middle;\n",
       "    }\n",
       "\n",
       "    .dataframe tbody tr th {\n",
       "        vertical-align: top;\n",
       "    }\n",
       "\n",
       "    .dataframe thead th {\n",
       "        text-align: right;\n",
       "    }\n",
       "</style>\n",
       "<table border=\"1\" class=\"dataframe\">\n",
       "  <thead>\n",
       "    <tr style=\"text-align: right;\">\n",
       "      <th></th>\n",
       "      <th>drybulb</th>\n",
       "      <th>relhum</th>\n",
       "      <th>winddir</th>\n",
       "      <th>dirnorrad</th>\n",
       "      <th>difhorrad</th>\n",
       "      <th>windspd</th>\n",
       "      <th>precip_wtr</th>\n",
       "      <th>snowdepth</th>\n",
       "    </tr>\n",
       "  </thead>\n",
       "  <tbody>\n",
       "    <tr>\n",
       "      <th>count</th>\n",
       "      <td>1.294728e+07</td>\n",
       "      <td>1.294728e+07</td>\n",
       "      <td>1.294728e+07</td>\n",
       "      <td>1.294728e+07</td>\n",
       "      <td>1.294728e+07</td>\n",
       "      <td>1.294728e+07</td>\n",
       "      <td>1.294728e+07</td>\n",
       "      <td>1.294728e+07</td>\n",
       "    </tr>\n",
       "    <tr>\n",
       "      <th>mean</th>\n",
       "      <td>-1.093482e+00</td>\n",
       "      <td>1.360681e+00</td>\n",
       "      <td>-2.219868e-01</td>\n",
       "      <td>-2.825541e-01</td>\n",
       "      <td>9.275677e-02</td>\n",
       "      <td>3.000955e-01</td>\n",
       "      <td>-2.697253e-01</td>\n",
       "      <td>4.333823e-01</td>\n",
       "    </tr>\n",
       "    <tr>\n",
       "      <th>std</th>\n",
       "      <td>1.001236e+00</td>\n",
       "      <td>1.203614e+00</td>\n",
       "      <td>1.659077e+00</td>\n",
       "      <td>8.637207e-01</td>\n",
       "      <td>7.952110e-01</td>\n",
       "      <td>1.693164e+00</td>\n",
       "      <td>1.539851e+00</td>\n",
       "      <td>3.715370e+00</td>\n",
       "    </tr>\n",
       "    <tr>\n",
       "      <th>min</th>\n",
       "      <td>-8.596814e+00</td>\n",
       "      <td>-3.994529e+00</td>\n",
       "      <td>-4.378583e+00</td>\n",
       "      <td>-2.879933e+00</td>\n",
       "      <td>-6.398794e+00</td>\n",
       "      <td>-7.672564e+00</td>\n",
       "      <td>-5.352793e+00</td>\n",
       "      <td>0.000000e+00</td>\n",
       "    </tr>\n",
       "    <tr>\n",
       "      <th>25%</th>\n",
       "      <td>-1.688263e+00</td>\n",
       "      <td>5.886674e-01</td>\n",
       "      <td>-1.459528e+00</td>\n",
       "      <td>-4.683724e-01</td>\n",
       "      <td>0.000000e+00</td>\n",
       "      <td>-8.279746e-01</td>\n",
       "      <td>-1.189509e+00</td>\n",
       "      <td>0.000000e+00</td>\n",
       "    </tr>\n",
       "    <tr>\n",
       "      <th>50%</th>\n",
       "      <td>-1.032951e+00</td>\n",
       "      <td>1.471668e+00</td>\n",
       "      <td>-2.432546e-01</td>\n",
       "      <td>0.000000e+00</td>\n",
       "      <td>0.000000e+00</td>\n",
       "      <td>2.759915e-01</td>\n",
       "      <td>-3.568528e-01</td>\n",
       "      <td>0.000000e+00</td>\n",
       "    </tr>\n",
       "    <tr>\n",
       "      <th>75%</th>\n",
       "      <td>-4.331728e-01</td>\n",
       "      <td>2.270574e+00</td>\n",
       "      <td>9.730185e-01</td>\n",
       "      <td>0.000000e+00</td>\n",
       "      <td>1.619948e-01</td>\n",
       "      <td>1.324759e+00</td>\n",
       "      <td>5.947547e-01</td>\n",
       "      <td>0.000000e+00</td>\n",
       "    </tr>\n",
       "    <tr>\n",
       "      <th>max</th>\n",
       "      <td>3.998518e+00</td>\n",
       "      <td>4.078624e+00</td>\n",
       "      <td>4.378583e+00</td>\n",
       "      <td>3.950498e+00</td>\n",
       "      <td>6.850066e+00</td>\n",
       "      <td>4.117794e+01</td>\n",
       "      <td>7.256008e+00</td>\n",
       "      <td>1.370000e+02</td>\n",
       "    </tr>\n",
       "  </tbody>\n",
       "</table>\n",
       "</div>"
      ],
      "text/plain": [
       "            drybulb        relhum       winddir     dirnorrad     difhorrad  \\\n",
       "count  1.294728e+07  1.294728e+07  1.294728e+07  1.294728e+07  1.294728e+07   \n",
       "mean  -1.093482e+00  1.360681e+00 -2.219868e-01 -2.825541e-01  9.275677e-02   \n",
       "std    1.001236e+00  1.203614e+00  1.659077e+00  8.637207e-01  7.952110e-01   \n",
       "min   -8.596814e+00 -3.994529e+00 -4.378583e+00 -2.879933e+00 -6.398794e+00   \n",
       "25%   -1.688263e+00  5.886674e-01 -1.459528e+00 -4.683724e-01  0.000000e+00   \n",
       "50%   -1.032951e+00  1.471668e+00 -2.432546e-01  0.000000e+00  0.000000e+00   \n",
       "75%   -4.331728e-01  2.270574e+00  9.730185e-01  0.000000e+00  1.619948e-01   \n",
       "max    3.998518e+00  4.078624e+00  4.378583e+00  3.950498e+00  6.850066e+00   \n",
       "\n",
       "            windspd    precip_wtr     snowdepth  \n",
       "count  1.294728e+07  1.294728e+07  1.294728e+07  \n",
       "mean   3.000955e-01 -2.697253e-01  4.333823e-01  \n",
       "std    1.693164e+00  1.539851e+00  3.715370e+00  \n",
       "min   -7.672564e+00 -5.352793e+00  0.000000e+00  \n",
       "25%   -8.279746e-01 -1.189509e+00  0.000000e+00  \n",
       "50%    2.759915e-01 -3.568528e-01  0.000000e+00  \n",
       "75%    1.324759e+00  5.947547e-01  0.000000e+00  \n",
       "max    4.117794e+01  7.256008e+00  1.370000e+02  "
      ]
     },
     "execution_count": 5,
     "metadata": {},
     "output_type": "execute_result"
    }
   ],
   "source": [
    "big_df = pd.concat(weather_dfs)\n",
    "big_df.describe()"
   ]
  },
  {
   "cell_type": "code",
   "execution_count": 6,
   "metadata": {},
   "outputs": [
    {
     "data": {
      "text/plain": [
       "(8760, 8)"
      ]
     },
     "execution_count": 6,
     "metadata": {},
     "output_type": "execute_result"
    }
   ],
   "source": [
    "weather_dfs[0].shape"
   ]
  },
  {
   "cell_type": "code",
   "execution_count": 7,
   "metadata": {},
   "outputs": [],
   "source": [
    "from sklearn.linear_model import LinearRegression\n",
    "import numpy as np\n",
    "OU_vars = {k: [] for k in weather_dfs[0].columns}\n",
    "all_OU = []\n",
    "scores = {k: [] for k in weather_dfs[0].columns}\n",
    "all_scores = []\n",
    "coefs = []\n",
    "intercepts = []\n",
    "for i in range(len(weather_dfs)):\n",
    "    if np.any(weather_dfs[i].isna()):\n",
    "        continue\n",
    "    for j in range(weather_dfs[i].shape[-1]):\n",
    "        reg = LinearRegression()\n",
    "        split = int(8760 * 0.8)\n",
    "        X_train = np.array(weather_dfs[i].iloc[:split-1, j]).reshape([-1, 1])\n",
    "        y_train = np.array(weather_dfs[i].iloc[1:split, j]).reshape([-1, 1])\n",
    "        X_test = np.array(weather_dfs[i].iloc[split:-1, j]).reshape([-1, 1])\n",
    "        y_test = np.array(weather_dfs[i].iloc[split+1:, j]).reshape([-1, 1])\n",
    "        reg = reg.fit(X_train, y_train)\n",
    "        preds = reg.predict(X_train)\n",
    "        std = np.sqrt(np.mean((preds - y_train) ** 2))\n",
    "        score = reg.score(X_test, y_test)\n",
    "        scores[weather_dfs[i].columns[j]].append(score)\n",
    "        coef = reg.coef_.squeeze().item()\n",
    "        coefs.append(coef)\n",
    "        intercept = reg.intercept_.squeeze().item()\n",
    "        intercepts.append(intercept)\n",
    "        if coef == 0:\n",
    "            tau = 0.001\n",
    "        else:\n",
    "            tau = dt / (1 - coef) #(1 - dt) / coef\n",
    "        mu = intercept * tau / dt\n",
    "        sigma = std / (np.sqrt(dt * 2. / tau))\n",
    "\n",
    "        OU_vars[weather_dfs[i].columns[j]].append(np.array([sigma, mu, tau]))\n",
    "        all_OU.append(np.array([sigma, mu, tau]))\n",
    "        all_scores.append(score)"
   ]
  },
  {
   "cell_type": "code",
   "execution_count": 8,
   "metadata": {},
   "outputs": [],
   "source": [
    "all_OU = np.stack(all_OU)\n",
    "all_scores = np.stack(all_scores)"
   ]
  },
  {
   "cell_type": "code",
   "execution_count": 9,
   "metadata": {},
   "outputs": [
    {
     "data": {
      "text/html": [
       "<div>\n",
       "<style scoped>\n",
       "    .dataframe tbody tr th:only-of-type {\n",
       "        vertical-align: middle;\n",
       "    }\n",
       "\n",
       "    .dataframe tbody tr th {\n",
       "        vertical-align: top;\n",
       "    }\n",
       "\n",
       "    .dataframe thead th {\n",
       "        text-align: right;\n",
       "    }\n",
       "</style>\n",
       "<table border=\"1\" class=\"dataframe\">\n",
       "  <thead>\n",
       "    <tr style=\"text-align: right;\">\n",
       "      <th></th>\n",
       "      <th>0</th>\n",
       "    </tr>\n",
       "  </thead>\n",
       "  <tbody>\n",
       "    <tr>\n",
       "      <th>count</th>\n",
       "      <td>11824.000000</td>\n",
       "    </tr>\n",
       "    <tr>\n",
       "      <th>mean</th>\n",
       "      <td>0.743307</td>\n",
       "    </tr>\n",
       "    <tr>\n",
       "      <th>std</th>\n",
       "      <td>0.241941</td>\n",
       "    </tr>\n",
       "    <tr>\n",
       "      <th>min</th>\n",
       "      <td>-4.523659</td>\n",
       "    </tr>\n",
       "    <tr>\n",
       "      <th>25%</th>\n",
       "      <td>0.541347</td>\n",
       "    </tr>\n",
       "    <tr>\n",
       "      <th>50%</th>\n",
       "      <td>0.785736</td>\n",
       "    </tr>\n",
       "    <tr>\n",
       "      <th>75%</th>\n",
       "      <td>0.965271</td>\n",
       "    </tr>\n",
       "    <tr>\n",
       "      <th>max</th>\n",
       "      <td>1.000000</td>\n",
       "    </tr>\n",
       "  </tbody>\n",
       "</table>\n",
       "</div>"
      ],
      "text/plain": [
       "                  0\n",
       "count  11824.000000\n",
       "mean       0.743307\n",
       "std        0.241941\n",
       "min       -4.523659\n",
       "25%        0.541347\n",
       "50%        0.785736\n",
       "75%        0.965271\n",
       "max        1.000000"
      ]
     },
     "execution_count": 9,
     "metadata": {},
     "output_type": "execute_result"
    }
   ],
   "source": [
    "pd.DataFrame(all_scores).describe()"
   ]
  },
  {
   "cell_type": "code",
   "execution_count": 10,
   "metadata": {},
   "outputs": [
    {
     "data": {
      "text/plain": [
       "{'drybulb': array([ 0.72918787, -1.11909799,  0.0041514 ]),\n",
       " 'relhum': array([1.1157683 , 1.36511382, 0.00326103]),\n",
       " 'winddir': array([ 1.46200430e+00, -2.34226992e-01,  3.48571028e-04]),\n",
       " 'dirnorrad': array([ 8.04454152e-01, -2.67266879e-01,  5.98230606e-04]),\n",
       " 'difhorrad': array([7.58214955e-01, 1.20950294e-01, 3.60393860e-04]),\n",
       " 'windspd': array([1.47887723e+00, 2.26013467e-01, 4.95889862e-04]),\n",
       " 'precip_wtr': array([ 1.03724484, -0.32147545,  0.02084473]),\n",
       " 'snowdepth': array([0.65863037, 0.33040698, 0.00648558])}"
      ]
     },
     "execution_count": 10,
     "metadata": {},
     "output_type": "execute_result"
    }
   ],
   "source": [
    "{k: np.mean(np.array(var), axis=0) for k, var in OU_vars.items()}"
   ]
  },
  {
   "cell_type": "code",
   "execution_count": 11,
   "metadata": {},
   "outputs": [],
   "source": [
    "OU_vars = {k: np.stack(v) for k, v in OU_vars.items()}"
   ]
  },
  {
   "cell_type": "code",
   "execution_count": 16,
   "metadata": {},
   "outputs": [],
   "source": [
    "from scipy import stats\n",
    "from copy import deepcopy\n",
    "from sklearn.model_selection import train_test_split\n",
    "OU_dict = {}\n",
    "for i in range(len(OU_vars[\"drybulb\"])):\n",
    "    for j, var in enumerate(variables):\n",
    "        for k in range(3):\n",
    "            OU_dict[f\"{var}_{k}\"] = OU_vars[var][:, k]\n",
    "OU_df = pd.DataFrame.from_dict(OU_dict)\n",
    "OU_df = OU_df[(np.abs(stats.zscore(OU_df)) < 3).all(axis=1)]\n",
    "OU_df_saved = deepcopy(OU_df)\n",
    "OU_mean = OU_df.mean(axis=0)\n",
    "OU_std = OU_df.std(axis=0)\n",
    "OU_df = (OU_df - OU_df.mean(axis=0)) / (OU_df.std(axis=0))\n",
    "OU_df_train, OU_df_test = train_test_split(OU_df, test_size=0.2)"
   ]
  },
  {
   "cell_type": "code",
   "execution_count": 17,
   "metadata": {},
   "outputs": [],
   "source": [
    "\n",
    "for i, column in enumerate(OU_df_saved.columns):\n",
    "    delim_idx = column.rfind(\"_\")\n",
    "    var = column[:delim_idx]\n",
    "    idx = int(column[delim_idx+1:])\n",
    "    if idx in [0, 1]:\n",
    "        OU_df_saved.iloc[:, i] *= df_std[i//3]\n",
    "OU_df_saved.to_csv(\"US_epw_OU_params.csv\", index=False) "
   ]
  },
  {
   "cell_type": "code",
   "execution_count": 11,
   "metadata": {},
   "outputs": [
    {
     "data": {
      "text/plain": [
       "(1306, 24)"
      ]
     },
     "execution_count": 11,
     "metadata": {},
     "output_type": "execute_result"
    }
   ],
   "source": [
    "OU_df.shape\n",
    "# df_std.shape"
   ]
  },
  {
   "cell_type": "code",
   "execution_count": 93,
   "metadata": {},
   "outputs": [],
   "source": [
    "from sklearn.decomposition import IncrementalPCA, KernelPCA, PCA\n",
    "errs = []\n",
    "errs_train = []\n",
    "N = 20\n",
    "for n in range(1, N):\n",
    "    #pca = IncrementalPCA(len(variables), batch_size=500)\n",
    "    pca = KernelPCA(n, kernel=\"poly\", degree=3, fit_inverse_transform=True, alpha=1)\n",
    "    pca.fit(OU_df_train)\n",
    "    transformed = pd.DataFrame(pca.transform(OU_df_test))\n",
    "    transformed_train = pd.DataFrame(pca.transform(OU_df_train))\n",
    "    y = OU_df_test.to_numpy()\n",
    "    y_train = OU_df_train.to_numpy()\n",
    "    y_hat = pca.inverse_transform(transformed.to_numpy())\n",
    "    y_hat_train = pca.inverse_transform(transformed_train.to_numpy())\n",
    "    err = np.mean(np.abs((y_hat - y)))\n",
    "    err_train = np.mean(np.abs((y_hat_train - y_train)))\n",
    "    errs.append(err)\n",
    "    errs_train.append(err_train)"
   ]
  },
  {
   "cell_type": "code",
   "execution_count": 94,
   "metadata": {},
   "outputs": [
    {
     "data": {
      "image/png": "[encoded data removed]",
      "text/plain": [
       "<Figure size 640x480 with 1 Axes>"
      ]
     },
     "metadata": {},
     "output_type": "display_data"
    }
   ],
   "source": [
    "plt.plot(errs_train)\n",
    "plt.xlabel(\"Num PCA Components\")\n",
    "plt.ylabel(\"Reconstruction MAE\")\n",
    "plt.xticks(range(0, N, 2))\n",
    "plt.show()"
   ]
  },
  {
   "cell_type": "code",
   "execution_count": 95,
   "metadata": {},
   "outputs": [
    {
     "data": {
      "image/png": "[encoded data removed]",
      "text/plain": [
       "<Figure size 640x480 with 1 Axes>"
      ]
     },
     "metadata": {},
     "output_type": "display_data"
    }
   ],
   "source": [
    "plt.plot(errs)\n",
    "plt.xlabel(\"Num PCA Components\")\n",
    "plt.ylabel(\"Reconstruction MAE\")\n",
    "plt.xticks(range(0, N, 2))\n",
    "plt.show()"
   ]
  },
  {
   "cell_type": "code",
   "execution_count": null,
   "metadata": {},
   "outputs": [
    {
     "data": {
      "text/html": [
       "<div>\n",
       "<style scoped>\n",
       "    .dataframe tbody tr th:only-of-type {\n",
       "        vertical-align: middle;\n",
       "    }\n",
       "\n",
       "    .dataframe tbody tr th {\n",
       "        vertical-align: top;\n",
       "    }\n",
       "\n",
       "    .dataframe thead th {\n",
       "        text-align: right;\n",
       "    }\n",
       "</style>\n",
       "<table border=\"1\" class=\"dataframe\">\n",
       "  <thead>\n",
       "    <tr style=\"text-align: right;\">\n",
       "      <th></th>\n",
       "      <th>0</th>\n",
       "      <th>1</th>\n",
       "    </tr>\n",
       "  </thead>\n",
       "  <tbody>\n",
       "    <tr>\n",
       "      <th>count</th>\n",
       "      <td>1.306000e+03</td>\n",
       "      <td>1.306000e+03</td>\n",
       "    </tr>\n",
       "    <tr>\n",
       "      <th>mean</th>\n",
       "      <td>-8.269716e-16</td>\n",
       "      <td>1.028274e-15</td>\n",
       "    </tr>\n",
       "    <tr>\n",
       "      <th>std</th>\n",
       "      <td>6.675052e+00</td>\n",
       "      <td>2.087950e+00</td>\n",
       "    </tr>\n",
       "    <tr>\n",
       "      <th>min</th>\n",
       "      <td>-8.524946e-01</td>\n",
       "      <td>-2.112935e+01</td>\n",
       "    </tr>\n",
       "    <tr>\n",
       "      <th>25%</th>\n",
       "      <td>-7.694829e-01</td>\n",
       "      <td>-1.570373e-01</td>\n",
       "    </tr>\n",
       "    <tr>\n",
       "      <th>50%</th>\n",
       "      <td>-7.596435e-01</td>\n",
       "      <td>-1.400307e-01</td>\n",
       "    </tr>\n",
       "    <tr>\n",
       "      <th>75%</th>\n",
       "      <td>-7.465636e-01</td>\n",
       "      <td>-1.178046e-01</td>\n",
       "    </tr>\n",
       "    <tr>\n",
       "      <th>max</th>\n",
       "      <td>1.674775e+02</td>\n",
       "      <td>4.562343e+01</td>\n",
       "    </tr>\n",
       "  </tbody>\n",
       "</table>\n",
       "</div>"
      ],
      "text/plain": [
       "                  0             1\n",
       "count  1.306000e+03  1.306000e+03\n",
       "mean  -8.269716e-16  1.028274e-15\n",
       "std    6.675052e+00  2.087950e+00\n",
       "min   -8.524946e-01 -2.112935e+01\n",
       "25%   -7.694829e-01 -1.570373e-01\n",
       "50%   -7.596435e-01 -1.400307e-01\n",
       "75%   -7.465636e-01 -1.178046e-01\n",
       "max    1.674775e+02  4.562343e+01"
      ]
     },
     "execution_count": 121,
     "metadata": {},
     "output_type": "execute_result"
    }
   ],
   "source": [
    "transformed = pd.DataFrame(pca.transform(OU_df_test))\n",
    "np.mean((transformed - OU_df_test) ** 2)\n",
    "transformed.describe()"
   ]
  },
  {
   "cell_type": "code",
   "execution_count": null,
   "metadata": {},
   "outputs": [
    {
     "data": {
      "text/plain": [
       "<matplotlib.collections.PathCollection at 0x7f644430a890>"
      ]
     },
     "execution_count": 122,
     "metadata": {},
     "output_type": "execute_result"
    },
    {
     "data": {
      "image/png": "[encoded data removed]",
      "text/plain": [
       "<Figure size 640x480 with 1 Axes>"
      ]
     },
     "metadata": {},
     "output_type": "display_data"
    }
   ],
   "source": [
    "plt.scatter(transformed.iloc[:, 0], transformed.iloc[:, 1])"
   ]
  },
  {
   "cell_type": "code",
   "execution_count": null,
   "metadata": {},
   "outputs": [],
   "source": []
  },
  {
   "cell_type": "code",
   "execution_count": null,
   "metadata": {},
   "outputs": [],
   "source": [
    "var_values = pca.eigenvalues_ / sum(pca.eigenvalues_)"
   ]
  },
  {
   "cell_type": "code",
   "execution_count": null,
   "metadata": {},
   "outputs": [
    {
     "data": {
      "text/plain": [
       "<BarContainer object of 2 artists>"
      ]
     },
     "execution_count": 124,
     "metadata": {},
     "output_type": "execute_result"
    },
    {
     "data": {
      "image/png": "[encoded data removed]",
      "text/plain": [
       "<Figure size 640x480 with 1 Axes>"
      ]
     },
     "metadata": {},
     "output_type": "display_data"
    }
   ],
   "source": [
    "plt.bar(range(len(pca.eigenvalues_)), pca.eigenvalues_)"
   ]
  },
  {
   "cell_type": "code",
   "execution_count": null,
   "metadata": {},
   "outputs": [
    {
     "data": {
      "text/plain": [
       "array([[ 7.93796625e-04, -1.11287757e-03],\n",
       "       [-1.19143997e-03,  4.08653710e-05],\n",
       "       [-3.08665633e-03, -1.01196669e-03],\n",
       "       ...,\n",
       "       [-3.11366599e-03, -9.71886067e-04],\n",
       "       [-3.18918855e-03, -1.63112170e-03],\n",
       "       [-3.24214580e-03, -2.23439779e-03]])"
      ]
     },
     "execution_count": 125,
     "metadata": {},
     "output_type": "execute_result"
    }
   ],
   "source": [
    "pca.eigenvectors_"
   ]
  },
  {
   "cell_type": "code",
   "execution_count": null,
   "metadata": {},
   "outputs": [
    {
     "data": {
      "text/plain": [
       "[<matplotlib.lines.Line2D at 0x7f644429e890>]"
      ]
     },
     "execution_count": 119,
     "metadata": {},
     "output_type": "execute_result"
    },
    {
     "data": {
      "image/png": "[encoded data removed]",
      "text/plain": [
       "<Figure size 640x480 with 1 Axes>"
      ]
     },
     "metadata": {},
     "output_type": "display_data"
    }
   ],
   "source": [
    "plt.plot(np.cumsum(var_values))"
   ]
  },
  {
   "cell_type": "code",
   "execution_count": null,
   "metadata": {},
   "outputs": [
    {
     "data": {
      "text/plain": [
       "array([0.77770693, 0.91350178, 0.97026415, 0.98695518, 0.99285695,\n",
       "       0.99596471, 0.99832446, 1.        ])"
      ]
     },
     "execution_count": 76,
     "metadata": {},
     "output_type": "execute_result"
    }
   ],
   "source": [
    "np.cumsum(var_values)"
   ]
  },
  {
   "cell_type": "code",
   "execution_count": 6,
   "metadata": {},
   "outputs": [
    {
     "ename": "NameError",
     "evalue": "name 'pca' is not defined",
     "output_type": "error",
     "traceback": [
      "\u001b[0;31m---------------------------------------------------------------------------\u001b[0m",
      "\u001b[0;31mNameError\u001b[0m                                 Traceback (most recent call last)",
      "Cell \u001b[0;32mIn [6], line 3\u001b[0m\n\u001b[1;32m      1\u001b[0m \u001b[39m# sample = np.random.uniform(-0.5, 0, [1, 3])\u001b[39;00m\n\u001b[1;32m      2\u001b[0m sample \u001b[39m=\u001b[39m np\u001b[39m.\u001b[39marray([[\u001b[39m-\u001b[39m\u001b[39m0.3\u001b[39m, \u001b[39m-\u001b[39m\u001b[39m0.3\u001b[39m]])\n\u001b[0;32m----> 3\u001b[0m sampled_OU_vars \u001b[39m=\u001b[39m pca\u001b[39m.\u001b[39minverse_transform(sample)\n\u001b[1;32m      4\u001b[0m sampled_OU_vars \u001b[39m=\u001b[39m sampled_OU_vars \u001b[39m*\u001b[39m np\u001b[39m.\u001b[39marray(OU_std)[\u001b[39mNone\u001b[39;00m, \u001b[39m-\u001b[39m\u001b[39m1\u001b[39m] \u001b[39m+\u001b[39m np\u001b[39m.\u001b[39marray(OU_mean)[\u001b[39mNone\u001b[39;00m, \u001b[39m-\u001b[39m\u001b[39m1\u001b[39m]\n\u001b[1;32m      5\u001b[0m \u001b[39mfor\u001b[39;00m i, column \u001b[39min\u001b[39;00m \u001b[39menumerate\u001b[39m(OU_df\u001b[39m.\u001b[39mcolumns):\n",
      "\u001b[0;31mNameError\u001b[0m: name 'pca' is not defined"
     ]
    }
   ],
   "source": [
    "# sample = np.random.uniform(-0.5, 0, [1, 3])\n",
    "sample = np.array([[-0.3, -0.3]])\n",
    "sampled_OU_vars = pca.inverse_transform(sample)\n",
    "sampled_OU_vars = sampled_OU_vars * np.array(OU_std)[None, -1] + np.array(OU_mean)[None, -1]\n",
    "for i, column in enumerate(OU_df.columns):\n",
    "    delim_idx = column.rfind(\"_\")\n",
    "    var = column[:delim_idx]\n",
    "    idx = int(column[delim_idx+1:])\n",
    "    if idx in [0, 1]:\n",
    "        sampled_OU_vars[:, i] *= df_std[i//3] "
   ]
  },
  {
   "cell_type": "code",
   "execution_count": null,
   "metadata": {},
   "outputs": [
    {
     "data": {
      "text/plain": [
       "array([[ 1.15197666e-01,  5.88705456e-02,  1.10393279e-02,\n",
       "         5.68928025e-01,  4.90173945e-01,  1.25435133e-02,\n",
       "         1.73161601e+00, -2.30601462e-01,  4.60245482e-03,\n",
       "         6.56153389e+00, -2.47905661e+00,  1.04214325e-02,\n",
       "         1.15790175e+00,  1.88424314e+00,  1.54764318e-03,\n",
       "        -6.02650563e-03, -1.09495855e-02, -4.45272765e-03,\n",
       "         1.91677952e+00,  1.43492619e+00,  9.96606690e-03,\n",
       "         3.45718620e-03,  4.49754055e-03,  3.94053261e-03]])"
      ]
     },
     "execution_count": 54,
     "metadata": {},
     "output_type": "execute_result"
    }
   ],
   "source": [
    "sampled_OU_vars"
   ]
  },
  {
   "cell_type": "code",
   "execution_count": null,
   "metadata": {},
   "outputs": [
    {
     "data": {
      "text/plain": [
       "(24,)"
      ]
     },
     "execution_count": 20,
     "metadata": {},
     "output_type": "execute_result"
    }
   ],
   "source": [
    "OU_std.shape"
   ]
  },
  {
   "cell_type": "code",
   "execution_count": null,
   "metadata": {},
   "outputs": [
    {
     "data": {
      "text/plain": [
       "drybulb        21.705537\n",
       "relhum         34.918037\n",
       "winddir       191.359932\n",
       "dirnorrad     278.224429\n",
       "difhorrad      61.551027\n",
       "windspd         3.279737\n",
       "precip_wtr    150.351941\n",
       "snowdepth       0.000000\n",
       "dtype: float64"
      ]
     },
     "execution_count": 25,
     "metadata": {},
     "output_type": "execute_result"
    }
   ],
   "source": [
    "df_mean"
   ]
  },
  {
   "cell_type": "code",
   "execution_count": null,
   "metadata": {},
   "outputs": [],
   "source": []
  }
 ],
 "metadata": {
  "kernelspec": {
   "display_name": "ActiveRL",
   "language": "python",
   "name": "python3"
  },
  "language_info": {
   "codemirror_mode": {
    "name": "ipython",
    "version": 3
   },
   "file_extension": ".py",
   "mimetype": "text/x-python",
   "name": "python",
   "nbconvert_exporter": "python",
   "pygments_lexer": "ipython3",
   "version": "3.10.8"
  },
  "orig_nbformat": 4,
  "vscode": {
   "interpreter": {
    "hash": "05ed386050a6f61d6ae19bb50f9ad90c7e2b03875ed318bf31de6d12a39305c0"
   }
  }
 },
 "nbformat": 4,
 "nbformat_minor": 2
}
