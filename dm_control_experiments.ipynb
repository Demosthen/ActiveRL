{
 "cells": [
  {
   "cell_type": "code",
   "execution_count": 1,
   "metadata": {},
   "outputs": [],
   "source": [
    "# The basic mujoco wrapper.\n",
    "from dm_control import mujoco\n",
    "\n",
    "# Access to enums and MuJoCo library functions.\n",
    "from dm_control.mujoco.wrapper.mjbindings import enums\n",
    "from dm_control.mujoco.wrapper.mjbindings import mjlib\n",
    "\n",
    "# PyMJCF\n",
    "from dm_control import mjcf\n",
    "\n",
    "# Composer high level imports\n",
    "from dm_control import composer\n",
    "from dm_control.composer.observation import observable\n",
    "from dm_control.composer import variation\n",
    "\n",
    "# Imports for Composer tutorial example\n",
    "from dm_control.composer.variation import distributions\n",
    "from dm_control.composer.variation import noises\n",
    "from dm_control.locomotion.arenas import floors\n",
    "\n",
    "# Control Suite\n",
    "from dm_control import suite\n",
    "\n",
    "# Run through corridor example\n",
    "from dm_control.locomotion.walkers import cmu_humanoid, ant\n",
    "from dm_control.locomotion.arenas import corridors as corridor_arenas, mazes as maze_arenas\n",
    "from dm_control.locomotion.tasks import corridors as corridor_tasks, RepeatSingleGoalMaze, RepeatSingleGoalMazeAugmentedWithTargets\n",
    "\n",
    "# Soccer\n",
    "from dm_control.locomotion import soccer\n",
    "\n",
    "# Manipulation\n",
    "from dm_control import manipulation\n",
    "import labmaze\n",
    "from dm_wrapper import DMEnvWrapper"
   ]
  },
  {
   "cell_type": "code",
   "execution_count": 2,
   "metadata": {},
   "outputs": [],
   "source": [
    "#@title Other imports and helper functions\n",
    "\n",
    "# General\n",
    "import copy\n",
    "import os\n",
    "import itertools\n",
    "from IPython.display import clear_output\n",
    "import numpy as np\n",
    "\n",
    "# Graphics-related\n",
    "import matplotlib\n",
    "import matplotlib.animation as animation\n",
    "import matplotlib.pyplot as plt\n",
    "from IPython.display import HTML\n",
    "import PIL.Image\n",
    "# Internal loading of video libraries.\n",
    "\n",
    "# Use svg backend for figure rendering\n",
    "%config InlineBackend.figure_format = 'svg'\n",
    "\n",
    "# Font sizes\n",
    "SMALL_SIZE = 8\n",
    "MEDIUM_SIZE = 10\n",
    "BIGGER_SIZE = 12\n",
    "plt.rc('font', size=SMALL_SIZE)          # controls default text sizes\n",
    "plt.rc('axes', titlesize=SMALL_SIZE)     # fontsize of the axes title\n",
    "plt.rc('axes', labelsize=MEDIUM_SIZE)    # fontsize of the x and y labels\n",
    "plt.rc('xtick', labelsize=SMALL_SIZE)    # fontsize of the tick labels\n",
    "plt.rc('ytick', labelsize=SMALL_SIZE)    # fontsize of the tick labels\n",
    "plt.rc('legend', fontsize=SMALL_SIZE)    # legend fontsize\n",
    "plt.rc('figure', titlesize=BIGGER_SIZE)  # fontsize of the figure title\n",
    "\n",
    "# Inline video helper function\n",
    "if os.environ.get('COLAB_NOTEBOOK_TEST', False):\n",
    "  # We skip video generation during tests, as it is quite expensive.\n",
    "  display_video = lambda *args, **kwargs: None\n",
    "else:\n",
    "  def display_video(frames, framerate=30):\n",
    "    height, width, _ = frames[0].shape\n",
    "    dpi = 70\n",
    "    orig_backend = matplotlib.get_backend()\n",
    "    matplotlib.use('Agg')  # Switch to headless 'Agg' to inhibit figure rendering.\n",
    "    fig, ax = plt.subplots(1, 1, figsize=(width / dpi, height / dpi), dpi=dpi)\n",
    "    matplotlib.use(orig_backend)  # Switch back to the original backend.\n",
    "    ax.set_axis_off()\n",
    "    ax.set_aspect('equal')\n",
    "    ax.set_position([0, 0, 1, 1])\n",
    "    im = ax.imshow(frames[0])\n",
    "    def update(frame):\n",
    "      im.set_data(frame)\n",
    "      return [im]\n",
    "    interval = 1000/framerate\n",
    "    anim = animation.FuncAnimation(fig=fig, func=update, frames=frames,\n",
    "                                   interval=interval, blit=True, repeat=False)\n",
    "    return HTML(anim.to_html5_video())\n",
    "\n",
    "# Seed numpy's global RNG so that cell outputs are deterministic. We also try to\n",
    "# use RandomState instances that are local to a single cell wherever possible.\n",
    "np.random.seed(42)"
   ]
  },
  {
   "cell_type": "code",
   "execution_count": 3,
   "metadata": {},
   "outputs": [
    {
     "data": {
      "image/png": "[encoded data removed]",
      "text/plain": [
       "<PIL.Image.Image image mode=RGB size=320x240>"
      ]
     },
     "execution_count": 3,
     "metadata": {},
     "output_type": "execute_result"
    }
   ],
   "source": [
    "#@title A static model {vertical-output: true}\n",
    "\n",
    "static_model = \"\"\"\n",
    "<mujoco>\n",
    "  <worldbody>\n",
    "    <light name=\"top\" pos=\"0 0 1\"/>\n",
    "    <geom name=\"red_box\" type=\"box\" size=\".2 .2 .2\" rgba=\"1 0 0 1\"/>\n",
    "    <geom name=\"green_sphere\" pos=\".2 .2 .2\" size=\".1\" rgba=\"0 1 0 1\"/>\n",
    "  </worldbody>\n",
    "</mujoco>\n",
    "\"\"\"\n",
    "physics = mujoco.Physics.from_xml_string(static_model)\n",
    "pixels = physics.render()\n",
    "PIL.Image.fromarray(pixels)"
   ]
  },
  {
   "cell_type": "code",
   "execution_count": 6,
   "metadata": {},
   "outputs": [
    {
     "name": "stdout",
     "output_type": "stream",
     "text": [
      "P\n"
     ]
    }
   ],
   "source": [
    "walker = ant.Ant()#(observable_options={'egocentric_camera': dict(enabled=True)})\n",
    "\n",
    "# cmu_humanoid.CMUHumanoidPositionControlledV2020(\n",
    "#     observable_options={'egocentric_camera': dict(enabled=True)})\n",
    "# arena = corridor_arenas.WallsCorridor(\n",
    "#     wall_gap=3.,\n",
    "#     wall_width=distributions.Uniform(2., 3.),\n",
    "#     wall_height=distributions.Uniform(2.5, 3.5),\n",
    "#     corridor_width=4.,\n",
    "#     corridor_length=30.,\n",
    "# )\n",
    "print(labmaze.defaults.SPAWN_TOKEN)\n",
    "maze_str = \"**********\\n*.....G..*\\n*....P...*\\n**********\\n\"\n",
    "arena = maze_arenas.MazeWithTargets(maze=labmaze.FixedMazeWithRandomGoals(maze_str))\n",
    "task = RepeatSingleGoalMaze(walker, arena)\n",
    "# task = corridor_tasks.RunThroughCorridor(\n",
    "#     walker=walker,\n",
    "#     arena=arena,\n",
    "#     walker_spawn_position=(0.5, 0, 0),\n",
    "#     target_velocity=3.0,\n",
    "#     physics_timestep=0.005,\n",
    "#     control_timestep=0.03,\n",
    "# )"
   ]
  },
  {
   "cell_type": "code",
   "execution_count": 7,
   "metadata": {},
   "outputs": [
    {
     "name": "stdout",
     "output_type": "stream",
     "text": [
      "0 () (64, 64, 3)\n"
     ]
    },
    {
     "ename": "AssertionError",
     "evalue": "low.shape doesn't match provided shape",
     "output_type": "error",
     "traceback": [
      "\u001b[0;31m---------------------------------------------------------------------------\u001b[0m",
      "\u001b[0;31mAssertionError\u001b[0m                            Traceback (most recent call last)",
      "\u001b[1;32m/mnt/7076984276980B4C/ssd_backup/ActiveRL/dm_control_experiments.ipynb Cell 5\u001b[0m in \u001b[0;36m<cell line: 8>\u001b[0;34m()\u001b[0m\n\u001b[1;32m      <a href='vscode-notebook-cell:/mnt/7076984276980B4C/ssd_backup/ActiveRL/dm_control_experiments.ipynb#W4sZmlsZQ%3D%3D?line=0'>1</a>\u001b[0m config \u001b[39m=\u001b[39m {\n\u001b[1;32m      <a href='vscode-notebook-cell:/mnt/7076984276980B4C/ssd_backup/ActiveRL/dm_control_experiments.ipynb#W4sZmlsZQ%3D%3D?line=1'>2</a>\u001b[0m   \u001b[39m\"\u001b[39m\u001b[39mdm_env\u001b[39m\u001b[39m\"\u001b[39m: composer\u001b[39m.\u001b[39mEnvironment,\n\u001b[1;32m      <a href='vscode-notebook-cell:/mnt/7076984276980B4C/ssd_backup/ActiveRL/dm_control_experiments.ipynb#W4sZmlsZQ%3D%3D?line=2'>3</a>\u001b[0m   \u001b[39m\"\u001b[39m\u001b[39mtask\u001b[39m\u001b[39m\"\u001b[39m: task,\n\u001b[0;32m   (...)\u001b[0m\n\u001b[1;32m      <a href='vscode-notebook-cell:/mnt/7076984276980B4C/ssd_backup/ActiveRL/dm_control_experiments.ipynb#W4sZmlsZQ%3D%3D?line=5'>6</a>\u001b[0m   \u001b[39m\"\u001b[39m\u001b[39mtime_limit\u001b[39m\u001b[39m\"\u001b[39m: \u001b[39m10\u001b[39m\n\u001b[1;32m      <a href='vscode-notebook-cell:/mnt/7076984276980B4C/ssd_backup/ActiveRL/dm_control_experiments.ipynb#W4sZmlsZQ%3D%3D?line=6'>7</a>\u001b[0m }\n\u001b[0;32m----> <a href='vscode-notebook-cell:/mnt/7076984276980B4C/ssd_backup/ActiveRL/dm_control_experiments.ipynb#W4sZmlsZQ%3D%3D?line=7'>8</a>\u001b[0m env \u001b[39m=\u001b[39m DMEnvWrapper(config)\n\u001b[1;32m      <a href='vscode-notebook-cell:/mnt/7076984276980B4C/ssd_backup/ActiveRL/dm_control_experiments.ipynb#W4sZmlsZQ%3D%3D?line=8'>9</a>\u001b[0m env\u001b[39m.\u001b[39mreset()\n\u001b[1;32m     <a href='vscode-notebook-cell:/mnt/7076984276980B4C/ssd_backup/ActiveRL/dm_control_experiments.ipynb#W4sZmlsZQ%3D%3D?line=9'>10</a>\u001b[0m imgs \u001b[39m=\u001b[39m []\n",
      "File \u001b[0;32m/mnt/7076984276980B4C/ssd_backup/ActiveRL/dm_wrapper.py:39\u001b[0m, in \u001b[0;36mDMEnvWrapper.__init__\u001b[0;34m(self, config)\u001b[0m\n\u001b[1;32m     35\u001b[0m \u001b[39mself\u001b[39m\u001b[39m.\u001b[39menv \u001b[39m=\u001b[39m dm_env(\u001b[39m*\u001b[39m\u001b[39m*\u001b[39mconfig)\n\u001b[1;32m     36\u001b[0m \u001b[39mself\u001b[39m\u001b[39m.\u001b[39mmetadata \u001b[39m=\u001b[39m {\u001b[39m'\u001b[39m\u001b[39mrender.modes\u001b[39m\u001b[39m'\u001b[39m: [\u001b[39m'\u001b[39m\u001b[39mhuman\u001b[39m\u001b[39m'\u001b[39m, \u001b[39m'\u001b[39m\u001b[39mrgb_array\u001b[39m\u001b[39m'\u001b[39m],\n\u001b[1;32m     37\u001b[0m                  \u001b[39m'\u001b[39m\u001b[39mvideo.frames_per_second\u001b[39m\u001b[39m'\u001b[39m: \u001b[39mround\u001b[39m(\u001b[39m1.0\u001b[39m\u001b[39m/\u001b[39m\u001b[39mself\u001b[39m\u001b[39m.\u001b[39menv\u001b[39m.\u001b[39mcontrol_timestep())}\n\u001b[0;32m---> 39\u001b[0m \u001b[39mself\u001b[39m\u001b[39m.\u001b[39mobservation_space \u001b[39m=\u001b[39m convert_dm_control_to_gym_space(\u001b[39mself\u001b[39;49m\u001b[39m.\u001b[39;49menv\u001b[39m.\u001b[39;49mobservation_spec())\n\u001b[1;32m     40\u001b[0m \u001b[39mself\u001b[39m\u001b[39m.\u001b[39maction_space \u001b[39m=\u001b[39m convert_dm_control_to_gym_space(\u001b[39mself\u001b[39m\u001b[39m.\u001b[39menv\u001b[39m.\u001b[39maction_spec())\n\u001b[1;32m     41\u001b[0m \u001b[39mself\u001b[39m\u001b[39m.\u001b[39mviewer \u001b[39m=\u001b[39m \u001b[39mNone\u001b[39;00m\n",
      "File \u001b[0;32m/mnt/7076984276980B4C/ssd_backup/ActiveRL/dm_wrapper.py:26\u001b[0m, in \u001b[0;36mconvert_dm_control_to_gym_space\u001b[0;34m(dm_control_space)\u001b[0m\n\u001b[1;32m     24\u001b[0m     \u001b[39mreturn\u001b[39;00m space\n\u001b[1;32m     25\u001b[0m \u001b[39melif\u001b[39;00m \u001b[39misinstance\u001b[39m(dm_control_space, \u001b[39mdict\u001b[39m):\n\u001b[0;32m---> 26\u001b[0m     space \u001b[39m=\u001b[39m spaces\u001b[39m.\u001b[39mDict({key: convert_dm_control_to_gym_space(value)\n\u001b[1;32m     27\u001b[0m                          \u001b[39mfor\u001b[39;00m key, value \u001b[39min\u001b[39;00m dm_control_space\u001b[39m.\u001b[39mitems()})\n\u001b[1;32m     28\u001b[0m     \u001b[39mreturn\u001b[39;00m space\n",
      "File \u001b[0;32m/mnt/7076984276980B4C/ssd_backup/ActiveRL/dm_wrapper.py:26\u001b[0m, in \u001b[0;36m<dictcomp>\u001b[0;34m(.0)\u001b[0m\n\u001b[1;32m     24\u001b[0m     \u001b[39mreturn\u001b[39;00m space\n\u001b[1;32m     25\u001b[0m \u001b[39melif\u001b[39;00m \u001b[39misinstance\u001b[39m(dm_control_space, \u001b[39mdict\u001b[39m):\n\u001b[0;32m---> 26\u001b[0m     space \u001b[39m=\u001b[39m spaces\u001b[39m.\u001b[39mDict({key: convert_dm_control_to_gym_space(value)\n\u001b[1;32m     27\u001b[0m                          \u001b[39mfor\u001b[39;00m key, value \u001b[39min\u001b[39;00m dm_control_space\u001b[39m.\u001b[39mitems()})\n\u001b[1;32m     28\u001b[0m     \u001b[39mreturn\u001b[39;00m space\n",
      "File \u001b[0;32m/mnt/7076984276980B4C/ssd_backup/ActiveRL/dm_wrapper.py:12\u001b[0m, in \u001b[0;36mconvert_dm_control_to_gym_space\u001b[0;34m(dm_control_space)\u001b[0m\n\u001b[1;32m     10\u001b[0m \u001b[39mif\u001b[39;00m \u001b[39misinstance\u001b[39m(dm_control_space, specs\u001b[39m.\u001b[39mBoundedArray):\n\u001b[1;32m     11\u001b[0m     \u001b[39mprint\u001b[39m(dm_control_space\u001b[39m.\u001b[39mminimum, dm_control_space\u001b[39m.\u001b[39mminimum\u001b[39m.\u001b[39mshape, dm_control_space\u001b[39m.\u001b[39mshape)\n\u001b[0;32m---> 12\u001b[0m     space \u001b[39m=\u001b[39m spaces\u001b[39m.\u001b[39;49mBox(low\u001b[39m=\u001b[39;49mdm_control_space\u001b[39m.\u001b[39;49mminimum,\n\u001b[1;32m     13\u001b[0m                        high\u001b[39m=\u001b[39;49mdm_control_space\u001b[39m.\u001b[39;49mmaximum, \n\u001b[1;32m     14\u001b[0m                        dtype\u001b[39m=\u001b[39;49mdm_control_space\u001b[39m.\u001b[39;49mdtype,\n\u001b[1;32m     15\u001b[0m                        shape\u001b[39m=\u001b[39;49mdm_control_space\u001b[39m.\u001b[39;49mshape)\n\u001b[1;32m     17\u001b[0m     \u001b[39massert\u001b[39;00m space\u001b[39m.\u001b[39mshape \u001b[39m==\u001b[39m dm_control_space\u001b[39m.\u001b[39mshape\n\u001b[1;32m     18\u001b[0m     \u001b[39mreturn\u001b[39;00m space\n",
      "File \u001b[0;32m~/miniconda3/envs/ActiveRL/lib/python3.10/site-packages/gym/spaces/box.py:74\u001b[0m, in \u001b[0;36mBox.__init__\u001b[0;34m(self, low, high, shape, dtype, seed)\u001b[0m\n\u001b[1;32m     71\u001b[0m high \u001b[39m=\u001b[39m _broadcast(high, dtype, shape, inf_sign\u001b[39m=\u001b[39m\u001b[39m\"\u001b[39m\u001b[39m+\u001b[39m\u001b[39m\"\u001b[39m)  \u001b[39m# type: ignore\u001b[39;00m\n\u001b[1;32m     73\u001b[0m \u001b[39massert\u001b[39;00m \u001b[39misinstance\u001b[39m(low, np\u001b[39m.\u001b[39mndarray)\n\u001b[0;32m---> 74\u001b[0m \u001b[39massert\u001b[39;00m low\u001b[39m.\u001b[39mshape \u001b[39m==\u001b[39m shape, \u001b[39m\"\u001b[39m\u001b[39mlow.shape doesn\u001b[39m\u001b[39m'\u001b[39m\u001b[39mt match provided shape\u001b[39m\u001b[39m\"\u001b[39m\n\u001b[1;32m     75\u001b[0m \u001b[39massert\u001b[39;00m \u001b[39misinstance\u001b[39m(high, np\u001b[39m.\u001b[39mndarray)\n\u001b[1;32m     76\u001b[0m \u001b[39massert\u001b[39;00m high\u001b[39m.\u001b[39mshape \u001b[39m==\u001b[39m shape, \u001b[39m\"\u001b[39m\u001b[39mhigh.shape doesn\u001b[39m\u001b[39m'\u001b[39m\u001b[39mt match provided shape\u001b[39m\u001b[39m\"\u001b[39m\n",
      "\u001b[0;31mAssertionError\u001b[0m: low.shape doesn't match provided shape"
     ]
    }
   ],
   "source": [
    "config = {\n",
    "  \"dm_env\": composer.Environment,\n",
    "  \"task\": task,\n",
    "  \"random_state\": np.random.RandomState(42),\n",
    "  \"strip_singleton_obs_buffer_dim\": True,\n",
    "  \"time_limit\": 10\n",
    "}\n",
    "env = DMEnvWrapper(config)\n",
    "env.reset()\n",
    "imgs = []\n",
    "print(env.action_space.shape)\n",
    "for i in range(10):\n",
    "  env.step(env.action_space.sample())\n",
    "  pixels = []\n",
    "  for camera_id in range(3):\n",
    "    pixels.append(env.physics.render(camera_id=camera_id, width=240))\n",
    "  PIL.Image.fromarray(np.hstack(pixels))"
   ]
  },
  {
   "cell_type": "code",
   "execution_count": null,
   "metadata": {},
   "outputs": [],
   "source": []
  }
 ],
 "metadata": {
  "kernelspec": {
   "display_name": "Python 3.10.4 ('ActiveRL')",
   "language": "python",
   "name": "python3"
  },
  "language_info": {
   "codemirror_mode": {
    "name": "ipython",
    "version": 3
   },
   "file_extension": ".py",
   "mimetype": "text/x-python",
   "name": "python",
   "nbconvert_exporter": "python",
   "pygments_lexer": "ipython3",
   "version": "3.10.4"
  },
  "orig_nbformat": 4,
  "vscode": {
   "interpreter": {
    "hash": "05ed386050a6f61d6ae19bb50f9ad90c7e2b03875ed318bf31de6d12a39305c0"
   }
  }
 },
 "nbformat": 4,
 "nbformat_minor": 2
}
