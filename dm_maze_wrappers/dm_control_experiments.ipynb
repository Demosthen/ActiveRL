{
 "cells": [
  {
   "cell_type": "code",
   "execution_count": 1,
   "metadata": {},
   "outputs": [
    {
     "data": {
      "text/plain": [
       "<CDLL 'libGL.so.1', handle 230d430 at 0x7f740c1d25f0>"
      ]
     },
     "execution_count": 1,
     "metadata": {},
     "output_type": "execute_result"
    }
   ],
   "source": [
    "import ctypes\n",
    "import ctypes.util\n",
    "ctypes.CDLL(ctypes.util.find_library('GL'), ctypes.RTLD_GLOBAL)"
   ]
  },
  {
   "cell_type": "code",
   "execution_count": 2,
   "metadata": {},
   "outputs": [
    {
     "name": "stderr",
     "output_type": "stream",
     "text": [
      "/mnt/7076984276980B4C/ssd_backup/ActiveRL/dm_maze/dm_wrapper.py:3: DeprecationWarning: the imp module is deprecated in favour of importlib and slated for removal in Python 3.12; see the module's documentation for alternative uses\n",
      "  import imp\n"
     ]
    }
   ],
   "source": [
    "# The basic mujoco wrapper.\n",
    "from dm_control import mujoco\n",
    "\n",
    "# Access to enums and MuJoCo library functions.\n",
    "from dm_control.mujoco.wrapper.mjbindings import enums\n",
    "from dm_control.mujoco.wrapper.mjbindings import mjlib\n",
    "\n",
    "# PyMJCF\n",
    "from dm_control import mjcf\n",
    "\n",
    "# Composer high level imports\n",
    "from dm_control import composer\n",
    "from dm_control.composer.observation import observable\n",
    "from dm_control.composer import variation\n",
    "\n",
    "# Imports for Composer tutorial example\n",
    "from dm_control.composer.variation import distributions\n",
    "from dm_control.composer.variation import noises\n",
    "from dm_control.locomotion.arenas import floors\n",
    "\n",
    "# Control Suite\n",
    "from dm_control import suite\n",
    "\n",
    "# Run through corridor example\n",
    "from dm_control.locomotion.walkers import cmu_humanoid, ant\n",
    "from dm_control.locomotion.arenas import corridors as corridor_arenas, mazes as maze_arenas\n",
    "from dm_control.locomotion.tasks import corridors as corridor_tasks, RepeatSingleGoalMaze, RepeatSingleGoalMazeAugmentedWithTargets\n",
    "\n",
    "# Soccer\n",
    "from dm_control.locomotion import soccer\n",
    "\n",
    "# Manipulation\n",
    "from dm_control import manipulation\n",
    "import labmaze\n",
    "from dm_maze.dm_wrapper import DM_Maze_Wrapper\n",
    "from dm_maze.dm_maze import DM_Maze_Task, DM_Maze_Arena, DM_Maze_Env\n",
    "from utils import read_gridworld, grid_desc_to_dm"
   ]
  },
  {
   "cell_type": "code",
   "execution_count": 3,
   "metadata": {},
   "outputs": [],
   "source": [
    "#@title Other imports and helper functions\n",
    "\n",
    "# General\n",
    "import copy\n",
    "import os\n",
    "import itertools\n",
    "from IPython.display import clear_output\n",
    "import numpy as np\n",
    "\n",
    "# Graphics-related\n",
    "import matplotlib\n",
    "import matplotlib.animation as animation\n",
    "import matplotlib.pyplot as plt\n",
    "from IPython.display import HTML\n",
    "import PIL.Image\n",
    "# Internal loading of video libraries.\n",
    "\n",
    "# Use svg backend for figure rendering\n",
    "%config InlineBackend.figure_format = 'svg'\n",
    "\n",
    "# Font sizes\n",
    "SMALL_SIZE = 8\n",
    "MEDIUM_SIZE = 10\n",
    "BIGGER_SIZE = 12\n",
    "plt.rc('font', size=SMALL_SIZE)          # controls default text sizes\n",
    "plt.rc('axes', titlesize=SMALL_SIZE)     # fontsize of the axes title\n",
    "plt.rc('axes', labelsize=MEDIUM_SIZE)    # fontsize of the x and y labels\n",
    "plt.rc('xtick', labelsize=SMALL_SIZE)    # fontsize of the tick labels\n",
    "plt.rc('ytick', labelsize=SMALL_SIZE)    # fontsize of the tick labels\n",
    "plt.rc('legend', fontsize=SMALL_SIZE)    # legend fontsize\n",
    "plt.rc('figure', titlesize=BIGGER_SIZE)  # fontsize of the figure title\n",
    "\n",
    "# Inline video helper function\n",
    "if os.environ.get('COLAB_NOTEBOOK_TEST', False):\n",
    "  # We skip video generation during tests, as it is quite expensive.\n",
    "  display_video = lambda *args, **kwargs: None\n",
    "else:\n",
    "  def display_video(frames, framerate=30):\n",
    "    height, width, _ = frames[0].shape\n",
    "    dpi = 70\n",
    "    orig_backend = matplotlib.get_backend()\n",
    "    matplotlib.use('Agg')  # Switch to headless 'Agg' to inhibit figure rendering.\n",
    "    fig, ax = plt.subplots(1, 1, figsize=(width / dpi, height / dpi), dpi=dpi)\n",
    "    matplotlib.use(orig_backend)  # Switch back to the original backend.\n",
    "    ax.set_axis_off()\n",
    "    ax.set_aspect('equal')\n",
    "    ax.set_position([0, 0, 1, 1])\n",
    "    im = ax.imshow(frames[0])\n",
    "    def update(frame):\n",
    "      im.set_data(frame)\n",
    "      return [im]\n",
    "    interval = 1000/framerate\n",
    "    anim = animation.FuncAnimation(fig=fig, func=update, frames=frames,\n",
    "                                   interval=interval, blit=True, repeat=False)\n",
    "    return HTML(anim.to_html5_video())\n",
    "\n",
    "# Seed numpy's global RNG so that cell outputs are deterministic. We also try to\n",
    "# use RandomState instances that are local to a single cell wherever possible.\n",
    "np.random.seed(42)"
   ]
  },
  {
   "cell_type": "code",
   "execution_count": 4,
   "metadata": {},
   "outputs": [
    {
     "data": {
      "image/png": "[encoded data removed]",
      "text/plain": [
       "<PIL.Image.Image image mode=RGB size=320x240>"
      ]
     },
     "execution_count": 4,
     "metadata": {},
     "output_type": "execute_result"
    }
   ],
   "source": [
    "#@title A static model {vertical-output: true}\n",
    "\n",
    "static_model = \"\"\"\n",
    "<mujoco>\n",
    "  <worldbody>\n",
    "    <light name=\"top\" pos=\"0 0 1\"/>\n",
    "    <geom name=\"red_box\" type=\"box\" size=\".2 .2 .2\" rgba=\"1 0 0 1\"/>\n",
    "    <geom name=\"green_sphere\" pos=\".2 .2 .2\" size=\".1\" rgba=\"0 1 0 1\"/>\n",
    "  </worldbody>\n",
    "</mujoco>\n",
    "\"\"\"\n",
    "physics = mujoco.Physics.from_xml_string(static_model)\n",
    "pixels = physics.render()\n",
    "PIL.Image.fromarray(pixels)"
   ]
  },
  {
   "cell_type": "code",
   "execution_count": 5,
   "metadata": {},
   "outputs": [
    {
     "data": {
      "text/plain": [
       "dict_keys(['__name__', '__doc__', '__package__', '__loader__', '__spec__', '__file__', '__cached__', '__builtins__', 'MAX_ROOMS', 'ROOM_MIN_SIZE', 'ROOM_MAX_SIZE', 'RETRY_COUNT', 'EXTRA_CONNECTION_PROBABILITY', 'MAX_VARIATIONS', 'HAS_DOORS', 'SIMPLIFY', 'SPAWN_COUNT', 'SPAWN_TOKEN', 'OBJECT_COUNT', 'OBJECT_TOKEN'])"
      ]
     },
     "execution_count": 5,
     "metadata": {},
     "output_type": "execute_result"
    }
   ],
   "source": [
    "labmaze.defaults.__dict__.keys()"
   ]
  },
  {
   "cell_type": "code",
   "execution_count": 6,
   "metadata": {},
   "outputs": [
    {
     "name": "stdout",
     "output_type": "stream",
     "text": [
      "['WWWEEEEEG', 'EEEREEEEE', 'EEEWEEEEE', 'EEEWWEEEE', 'WWWEEWEEE', 'WBEEEWEEE', 'WBEBEWEEE', 'WEEBEREEE', 'WWWWWSEEE']\n",
      "***********\n",
      "****.....G*\n",
      "*.........*\n",
      "*...*.....*\n",
      "*...**....*\n",
      "****..*...*\n",
      "**G...*...*\n",
      "**G.G.*...*\n",
      "**..G.....*\n",
      "******P...*\n",
      "***********\n",
      "\n",
      "(array([ 2., -8.,  0.]),)\n"
     ]
    }
   ],
   "source": [
    "walker = ant.Ant()\n",
    "grid_desc, rew_map, wind_p = read_gridworld(\"gridworlds/bad_bubble.txt\")\n",
    "print(grid_desc)\n",
    "maze_str, subtarget_rews = grid_desc_to_dm(grid_desc, rew_map, wind_p)\n",
    "print(maze_str)\n",
    "# maze_str = \"**********\\n*........*\\n*..G..G..*\\n*....P...*\\n*........*\\n**********\\n\"\n",
    "# subtarget_rews = [10, -10]\n",
    "arena = DM_Maze_Arena(maze=labmaze.FixedMazeWithRandomGoals(maze_str))\n",
    "print(arena._spawn_positions)\n",
    "task = DM_Maze_Task(walker, None, arena, 1, enable_global_task_observables=True)"
   ]
  },
  {
   "cell_type": "code",
   "execution_count": 7,
   "metadata": {},
   "outputs": [
    {
     "name": "stdout",
     "output_type": "stream",
     "text": [
      "TIME LIMIT IS:  10\n"
     ]
    },
    {
     "name": "stderr",
     "output_type": "stream",
     "text": [
      "WARNING:absl:Cannot set velocity on Entity with no free joint.\n"
     ]
    },
    {
     "name": "stdout",
     "output_type": "stream",
     "text": [
      "-10.0\n"
     ]
    },
    {
     "data": {
      "image/png": "[encoded data removed]",
      "text/plain": [
       "<PIL.Image.Image image mode=RGB size=720x240>"
      ]
     },
     "metadata": {},
     "output_type": "display_data"
    }
   ],
   "source": [
    "config = {\n",
    "  \"maze_str\": maze_str, \n",
    "  \"aliveness_reward\": 0,\n",
    "  \"distance_reward_scale\": 0,\n",
    "  \"subtarget_rews\": subtarget_rews,\n",
    "  \"random_state\": np.random.RandomState(42),\n",
    "  \"strip_singleton_obs_buffer_dim\": True,\n",
    "  \"time_limit\": 10,\n",
    "  \"use_all_geoms\": True,\n",
    "  \"walker\": \"ball\"\n",
    "}\n",
    "env = DM_Maze_Wrapper(config)\n",
    "obs = env.reset({\"absolute_position\": [-1, -3, 0]})\n",
    "#print({k: o.shape for k, o in obs.items()})\n",
    "#print(obs[\"absolute_position\"])\n",
    "imgs = []\n",
    "for i in range(1):\n",
    "  observation, reward, done, info = env.step(env.action_space.sample())\n",
    "  print(reward)\n",
    "  pixels = []\n",
    "  for camera_id in range(3):\n",
    "    pixels.append(env.physics.render(camera_id=camera_id, width=240))\n",
    "  display(PIL.Image.fromarray(np.hstack(pixels)))"
   ]
  },
  {
   "cell_type": "code",
   "execution_count": null,
   "metadata": {},
   "outputs": [],
   "source": []
  },
  {
   "cell_type": "code",
   "execution_count": 8,
   "metadata": {},
   "outputs": [
    {
     "data": {
      "text/plain": [
       "[<dm_control.locomotion.props.target_sphere.TargetSphere at 0x7f7314067f40>,\n",
       " <dm_control.locomotion.props.target_sphere.TargetSphere at 0x7f7314067fa0>,\n",
       " <dm_control.locomotion.props.target_sphere.TargetSphere at 0x7f73140a9510>,\n",
       " <dm_control.locomotion.props.target_sphere.TargetSphere at 0x7f73140d2a10>,\n",
       " <dm_control.locomotion.props.target_sphere.TargetSphere at 0x7f7313efbf10>]"
      ]
     },
     "execution_count": 8,
     "metadata": {},
     "output_type": "execute_result"
    }
   ],
   "source": [
    "env._task._subtargets"
   ]
  },
  {
   "cell_type": "code",
   "execution_count": 9,
   "metadata": {},
   "outputs": [
    {
     "data": {
      "text/plain": [
       "[10.0, -10.0, -10.0, -10.0, -10.0]"
      ]
     },
     "execution_count": 9,
     "metadata": {},
     "output_type": "execute_result"
    }
   ],
   "source": [
    "[subtarget.activated for subtarget in env._task._subtargets]\n",
    "env._task._subtarget_rews"
   ]
  },
  {
   "cell_type": "code",
   "execution_count": 10,
   "metadata": {},
   "outputs": [
    {
     "data": {
      "text/plain": [
       "(array([4., 4., 0.]),\n",
       " array([-3., -1.,  0.]),\n",
       " array([-3., -2.,  0.]),\n",
       " array([-1., -2.,  0.]),\n",
       " array([-1., -3.,  0.]))"
      ]
     },
     "execution_count": 10,
     "metadata": {},
     "output_type": "execute_result"
    }
   ],
   "source": [
    "env._task._maze_arena.target_positions"
   ]
  },
  {
   "cell_type": "code",
   "execution_count": null,
   "metadata": {},
   "outputs": [],
   "source": []
  }
 ],
 "metadata": {
  "kernelspec": {
   "display_name": "Python 3.10.4 ('ActiveRL')",
   "language": "python",
   "name": "python3"
  },
  "language_info": {
   "codemirror_mode": {
    "name": "ipython",
    "version": 3
   },
   "file_extension": ".py",
   "mimetype": "text/x-python",
   "name": "python",
   "nbconvert_exporter": "python",
   "pygments_lexer": "ipython3",
   "version": "3.10.8"
  },
  "orig_nbformat": 4,
  "vscode": {
   "interpreter": {
    "hash": "05ed386050a6f61d6ae19bb50f9ad90c7e2b03875ed318bf31de6d12a39305c0"
   }
  }
 },
 "nbformat": 4,
 "nbformat_minor": 2
}
