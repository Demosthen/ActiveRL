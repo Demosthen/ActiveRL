{
 "cells": [
  {
   "cell_type": "code",
   "execution_count": 1,
   "metadata": {},
   "outputs": [],
   "source": [
    "import os\n",
    "import opyplus as op\n",
    "import matplotlib.pyplot as plt\n",
    "import pandas as pd\n",
    "data_path = \"../../data/sinergym/\"\n",
    "epw_files = os.listdir(data_path)\n",
    "weather_dfs = []\n",
    "base_df = None\n",
    "for file in epw_files:\n",
    "    # load weather data object\n",
    "    try:\n",
    "        if \"USA\" in file:\n",
    "            weather_data = op.WeatherData.from_epw(os.path.join(data_path, file))\n",
    "            weather_dfs.append(weather_data.get_weather_series())\n",
    "            if file == 'USA_NY_New.York-J.F.Kennedy.Intl.AP.744860_TMY3.epw':#'USA_AZ_Davis-Monthan.AFB.722745_TMY3.epw':\n",
    "                base_df = weather_dfs[-1]\n",
    "    except Exception as e:\n",
    "        print(e)"
   ]
  },
  {
   "attachments": {},
   "cell_type": "markdown",
   "metadata": {},
   "source": [
    "### Overall Process of Embedding OU Parameters into a low dimensional space:\n",
    "We model each weather file as having been generated from an OU process adding noise to the \"base\" weather of our environment. After recovering the OU parameters, we can encode them in a low dimensional space using PCA, which will capture the covariances between the parameters for each individual variable.\n",
    "\n",
    "1. Subtract each epw from base epw and rescale using base epw's std deviation\n",
    "2. Since OU process is auto-generative, we use a linear regression to predict the effect x[t] had on x[t+1]\n",
    "3. Do some math on the linear regression outputs to recover the MLE of the OU process parameters for each variable for each epw\n",
    "4. Standardize the recovered OU parameters\n",
    "5. Fit PCA to the parameters\n",
    "\n",
    "When generating new epw files:\n",
    "1. Sample a uniform random variable and multiply it by the PCA\n",
    "2. Rescale the new parameters by subtracting OU means and variances\n",
    "3. Rescale again by multiplying OU offset and std parameters by the base epw's std deviation\n"
   ]
  },
  {
   "cell_type": "code",
   "execution_count": null,
   "metadata": {},
   "outputs": [],
   "source": [
    "variables = ['drybulb', 'relhum', \"winddir\", \"dirnorrad\", \"difhorrad\", \"windspd\", \"precip_wtr\"]#, \"snowdepth\"]\n",
    "base_df = base_df[variables]\n",
    "df_mean = base_df.mean(0)\n",
    "df_std = base_df.std(0)\n",
    "df_std[df_std == 0] = 1\n",
    "dt = 1/8760"
   ]
  },
  {
   "cell_type": "code",
   "execution_count": null,
   "metadata": {},
   "outputs": [
    {
     "data": {
      "text/plain": [
       "drybulb         9.689516\n",
       "relhum         20.788645\n",
       "winddir       105.638866\n",
       "dirnorrad     253.598205\n",
       "difhorrad      99.866677\n",
       "windspd         2.467901\n",
       "precip_wtr    113.602116\n",
       "dtype: float64"
      ]
     },
     "execution_count": 3,
     "metadata": {},
     "output_type": "execute_result"
    }
   ],
   "source": [
    "df_std"
   ]
  },
  {
   "cell_type": "code",
   "execution_count": null,
   "metadata": {},
   "outputs": [],
   "source": [
    "for i in range(len(weather_dfs)):\n",
    "    weather_dfs[i] = (weather_dfs[i][variables] - base_df) / (df_std + 0.0000001)"
   ]
  },
  {
   "cell_type": "code",
   "execution_count": null,
   "metadata": {},
   "outputs": [
    {
     "data": {
      "text/html": [
       "<div>\n",
       "<style scoped>\n",
       "    .dataframe tbody tr th:only-of-type {\n",
       "        vertical-align: middle;\n",
       "    }\n",
       "\n",
       "    .dataframe tbody tr th {\n",
       "        vertical-align: top;\n",
       "    }\n",
       "\n",
       "    .dataframe thead th {\n",
       "        text-align: right;\n",
       "    }\n",
       "</style>\n",
       "<table border=\"1\" class=\"dataframe\">\n",
       "  <thead>\n",
       "    <tr style=\"text-align: right;\">\n",
       "      <th></th>\n",
       "      <th>drybulb</th>\n",
       "      <th>relhum</th>\n",
       "      <th>winddir</th>\n",
       "      <th>dirnorrad</th>\n",
       "      <th>difhorrad</th>\n",
       "      <th>windspd</th>\n",
       "      <th>precip_wtr</th>\n",
       "    </tr>\n",
       "  </thead>\n",
       "  <tbody>\n",
       "    <tr>\n",
       "      <th>count</th>\n",
       "      <td>1.294728e+07</td>\n",
       "      <td>1.294728e+07</td>\n",
       "      <td>1.294728e+07</td>\n",
       "      <td>1.294728e+07</td>\n",
       "      <td>1.294728e+07</td>\n",
       "      <td>1.294728e+07</td>\n",
       "      <td>1.294728e+07</td>\n",
       "    </tr>\n",
       "    <tr>\n",
       "      <th>mean</th>\n",
       "      <td>-7.160448e-02</td>\n",
       "      <td>-6.085656e-02</td>\n",
       "      <td>-1.333258e-01</td>\n",
       "      <td>9.089113e-02</td>\n",
       "      <td>-4.129070e-02</td>\n",
       "      <td>-4.388756e-01</td>\n",
       "      <td>-6.648374e-01</td>\n",
       "    </tr>\n",
       "    <tr>\n",
       "      <th>std</th>\n",
       "      <td>9.210296e-01</td>\n",
       "      <td>1.340783e+00</td>\n",
       "      <td>1.453158e+00</td>\n",
       "      <td>1.094890e+00</td>\n",
       "      <td>6.128332e-01</td>\n",
       "      <td>1.383258e+00</td>\n",
       "      <td>1.206316e+00</td>\n",
       "    </tr>\n",
       "    <tr>\n",
       "      <th>min</th>\n",
       "      <td>-6.594757e+00</td>\n",
       "      <td>-4.762215e+00</td>\n",
       "      <td>-3.407837e+00</td>\n",
       "      <td>-3.718481e+00</td>\n",
       "      <td>-5.557409e+00</td>\n",
       "      <td>-7.091047e+00</td>\n",
       "      <td>-4.480550e+00</td>\n",
       "    </tr>\n",
       "    <tr>\n",
       "      <th>25%</th>\n",
       "      <td>-6.398669e-01</td>\n",
       "      <td>-9.139605e-01</td>\n",
       "      <td>-1.135946e+00</td>\n",
       "      <td>0.000000e+00</td>\n",
       "      <td>-7.009345e-02</td>\n",
       "      <td>-1.256128e+00</td>\n",
       "      <td>-1.382017e+00</td>\n",
       "    </tr>\n",
       "    <tr>\n",
       "      <th>50%</th>\n",
       "      <td>-6.192260e-02</td>\n",
       "      <td>0.000000e+00</td>\n",
       "      <td>-9.466213e-02</td>\n",
       "      <td>0.000000e+00</td>\n",
       "      <td>0.000000e+00</td>\n",
       "      <td>-4.457229e-01</td>\n",
       "      <td>-6.073831e-01</td>\n",
       "    </tr>\n",
       "    <tr>\n",
       "      <th>75%</th>\n",
       "      <td>5.160217e-01</td>\n",
       "      <td>8.658573e-01</td>\n",
       "      <td>8.519592e-01</td>\n",
       "      <td>9.463789e-02</td>\n",
       "      <td>0.000000e+00</td>\n",
       "      <td>4.052027e-01</td>\n",
       "      <td>8.802653e-02</td>\n",
       "    </tr>\n",
       "    <tr>\n",
       "      <th>max</th>\n",
       "      <td>4.809322e+00</td>\n",
       "      <td>4.281183e+00</td>\n",
       "      <td>3.407837e+00</td>\n",
       "      <td>5.587579e+00</td>\n",
       "      <td>5.437249e+00</td>\n",
       "      <td>2.791846e+01</td>\n",
       "      <td>4.850262e+00</td>\n",
       "    </tr>\n",
       "  </tbody>\n",
       "</table>\n",
       "</div>"
      ],
      "text/plain": [
       "            drybulb        relhum       winddir     dirnorrad     difhorrad  \\\n",
       "count  1.294728e+07  1.294728e+07  1.294728e+07  1.294728e+07  1.294728e+07   \n",
       "mean  -7.160448e-02 -6.085656e-02 -1.333258e-01  9.089113e-02 -4.129070e-02   \n",
       "std    9.210296e-01  1.340783e+00  1.453158e+00  1.094890e+00  6.128332e-01   \n",
       "min   -6.594757e+00 -4.762215e+00 -3.407837e+00 -3.718481e+00 -5.557409e+00   \n",
       "25%   -6.398669e-01 -9.139605e-01 -1.135946e+00  0.000000e+00 -7.009345e-02   \n",
       "50%   -6.192260e-02  0.000000e+00 -9.466213e-02  0.000000e+00  0.000000e+00   \n",
       "75%    5.160217e-01  8.658573e-01  8.519592e-01  9.463789e-02  0.000000e+00   \n",
       "max    4.809322e+00  4.281183e+00  3.407837e+00  5.587579e+00  5.437249e+00   \n",
       "\n",
       "            windspd    precip_wtr  \n",
       "count  1.294728e+07  1.294728e+07  \n",
       "mean  -4.388756e-01 -6.648374e-01  \n",
       "std    1.383258e+00  1.206316e+00  \n",
       "min   -7.091047e+00 -4.480550e+00  \n",
       "25%   -1.256128e+00 -1.382017e+00  \n",
       "50%   -4.457229e-01 -6.073831e-01  \n",
       "75%    4.052027e-01  8.802653e-02  \n",
       "max    2.791846e+01  4.850262e+00  "
      ]
     },
     "execution_count": 5,
     "metadata": {},
     "output_type": "execute_result"
    }
   ],
   "source": [
    "big_df = pd.concat(weather_dfs)\n",
    "big_df.describe()"
   ]
  },
  {
   "cell_type": "code",
   "execution_count": null,
   "metadata": {},
   "outputs": [
    {
     "data": {
      "text/plain": [
       "(8760, 7)"
      ]
     },
     "execution_count": 6,
     "metadata": {},
     "output_type": "execute_result"
    }
   ],
   "source": [
    "weather_dfs[0].shape"
   ]
  },
  {
   "cell_type": "code",
   "execution_count": null,
   "metadata": {},
   "outputs": [],
   "source": [
    "from sklearn.linear_model import LinearRegression\n",
    "import numpy as np\n",
    "OU_vars = {k: [] for k in weather_dfs[0].columns}\n",
    "all_OU = []\n",
    "scores = {k: [] for k in weather_dfs[0].columns}\n",
    "all_scores = []\n",
    "coefs = []\n",
    "intercepts = []\n",
    "for i in range(len(weather_dfs)):\n",
    "    if np.any(weather_dfs[i].isna()):\n",
    "        continue\n",
    "    for j in range(weather_dfs[i].shape[-1]):\n",
    "        reg = LinearRegression()\n",
    "        split = int(8760 * 0.8)\n",
    "        X_train = np.array(weather_dfs[i].iloc[:split-1, j]).reshape([-1, 1])\n",
    "        y_train = np.array(weather_dfs[i].iloc[1:split, j]).reshape([-1, 1])\n",
    "        X_test = np.array(weather_dfs[i].iloc[split:-1, j]).reshape([-1, 1])\n",
    "        y_test = np.array(weather_dfs[i].iloc[split+1:, j]).reshape([-1, 1])\n",
    "        reg = reg.fit(X_train, y_train)\n",
    "        preds = reg.predict(X_train)\n",
    "        std = np.sqrt(np.mean((preds - y_train) ** 2))\n",
    "        score = reg.score(X_test, y_test)\n",
    "        scores[weather_dfs[i].columns[j]].append(score)\n",
    "        coef = reg.coef_.squeeze().item()\n",
    "        coefs.append(coef)\n",
    "        intercept = reg.intercept_.squeeze().item()\n",
    "        intercepts.append(intercept)\n",
    "        if coef == 0:\n",
    "            tau = 0.001\n",
    "        else:\n",
    "            tau = dt / (1 - coef) #(1 - dt) / coef\n",
    "        mu = intercept * tau / dt\n",
    "        sigma = std / (np.sqrt(dt * 2. / tau))\n",
    "\n",
    "        OU_vars[weather_dfs[i].columns[j]].append(np.array([sigma, mu, tau]))\n",
    "        all_OU.append(np.array([sigma, mu, tau]))\n",
    "        all_scores.append(score)"
   ]
  },
  {
   "cell_type": "code",
   "execution_count": null,
   "metadata": {},
   "outputs": [],
   "source": [
    "all_OU = np.stack(all_OU)\n",
    "all_scores = np.stack(all_scores)"
   ]
  },
  {
   "cell_type": "code",
   "execution_count": null,
   "metadata": {},
   "outputs": [
    {
     "data": {
      "text/html": [
       "<div>\n",
       "<style scoped>\n",
       "    .dataframe tbody tr th:only-of-type {\n",
       "        vertical-align: middle;\n",
       "    }\n",
       "\n",
       "    .dataframe tbody tr th {\n",
       "        vertical-align: top;\n",
       "    }\n",
       "\n",
       "    .dataframe thead th {\n",
       "        text-align: right;\n",
       "    }\n",
       "</style>\n",
       "<table border=\"1\" class=\"dataframe\">\n",
       "  <thead>\n",
       "    <tr style=\"text-align: right;\">\n",
       "      <th></th>\n",
       "      <th>0</th>\n",
       "    </tr>\n",
       "  </thead>\n",
       "  <tbody>\n",
       "    <tr>\n",
       "      <th>count</th>\n",
       "      <td>10346.000000</td>\n",
       "    </tr>\n",
       "    <tr>\n",
       "      <th>mean</th>\n",
       "      <td>0.727050</td>\n",
       "    </tr>\n",
       "    <tr>\n",
       "      <th>std</th>\n",
       "      <td>0.231331</td>\n",
       "    </tr>\n",
       "    <tr>\n",
       "      <th>min</th>\n",
       "      <td>0.015572</td>\n",
       "    </tr>\n",
       "    <tr>\n",
       "      <th>25%</th>\n",
       "      <td>0.537159</td>\n",
       "    </tr>\n",
       "    <tr>\n",
       "      <th>50%</th>\n",
       "      <td>0.738348</td>\n",
       "    </tr>\n",
       "    <tr>\n",
       "      <th>75%</th>\n",
       "      <td>0.951487</td>\n",
       "    </tr>\n",
       "    <tr>\n",
       "      <th>max</th>\n",
       "      <td>1.000000</td>\n",
       "    </tr>\n",
       "  </tbody>\n",
       "</table>\n",
       "</div>"
      ],
      "text/plain": [
       "                  0\n",
       "count  10346.000000\n",
       "mean       0.727050\n",
       "std        0.231331\n",
       "min        0.015572\n",
       "25%        0.537159\n",
       "50%        0.738348\n",
       "75%        0.951487\n",
       "max        1.000000"
      ]
     },
     "execution_count": 9,
     "metadata": {},
     "output_type": "execute_result"
    }
   ],
   "source": [
    "pd.DataFrame(all_scores).describe()"
   ]
  },
  {
   "cell_type": "code",
   "execution_count": null,
   "metadata": {},
   "outputs": [
    {
     "data": {
      "text/plain": [
       "{'drybulb': array([ 0.68048508, -0.05891798,  0.00575459]),\n",
       " 'relhum': array([ 1.24351845, -0.11622733,  0.00278508]),\n",
       " 'winddir': array([ 1.28718006e+00, -5.30000615e-02,  3.72765065e-04]),\n",
       " 'dirnorrad': array([1.05266948e+00, 9.44742432e-02, 6.56054318e-04]),\n",
       " 'difhorrad': array([ 5.86423264e-01, -4.11938079e-02,  3.46981015e-04]),\n",
       " 'windspd': array([ 1.19433483e+00, -3.80312654e-01,  6.74827466e-04]),\n",
       " 'precip_wtr': array([ 0.85084864, -0.7757273 ,  0.03886508])}"
      ]
     },
     "execution_count": 10,
     "metadata": {},
     "output_type": "execute_result"
    }
   ],
   "source": [
    "{k: np.mean(np.array(var), axis=0) for k, var in OU_vars.items()}"
   ]
  },
  {
   "cell_type": "code",
   "execution_count": null,
   "metadata": {},
   "outputs": [],
   "source": [
    "import os, sys\n",
    "dir = os.path.abspath('../../')\n",
    "if not dir in sys.path: sys.path.append(dir)\n",
    "from core.utils import *\n",
    "# add in default weather variability config\n",
    "weather_var_names = ['drybulb', 'relhum',\n",
    "                        \"winddir\", \"dirnorrad\", \"difhorrad\"]\n",
    "weather_var_rev_names = [\"windspd\"]\n",
    "\n",
    "# We only need to include the default evaluation variability since we'll sample the rest later\n",
    "\n",
    "weather_variabilities = build_variability_dict(weather_var_names, weather_var_rev_names, (1., 0., 0.001))\n",
    "for i, key in enumerate(variables):\n",
    "    if key in weather_variabilities:\n",
    "        scaled_variability = np.array(weather_variabilities[key])\n",
    "        scaled_variability[:2] /= df_std[i]\n",
    "        OU_vars[key] = [scaled_variability] + OU_vars[key]\n",
    "    else:\n",
    "        OU_vars[key] = [np.array([0, 0, 0.001])] + OU_vars[key]"
   ]
  },
  {
   "cell_type": "code",
   "execution_count": null,
   "metadata": {},
   "outputs": [],
   "source": [
    "OU_vars = {k: np.stack(v) for k, v in OU_vars.items()}"
   ]
  },
  {
   "cell_type": "code",
   "execution_count": null,
   "metadata": {},
   "outputs": [
    {
     "data": {
      "text/plain": [
       "{'drybulb': array([[ 0.10320433,  0.        ,  0.001     ],\n",
       "        [ 0.72809948, -0.92434893,  0.00922557],\n",
       "        [ 0.74361934, -0.95178767,  0.00975655],\n",
       "        ...,\n",
       "        [ 0.70693559,  0.2980265 ,  0.0072586 ],\n",
       "        [ 0.66297496,  0.30546955,  0.00579554],\n",
       "        [ 0.66578782,  0.55372757,  0.00579127]]),\n",
       " 'relhum': array([[ 4.81031837e-02,  0.00000000e+00,  1.00000000e-03],\n",
       "        [ 1.08817282e+00,  6.44548873e-01,  1.98388060e-03],\n",
       "        [ 1.27641529e+00,  3.12173420e-01,  2.63898593e-03],\n",
       "        ...,\n",
       "        [ 1.23941883e+00,  4.67465292e-02,  3.06642065e-03],\n",
       "        [ 1.18791890e+00,  4.58352896e-02,  2.51444873e-03],\n",
       "        [ 1.16387258e+00, -1.29800744e-02,  2.36772654e-03]]),\n",
       " 'winddir': array([[ 9.46621293e-03,  0.00000000e+00,  1.00000000e-03],\n",
       "        [ 1.26226008e+00,  7.65417772e-02,  4.05620898e-04],\n",
       "        [ 1.34279782e+00,  3.01914928e-02,  4.25358522e-04],\n",
       "        ...,\n",
       "        [ 1.26261010e+00, -1.96639442e-01,  3.35678851e-04],\n",
       "        [ 1.24449553e+00, -1.24547300e-01,  2.90019766e-04],\n",
       "        [ 1.31858239e+00, -4.44726787e-02,  3.78212167e-04]]),\n",
       " 'dirnorrad': array([[ 3.94324558e-03,  0.00000000e+00,  1.00000000e-03],\n",
       "        [ 9.60229533e-01, -4.33037809e-01,  6.54126592e-04],\n",
       "        [ 1.00032459e+00, -4.38203365e-01,  6.54066290e-04],\n",
       "        ...,\n",
       "        [ 1.04942438e+00,  6.48786860e-02,  7.12094688e-04],\n",
       "        [ 1.02902756e+00,  6.80892206e-02,  6.41695762e-04],\n",
       "        [ 9.86300367e-01,  1.64668630e-02,  5.85087778e-04]]),\n",
       " 'difhorrad': array([[ 1.00133501e-02,  0.00000000e+00,  1.00000000e-03],\n",
       "        [ 5.45792599e-01, -1.64569344e-02,  3.43213775e-04],\n",
       "        [ 6.84360459e-01, -1.20060167e-01,  3.82579713e-04],\n",
       "        ...,\n",
       "        [ 5.32886003e-01,  3.47602008e-02,  3.18721986e-04],\n",
       "        [ 5.62354742e-01,  1.48878380e-02,  3.19339103e-04],\n",
       "        [ 5.76043233e-01,  1.08813548e-01,  2.83783097e-04]]),\n",
       " 'windspd': array([[ 4.05202678e-01, -0.00000000e+00,  1.00000000e-03],\n",
       "        [ 1.70628803e+00,  4.70259481e-01,  8.70775004e-04],\n",
       "        [ 1.58151209e+00,  5.71415610e-01,  8.42797986e-04],\n",
       "        ...,\n",
       "        [ 1.13081769e+00, -4.77562862e-01,  6.39879055e-04],\n",
       "        [ 1.09357373e+00, -4.71844805e-01,  5.24275770e-04],\n",
       "        [ 1.10201070e+00, -7.81142966e-01,  6.91877354e-04]]),\n",
       " 'precip_wtr': array([[ 0.00000000e+00,  0.00000000e+00,  1.00000000e-03],\n",
       "        [ 9.77099264e-01, -2.03787258e+00,  7.81518393e-02],\n",
       "        [ 7.69380419e-01, -8.24090126e-01,  2.64853076e-02],\n",
       "        ...,\n",
       "        [ 9.25031540e-01, -1.81415160e+00,  6.75882511e-02],\n",
       "        [ 8.68744436e-01,  1.66015984e-01,  1.21727178e-02],\n",
       "        [ 7.03231757e-01,  4.80382495e-01,  1.79624739e-02]])}"
      ]
     },
     "execution_count": 13,
     "metadata": {},
     "output_type": "execute_result"
    }
   ],
   "source": [
    "OU_vars"
   ]
  },
  {
   "cell_type": "code",
   "execution_count": null,
   "metadata": {},
   "outputs": [],
   "source": [
    "from scipy import stats\n",
    "from copy import deepcopy\n",
    "from sklearn.model_selection import train_test_split\n",
    "OU_dict = {}\n",
    "for i in range(len(OU_vars[\"drybulb\"])):\n",
    "    for j, var in enumerate(variables):\n",
    "        for k in range(3):\n",
    "            OU_dict[f\"{var}_{k}\"] = OU_vars[var][:, k]\n",
    "OU_df = pd.DataFrame.from_dict(OU_dict)\n",
    "# OU_df = OU_df[(np.abs(stats.zscore(OU_df)) < 3).all(axis=1)]\n",
    "OU_df_saved = deepcopy(OU_df)\n",
    "OU_mean = OU_df.mean(axis=0)\n",
    "OU_std = OU_df.std(axis=0)\n",
    "OU_df = (OU_df - OU_df.mean(axis=0)) / (OU_df.std(axis=0))\n",
    "OU_df_train, OU_df_test = train_test_split(OU_df, test_size=0.2)"
   ]
  },
  {
   "cell_type": "code",
   "execution_count": null,
   "metadata": {},
   "outputs": [
    {
     "data": {
      "text/plain": [
       "{'drybulb': array([[ 0.10320433,  0.        ,  0.001     ],\n",
       "        [ 0.72809948, -0.92434893,  0.00922557],\n",
       "        [ 0.74361934, -0.95178767,  0.00975655],\n",
       "        ...,\n",
       "        [ 0.70693559,  0.2980265 ,  0.0072586 ],\n",
       "        [ 0.66297496,  0.30546955,  0.00579554],\n",
       "        [ 0.66578782,  0.55372757,  0.00579127]]),\n",
       " 'relhum': array([[ 4.81031837e-02,  0.00000000e+00,  1.00000000e-03],\n",
       "        [ 1.08817282e+00,  6.44548873e-01,  1.98388060e-03],\n",
       "        [ 1.27641529e+00,  3.12173420e-01,  2.63898593e-03],\n",
       "        ...,\n",
       "        [ 1.23941883e+00,  4.67465292e-02,  3.06642065e-03],\n",
       "        [ 1.18791890e+00,  4.58352896e-02,  2.51444873e-03],\n",
       "        [ 1.16387258e+00, -1.29800744e-02,  2.36772654e-03]]),\n",
       " 'winddir': array([[ 9.46621293e-03,  0.00000000e+00,  1.00000000e-03],\n",
       "        [ 1.26226008e+00,  7.65417772e-02,  4.05620898e-04],\n",
       "        [ 1.34279782e+00,  3.01914928e-02,  4.25358522e-04],\n",
       "        ...,\n",
       "        [ 1.26261010e+00, -1.96639442e-01,  3.35678851e-04],\n",
       "        [ 1.24449553e+00, -1.24547300e-01,  2.90019766e-04],\n",
       "        [ 1.31858239e+00, -4.44726787e-02,  3.78212167e-04]]),\n",
       " 'dirnorrad': array([[ 3.94324558e-03,  0.00000000e+00,  1.00000000e-03],\n",
       "        [ 9.60229533e-01, -4.33037809e-01,  6.54126592e-04],\n",
       "        [ 1.00032459e+00, -4.38203365e-01,  6.54066290e-04],\n",
       "        ...,\n",
       "        [ 1.04942438e+00,  6.48786860e-02,  7.12094688e-04],\n",
       "        [ 1.02902756e+00,  6.80892206e-02,  6.41695762e-04],\n",
       "        [ 9.86300367e-01,  1.64668630e-02,  5.85087778e-04]]),\n",
       " 'difhorrad': array([[ 1.00133501e-02,  0.00000000e+00,  1.00000000e-03],\n",
       "        [ 5.45792599e-01, -1.64569344e-02,  3.43213775e-04],\n",
       "        [ 6.84360459e-01, -1.20060167e-01,  3.82579713e-04],\n",
       "        ...,\n",
       "        [ 5.32886003e-01,  3.47602008e-02,  3.18721986e-04],\n",
       "        [ 5.62354742e-01,  1.48878380e-02,  3.19339103e-04],\n",
       "        [ 5.76043233e-01,  1.08813548e-01,  2.83783097e-04]]),\n",
       " 'windspd': array([[ 4.05202678e-01, -0.00000000e+00,  1.00000000e-03],\n",
       "        [ 1.70628803e+00,  4.70259481e-01,  8.70775004e-04],\n",
       "        [ 1.58151209e+00,  5.71415610e-01,  8.42797986e-04],\n",
       "        ...,\n",
       "        [ 1.13081769e+00, -4.77562862e-01,  6.39879055e-04],\n",
       "        [ 1.09357373e+00, -4.71844805e-01,  5.24275770e-04],\n",
       "        [ 1.10201070e+00, -7.81142966e-01,  6.91877354e-04]]),\n",
       " 'precip_wtr': array([[ 0.00000000e+00,  0.00000000e+00,  1.00000000e-03],\n",
       "        [ 9.77099264e-01, -2.03787258e+00,  7.81518393e-02],\n",
       "        [ 7.69380419e-01, -8.24090126e-01,  2.64853076e-02],\n",
       "        ...,\n",
       "        [ 9.25031540e-01, -1.81415160e+00,  6.75882511e-02],\n",
       "        [ 8.68744436e-01,  1.66015984e-01,  1.21727178e-02],\n",
       "        [ 7.03231757e-01,  4.80382495e-01,  1.79624739e-02]])}"
      ]
     },
     "execution_count": 15,
     "metadata": {},
     "output_type": "execute_result"
    }
   ],
   "source": [
    "OU_vars"
   ]
  },
  {
   "cell_type": "code",
   "execution_count": null,
   "metadata": {},
   "outputs": [
    {
     "data": {
      "text/plain": [
       "drybulb_0       0.680095\n",
       "drybulb_1      -0.058878\n",
       "drybulb_2       0.005751\n",
       "relhum_0        1.242710\n",
       "relhum_1       -0.116149\n",
       "relhum_2        0.002784\n",
       "winddir_0       1.286316\n",
       "winddir_1      -0.052964\n",
       "winddir_2       0.000373\n",
       "dirnorrad_0     1.051960\n",
       "dirnorrad_1     0.094410\n",
       "dirnorrad_2     0.000656\n",
       "difhorrad_0     0.586034\n",
       "difhorrad_1    -0.041166\n",
       "difhorrad_2     0.000347\n",
       "windspd_0       1.193801\n",
       "windspd_1      -0.380056\n",
       "windspd_2       0.000675\n",
       "precip_wtr_0    0.850273\n",
       "precip_wtr_1   -0.775203\n",
       "precip_wtr_2    0.038839\n",
       "dtype: float64"
      ]
     },
     "execution_count": 16,
     "metadata": {},
     "output_type": "execute_result"
    }
   ],
   "source": [
    "OU_mean"
   ]
  },
  {
   "cell_type": "code",
   "execution_count": null,
   "metadata": {},
   "outputs": [
    {
     "data": {
      "text/plain": [
       "drybulb_0       0.082185\n",
       "drybulb_1       0.573955\n",
       "drybulb_2       0.002094\n",
       "relhum_0        0.112415\n",
       "relhum_1        0.499962\n",
       "relhum_2        0.000514\n",
       "winddir_0       0.084830\n",
       "winddir_1       0.237867\n",
       "winddir_2       0.000064\n",
       "dirnorrad_0     0.073617\n",
       "dirnorrad_1     0.198585\n",
       "dirnorrad_2     0.000082\n",
       "difhorrad_0     0.061988\n",
       "difhorrad_1     0.089540\n",
       "difhorrad_2     0.000072\n",
       "windspd_0       0.142157\n",
       "windspd_1       0.404151\n",
       "windspd_2       0.000147\n",
       "precip_wtr_0    0.102040\n",
       "precip_wtr_1    0.938158\n",
       "precip_wtr_2    0.024787\n",
       "dtype: float64"
      ]
     },
     "execution_count": 17,
     "metadata": {},
     "output_type": "execute_result"
    }
   ],
   "source": [
    "OU_std"
   ]
  },
  {
   "cell_type": "code",
   "execution_count": null,
   "metadata": {},
   "outputs": [],
   "source": [
    "\n",
    "for i, column in enumerate(OU_df_saved.columns):\n",
    "    delim_idx = column.rfind(\"_\")\n",
    "    var = column[:delim_idx]\n",
    "    idx = int(column[delim_idx+1:])\n",
    "    if idx in [0, 1]:\n",
    "        OU_df_saved.iloc[:, i] *= df_std[i//3]\n",
    "OU_df_saved.to_csv(\"US_epw_OU_params.csv\", index=False) "
   ]
  },
  {
   "cell_type": "code",
   "execution_count": null,
   "metadata": {},
   "outputs": [
    {
     "data": {
      "text/plain": [
       "(1479, 21)"
      ]
     },
     "execution_count": 19,
     "metadata": {},
     "output_type": "execute_result"
    }
   ],
   "source": [
    "OU_df.shape\n",
    "# df_std.shape"
   ]
  },
  {
   "cell_type": "code",
   "execution_count": null,
   "metadata": {},
   "outputs": [
    {
     "name": "stderr",
     "output_type": "stream",
     "text": [
      "2023-03-02 01:30:49.769483: I tensorflow/core/platform/cpu_feature_guard.cc:193] This TensorFlow binary is optimized with oneAPI Deep Neural Network Library (oneDNN) to use the following CPU instructions in performance-critical operations:  AVX2 AVX512F AVX512_VNNI FMA\n",
      "To enable them in other operations, rebuild TensorFlow with the appropriate compiler flags.\n",
      "2023-03-02 01:30:49.862805: I tensorflow/core/util/port.cc:104] oneDNN custom operations are on. You may see slightly different numerical results due to floating-point round-off errors from different computation orders. To turn them off, set the environment variable `TF_ENABLE_ONEDNN_OPTS=0`.\n",
      "2023-03-02 01:30:49.864838: W tensorflow/compiler/xla/stream_executor/platform/default/dso_loader.cc:64] Could not load dynamic library 'libcudart.so.11.0'; dlerror: libcudart.so.11.0: cannot open shared object file: No such file or directory; LD_LIBRARY_PATH: /usr/local/cuda-11.5/lib64:/home/doseok/.mujoco/mujoco200/bin/\n",
      "2023-03-02 01:30:49.864849: I tensorflow/compiler/xla/stream_executor/cuda/cudart_stub.cc:29] Ignore above cudart dlerror if you do not have a GPU set up on your machine.\n",
      "2023-03-02 01:30:50.328753: W tensorflow/compiler/xla/stream_executor/platform/default/dso_loader.cc:64] Could not load dynamic library 'libnvinfer.so.7'; dlerror: libnvinfer.so.7: cannot open shared object file: No such file or directory; LD_LIBRARY_PATH: /usr/local/cuda-11.5/lib64:/home/doseok/.mujoco/mujoco200/bin/\n",
      "2023-03-02 01:30:50.328811: W tensorflow/compiler/xla/stream_executor/platform/default/dso_loader.cc:64] Could not load dynamic library 'libnvinfer_plugin.so.7'; dlerror: libnvinfer_plugin.so.7: cannot open shared object file: No such file or directory; LD_LIBRARY_PATH: /usr/local/cuda-11.5/lib64:/home/doseok/.mujoco/mujoco200/bin/\n",
      "2023-03-02 01:30:50.328816: W tensorflow/compiler/tf2tensorrt/utils/py_utils.cc:38] TF-TRT Warning: Cannot dlopen some TensorRT libraries. If you would like to use Nvidia GPU with TensorRT, please make sure the missing libraries mentioned above are installed properly.\n",
      "OMP: Info #276: omp_set_nested routine deprecated, please use omp_set_max_active_levels instead.\n"
     ]
    }
   ],
   "source": [
    "from sklearn.decomposition import IncrementalPCA, KernelPCA, PCA\n",
    "from sklearn.manifold import TSNE\n",
    "import umap\n",
    "pca = PCA(2)\n",
    "# pca = KernelPCA(2, kernel=\"poly\", degree=2, fit_inverse_transform=True, alpha=1)\n",
    "# pca = umap.UMAP(n_components=2, n_neighbors=400)\n",
    "pca.fit(OU_df)\n",
    "transformed = pd.DataFrame(pca.transform(OU_df_test))\n",
    "transformed_train = pd.DataFrame(pca.transform(OU_df_train))\n",
    "y = OU_df_test.to_numpy()\n",
    "y_train = OU_df_train.to_numpy()"
   ]
  },
  {
   "cell_type": "code",
   "execution_count": null,
   "metadata": {},
   "outputs": [
    {
     "data": {
      "text/html": [
       "<div>\n",
       "<style scoped>\n",
       "    .dataframe tbody tr th:only-of-type {\n",
       "        vertical-align: middle;\n",
       "    }\n",
       "\n",
       "    .dataframe tbody tr th {\n",
       "        vertical-align: top;\n",
       "    }\n",
       "\n",
       "    .dataframe thead th {\n",
       "        text-align: right;\n",
       "    }\n",
       "</style>\n",
       "<table border=\"1\" class=\"dataframe\">\n",
       "  <thead>\n",
       "    <tr style=\"text-align: right;\">\n",
       "      <th></th>\n",
       "      <th>0</th>\n",
       "      <th>1</th>\n",
       "    </tr>\n",
       "  </thead>\n",
       "  <tbody>\n",
       "    <tr>\n",
       "      <th>count</th>\n",
       "      <td>296.000000</td>\n",
       "      <td>296.000000</td>\n",
       "    </tr>\n",
       "    <tr>\n",
       "      <th>mean</th>\n",
       "      <td>3.894593</td>\n",
       "      <td>0.202152</td>\n",
       "    </tr>\n",
       "    <tr>\n",
       "      <th>std</th>\n",
       "      <td>1.680192</td>\n",
       "      <td>2.875978</td>\n",
       "    </tr>\n",
       "    <tr>\n",
       "      <th>min</th>\n",
       "      <td>0.632668</td>\n",
       "      <td>-3.767172</td>\n",
       "    </tr>\n",
       "    <tr>\n",
       "      <th>25%</th>\n",
       "      <td>2.743280</td>\n",
       "      <td>-2.371013</td>\n",
       "    </tr>\n",
       "    <tr>\n",
       "      <th>50%</th>\n",
       "      <td>4.134968</td>\n",
       "      <td>-0.657515</td>\n",
       "    </tr>\n",
       "    <tr>\n",
       "      <th>75%</th>\n",
       "      <td>5.207108</td>\n",
       "      <td>3.049265</td>\n",
       "    </tr>\n",
       "    <tr>\n",
       "      <th>max</th>\n",
       "      <td>7.169224</td>\n",
       "      <td>5.641553</td>\n",
       "    </tr>\n",
       "  </tbody>\n",
       "</table>\n",
       "</div>"
      ],
      "text/plain": [
       "                0           1\n",
       "count  296.000000  296.000000\n",
       "mean     3.894593    0.202152\n",
       "std      1.680192    2.875978\n",
       "min      0.632668   -3.767172\n",
       "25%      2.743280   -2.371013\n",
       "50%      4.134968   -0.657515\n",
       "75%      5.207108    3.049265\n",
       "max      7.169224    5.641553"
      ]
     },
     "execution_count": 21,
     "metadata": {},
     "output_type": "execute_result"
    }
   ],
   "source": [
    "all_transformed = pd.DataFrame(pca.transform(OU_df))\n",
    "transformed = pd.DataFrame(pca.transform(OU_df_test))\n",
    "transformed.describe()"
   ]
  },
  {
   "cell_type": "code",
   "execution_count": null,
   "metadata": {},
   "outputs": [],
   "source": [
    "idx = np.abs(all_transformed[0].to_numpy()) > 2\n",
    "weird_vals = OU_df[idx]"
   ]
  },
  {
   "cell_type": "code",
   "execution_count": null,
   "metadata": {},
   "outputs": [
    {
     "ename": "NameError",
     "evalue": "name 'weird_vals' is not defined",
     "output_type": "error",
     "traceback": [
      "\u001b[0;31m---------------------------------------------------------------------------\u001b[0m",
      "\u001b[0;31mNameError\u001b[0m                                 Traceback (most recent call last)",
      "Cell \u001b[0;32mIn [1], line 1\u001b[0m\n\u001b[0;32m----> 1\u001b[0m weird_vals\n",
      "\u001b[0;31mNameError\u001b[0m: name 'weird_vals' is not defined"
     ]
    }
   ],
   "source": [
    "weird_vals"
   ]
  },
  {
   "cell_type": "code",
   "execution_count": null,
   "metadata": {},
   "outputs": [
    {
     "data": {
      "text/plain": [
       "0    3.025895\n",
       "1   -2.148006\n",
       "Name: 0, dtype: float32"
      ]
     },
     "execution_count": 24,
     "metadata": {},
     "output_type": "execute_result"
    }
   ],
   "source": [
    "all_transformed.iloc[0]"
   ]
  },
  {
   "cell_type": "code",
   "execution_count": null,
   "metadata": {},
   "outputs": [
    {
     "data": {
      "text/plain": [
       "<matplotlib.collections.PathCollection at 0x7fab3e09a9e0>"
      ]
     },
     "execution_count": 25,
     "metadata": {},
     "output_type": "execute_result"
    },
    {
     "data": {
      "image/png": "[encoded data removed]",
      "text/plain": [
       "<Figure size 640x480 with 1 Axes>"
      ]
     },
     "metadata": {},
     "output_type": "display_data"
    }
   ],
   "source": [
    "plt.scatter(all_transformed.iloc[:, 0], all_transformed.iloc[:, 1])"
   ]
  },
  {
   "cell_type": "code",
   "execution_count": null,
   "metadata": {},
   "outputs": [
    {
     "data": {
      "text/plain": [
       "drybulb_0       1.000\n",
       "drybulb_1       0.000\n",
       "drybulb_2       0.001\n",
       "relhum_0        1.000\n",
       "relhum_1        0.000\n",
       "relhum_2        0.001\n",
       "winddir_0       1.000\n",
       "winddir_1       0.000\n",
       "winddir_2       0.001\n",
       "dirnorrad_0     1.000\n",
       "dirnorrad_1     0.000\n",
       "dirnorrad_2     0.001\n",
       "difhorrad_0     1.000\n",
       "difhorrad_1     0.000\n",
       "difhorrad_2     0.001\n",
       "windspd_0       1.000\n",
       "windspd_1      -0.000\n",
       "windspd_2       0.001\n",
       "precip_wtr_0    0.000\n",
       "precip_wtr_1    0.000\n",
       "precip_wtr_2    0.001\n",
       "Name: 0, dtype: float64"
      ]
     },
     "execution_count": 26,
     "metadata": {},
     "output_type": "execute_result"
    }
   ],
   "source": [
    "OU_df_saved.iloc[0]"
   ]
  },
  {
   "cell_type": "code",
   "execution_count": null,
   "metadata": {},
   "outputs": [
    {
     "data": {
      "text/plain": [
       "drybulb_0       0.680095\n",
       "drybulb_1      -0.058878\n",
       "drybulb_2       0.005751\n",
       "relhum_0        1.242710\n",
       "relhum_1       -0.116149\n",
       "relhum_2        0.002784\n",
       "winddir_0       1.286316\n",
       "winddir_1      -0.052964\n",
       "winddir_2       0.000373\n",
       "dirnorrad_0     1.051960\n",
       "dirnorrad_1     0.094410\n",
       "dirnorrad_2     0.000656\n",
       "difhorrad_0     0.586034\n",
       "difhorrad_1    -0.041166\n",
       "difhorrad_2     0.000347\n",
       "windspd_0       1.193801\n",
       "windspd_1      -0.380056\n",
       "windspd_2       0.000675\n",
       "precip_wtr_0    0.850273\n",
       "precip_wtr_1   -0.775203\n",
       "precip_wtr_2    0.038839\n",
       "dtype: float64"
      ]
     },
     "execution_count": 28,
     "metadata": {},
     "output_type": "execute_result"
    }
   ],
   "source": [
    "OU_mean"
   ]
  },
  {
   "cell_type": "code",
   "execution_count": null,
   "metadata": {},
   "outputs": [],
   "source": [
    "# sample = np.random.uniform(-0.5, 0, [1, 3])\n",
    "sample = np.array([[-0.3, -0.3]])\n",
    "sampled_OU_vars = pca.inverse_transform(sample)\n",
    "sampled_OU_vars = sampled_OU_vars * np.array(OU_std)[None, -1] + np.array(OU_mean)[None, -1]\n",
    "store_OU_mean = deepcopy(OU_mean)\n",
    "store_OU_std = deepcopy(OU_std)\n",
    "for i, column in enumerate(OU_df.columns):\n",
    "    delim_idx = column.rfind(\"_\")\n",
    "    var = column[:delim_idx]\n",
    "    idx = int(column[delim_idx+1:])\n",
    "    if idx in [0, 1]:\n",
    "        sampled_OU_vars[:, i] *= df_std[i//3]\n",
    "        store_OU_mean[i] *= df_std[i//3]\n",
    "        store_OU_std[i] *= df_std[i//3]\n"
   ]
  },
  {
   "cell_type": "code",
   "execution_count": null,
   "metadata": {},
   "outputs": [
    {
     "data": {
      "text/plain": [
       "drybulb_0         6.589789\n",
       "drybulb_1        -0.570501\n",
       "drybulb_2         0.005751\n",
       "relhum_0         25.834261\n",
       "relhum_1         -2.414575\n",
       "relhum_2          0.002784\n",
       "winddir_0       135.884980\n",
       "winddir_1        -5.595081\n",
       "winddir_2         0.000373\n",
       "dirnorrad_0     266.775270\n",
       "dirnorrad_1      23.942299\n",
       "dirnorrad_2       0.000656\n",
       "difhorrad_0      58.525222\n",
       "difhorrad_1      -4.111107\n",
       "difhorrad_2       0.000347\n",
       "windspd_0         2.946183\n",
       "windspd_1        -0.937939\n",
       "windspd_2         0.000675\n",
       "precip_wtr_0     96.592853\n",
       "precip_wtr_1    -88.064679\n",
       "precip_wtr_2      0.038839\n",
       "dtype: float64"
      ]
     },
     "execution_count": 30,
     "metadata": {},
     "output_type": "execute_result"
    }
   ],
   "source": [
    "store_OU_mean"
   ]
  },
  {
   "cell_type": "code",
   "execution_count": null,
   "metadata": {},
   "outputs": [],
   "source": [
    "from importlib import reload\n",
    "import epw_data\n",
    "from epw_data import EPW_Data\n",
    "reload(epw_data)\n",
    "\n",
    "import pickle\n",
    "epw_data_ = epw_data.EPW_Data(OU_df_saved, all_transformed, pca, store_OU_mean, store_OU_std)\n",
    "epw_data_.save(\"US_epw_OU_data_test.pkl\")\n",
    "# with open(\"US_epw_OU_data.pkl\", 'wb') as f:\n",
    "#     pickle.dump(epw_data_, f)"
   ]
  },
  {
   "cell_type": "code",
   "execution_count": null,
   "metadata": {},
   "outputs": [],
   "source": [
    "loaded_data = epw_data.EPW_Data.load(\"US_epw_OU_data.pkl\")\n",
    "# with open(\"US_epw_OU_data.pkl\", 'rb') as f:\n",
    "#     loaded_data = pickle.load(f)"
   ]
  },
  {
   "cell_type": "code",
   "execution_count": null,
   "metadata": {},
   "outputs": [
    {
     "data": {
      "text/plain": [
       "drybulb_0         6.589789\n",
       "drybulb_1        -0.570501\n",
       "drybulb_2         0.005751\n",
       "relhum_0         25.834261\n",
       "relhum_1         -2.414575\n",
       "relhum_2          0.002784\n",
       "winddir_0       135.884980\n",
       "winddir_1        -5.595081\n",
       "winddir_2         0.000373\n",
       "dirnorrad_0     266.775270\n",
       "dirnorrad_1      23.942299\n",
       "dirnorrad_2       0.000656\n",
       "difhorrad_0      58.525222\n",
       "difhorrad_1      -4.111107\n",
       "difhorrad_2       0.000347\n",
       "windspd_0         2.946183\n",
       "windspd_1        -0.937939\n",
       "windspd_2         0.000675\n",
       "precip_wtr_0     96.592853\n",
       "precip_wtr_1    -88.064679\n",
       "precip_wtr_2      0.038839\n",
       "dtype: float64"
      ]
     },
     "execution_count": 33,
     "metadata": {},
     "output_type": "execute_result"
    }
   ],
   "source": [
    "loaded_data.OU_mean"
   ]
  },
  {
   "cell_type": "code",
   "execution_count": null,
   "metadata": {},
   "outputs": [
    {
     "ename": "KeyError",
     "evalue": "'precip_wtr_0'",
     "output_type": "error",
     "traceback": [
      "\u001b[0;31m---------------------------------------------------------------------------\u001b[0m",
      "\u001b[0;31mKeyError\u001b[0m                                  Traceback (most recent call last)",
      "File \u001b[0;32m~/miniconda3/envs/ActiveRL/lib/python3.10/site-packages/pandas/core/indexes/base.py:3361\u001b[0m, in \u001b[0;36mIndex.get_loc\u001b[0;34m(self, key, method, tolerance)\u001b[0m\n\u001b[1;32m   3360\u001b[0m \u001b[39mtry\u001b[39;00m:\n\u001b[0;32m-> 3361\u001b[0m     \u001b[39mreturn\u001b[39;00m \u001b[39mself\u001b[39;49m\u001b[39m.\u001b[39;49m_engine\u001b[39m.\u001b[39;49mget_loc(casted_key)\n\u001b[1;32m   3362\u001b[0m \u001b[39mexcept\u001b[39;00m \u001b[39mKeyError\u001b[39;00m \u001b[39mas\u001b[39;00m err:\n",
      "File \u001b[0;32m~/miniconda3/envs/ActiveRL/lib/python3.10/site-packages/pandas/_libs/index.pyx:76\u001b[0m, in \u001b[0;36mpandas._libs.index.IndexEngine.get_loc\u001b[0;34m()\u001b[0m\n",
      "File \u001b[0;32m~/miniconda3/envs/ActiveRL/lib/python3.10/site-packages/pandas/_libs/index.pyx:108\u001b[0m, in \u001b[0;36mpandas._libs.index.IndexEngine.get_loc\u001b[0;34m()\u001b[0m\n",
      "File \u001b[0;32mpandas/_libs/hashtable_class_helper.pxi:5198\u001b[0m, in \u001b[0;36mpandas._libs.hashtable.PyObjectHashTable.get_item\u001b[0;34m()\u001b[0m\n",
      "File \u001b[0;32mpandas/_libs/hashtable_class_helper.pxi:5206\u001b[0m, in \u001b[0;36mpandas._libs.hashtable.PyObjectHashTable.get_item\u001b[0;34m()\u001b[0m\n",
      "\u001b[0;31mKeyError\u001b[0m: 'precip_wtr_0'",
      "\nThe above exception was the direct cause of the following exception:\n",
      "\u001b[0;31mKeyError\u001b[0m                                  Traceback (most recent call last)",
      "Cell \u001b[0;32mIn [35], line 1\u001b[0m\n\u001b[0;32m----> 1\u001b[0m loaded_data\u001b[39m.\u001b[39;49mread_OU_param(loaded_data\u001b[39m.\u001b[39;49mOU_mean, \u001b[39m\"\u001b[39;49m\u001b[39mprecip_wtr\u001b[39;49m\u001b[39m\"\u001b[39;49m)\n",
      "File \u001b[0;32m/mnt/7076984276980B4C/ssd_backup/ActiveRL/sinergym_wrappers/epw_scraper/epw_data.py:16\u001b[0m, in \u001b[0;36mEPW_Data.read_OU_param\u001b[0;34m(self, df, name)\u001b[0m\n\u001b[1;32m     11\u001b[0m \u001b[39mdef\u001b[39;00m \u001b[39mread_OU_param\u001b[39m(\u001b[39mself\u001b[39m, df, name):\n\u001b[1;32m     12\u001b[0m \u001b[39m    \u001b[39m\u001b[39m\"\"\"\u001b[39;00m\n\u001b[1;32m     13\u001b[0m \u001b[39m    Helper function to read the 3 OU parameters corresponding to a certain variable name in\u001b[39;00m\n\u001b[1;32m     14\u001b[0m \u001b[39m    epw_df, transformed_df, OU_mean, or OU_std. \u001b[39;00m\n\u001b[1;32m     15\u001b[0m \u001b[39m    \"\"\"\u001b[39;00m\n\u001b[0;32m---> 16\u001b[0m     \u001b[39mreturn\u001b[39;00m np\u001b[39m.\u001b[39marray([df[\u001b[39mf\u001b[39m\u001b[39m\"\u001b[39m\u001b[39m{\u001b[39;00mname\u001b[39m}\u001b[39;00m\u001b[39m_\u001b[39m\u001b[39m{\u001b[39;00mi\u001b[39m}\u001b[39;00m\u001b[39m\"\u001b[39m] \u001b[39mfor\u001b[39;00m i \u001b[39min\u001b[39;00m \u001b[39mrange\u001b[39m(\u001b[39m3\u001b[39m)])\n",
      "File \u001b[0;32m/mnt/7076984276980B4C/ssd_backup/ActiveRL/sinergym_wrappers/epw_scraper/epw_data.py:16\u001b[0m, in \u001b[0;36m<listcomp>\u001b[0;34m(.0)\u001b[0m\n\u001b[1;32m     11\u001b[0m \u001b[39mdef\u001b[39;00m \u001b[39mread_OU_param\u001b[39m(\u001b[39mself\u001b[39m, df, name):\n\u001b[1;32m     12\u001b[0m \u001b[39m    \u001b[39m\u001b[39m\"\"\"\u001b[39;00m\n\u001b[1;32m     13\u001b[0m \u001b[39m    Helper function to read the 3 OU parameters corresponding to a certain variable name in\u001b[39;00m\n\u001b[1;32m     14\u001b[0m \u001b[39m    epw_df, transformed_df, OU_mean, or OU_std. \u001b[39;00m\n\u001b[1;32m     15\u001b[0m \u001b[39m    \"\"\"\u001b[39;00m\n\u001b[0;32m---> 16\u001b[0m     \u001b[39mreturn\u001b[39;00m np\u001b[39m.\u001b[39marray([df[\u001b[39mf\u001b[39;49m\u001b[39m\"\u001b[39;49m\u001b[39m{\u001b[39;49;00mname\u001b[39m}\u001b[39;49;00m\u001b[39m_\u001b[39;49m\u001b[39m{\u001b[39;49;00mi\u001b[39m}\u001b[39;49;00m\u001b[39m\"\u001b[39;49m] \u001b[39mfor\u001b[39;00m i \u001b[39min\u001b[39;00m \u001b[39mrange\u001b[39m(\u001b[39m3\u001b[39m)])\n",
      "File \u001b[0;32m~/miniconda3/envs/ActiveRL/lib/python3.10/site-packages/pandas/core/series.py:942\u001b[0m, in \u001b[0;36mSeries.__getitem__\u001b[0;34m(self, key)\u001b[0m\n\u001b[1;32m    939\u001b[0m     \u001b[39mreturn\u001b[39;00m \u001b[39mself\u001b[39m\u001b[39m.\u001b[39m_values[key]\n\u001b[1;32m    941\u001b[0m \u001b[39melif\u001b[39;00m key_is_scalar:\n\u001b[0;32m--> 942\u001b[0m     \u001b[39mreturn\u001b[39;00m \u001b[39mself\u001b[39;49m\u001b[39m.\u001b[39;49m_get_value(key)\n\u001b[1;32m    944\u001b[0m \u001b[39mif\u001b[39;00m is_hashable(key):\n\u001b[1;32m    945\u001b[0m     \u001b[39m# Otherwise index.get_value will raise InvalidIndexError\u001b[39;00m\n\u001b[1;32m    946\u001b[0m     \u001b[39mtry\u001b[39;00m:\n\u001b[1;32m    947\u001b[0m         \u001b[39m# For labels that don't resolve as scalars like tuples and frozensets\u001b[39;00m\n",
      "File \u001b[0;32m~/miniconda3/envs/ActiveRL/lib/python3.10/site-packages/pandas/core/series.py:1051\u001b[0m, in \u001b[0;36mSeries._get_value\u001b[0;34m(self, label, takeable)\u001b[0m\n\u001b[1;32m   1048\u001b[0m     \u001b[39mreturn\u001b[39;00m \u001b[39mself\u001b[39m\u001b[39m.\u001b[39m_values[label]\n\u001b[1;32m   1050\u001b[0m \u001b[39m# Similar to Index.get_value, but we do not fall back to positional\u001b[39;00m\n\u001b[0;32m-> 1051\u001b[0m loc \u001b[39m=\u001b[39m \u001b[39mself\u001b[39;49m\u001b[39m.\u001b[39;49mindex\u001b[39m.\u001b[39;49mget_loc(label)\n\u001b[1;32m   1052\u001b[0m \u001b[39mreturn\u001b[39;00m \u001b[39mself\u001b[39m\u001b[39m.\u001b[39mindex\u001b[39m.\u001b[39m_get_values_for_loc(\u001b[39mself\u001b[39m, loc, label)\n",
      "File \u001b[0;32m~/miniconda3/envs/ActiveRL/lib/python3.10/site-packages/pandas/core/indexes/base.py:3363\u001b[0m, in \u001b[0;36mIndex.get_loc\u001b[0;34m(self, key, method, tolerance)\u001b[0m\n\u001b[1;32m   3361\u001b[0m         \u001b[39mreturn\u001b[39;00m \u001b[39mself\u001b[39m\u001b[39m.\u001b[39m_engine\u001b[39m.\u001b[39mget_loc(casted_key)\n\u001b[1;32m   3362\u001b[0m     \u001b[39mexcept\u001b[39;00m \u001b[39mKeyError\u001b[39;00m \u001b[39mas\u001b[39;00m err:\n\u001b[0;32m-> 3363\u001b[0m         \u001b[39mraise\u001b[39;00m \u001b[39mKeyError\u001b[39;00m(key) \u001b[39mfrom\u001b[39;00m \u001b[39merr\u001b[39;00m\n\u001b[1;32m   3365\u001b[0m \u001b[39mif\u001b[39;00m is_scalar(key) \u001b[39mand\u001b[39;00m isna(key) \u001b[39mand\u001b[39;00m \u001b[39mnot\u001b[39;00m \u001b[39mself\u001b[39m\u001b[39m.\u001b[39mhasnans:\n\u001b[1;32m   3366\u001b[0m     \u001b[39mraise\u001b[39;00m \u001b[39mKeyError\u001b[39;00m(key)\n",
      "\u001b[0;31mKeyError\u001b[0m: 'precip_wtr_0'"
     ]
    }
   ],
   "source": [
    "loaded_data.read_OU_param(loaded_data.OU_mean, \"precip_wtr\")"
   ]
  },
  {
   "cell_type": "code",
   "execution_count": null,
   "metadata": {},
   "outputs": [],
   "source": []
  }
 ],
 "metadata": {
  "kernelspec": {
   "display_name": "ActiveRL",
   "language": "python",
   "name": "python3"
  },
  "language_info": {
   "codemirror_mode": {
    "name": "ipython",
    "version": 3
   },
   "file_extension": ".py",
   "mimetype": "text/x-python",
   "name": "python",
   "nbconvert_exporter": "python",
   "pygments_lexer": "ipython3",
   "version": "3.10.8"
  },
  "orig_nbformat": 4,
  "vscode": {
   "interpreter": {
    "hash": "05ed386050a6f61d6ae19bb50f9ad90c7e2b03875ed318bf31de6d12a39305c0"
   }
  }
 },
 "nbformat": 4,
 "nbformat_minor": 2
}
