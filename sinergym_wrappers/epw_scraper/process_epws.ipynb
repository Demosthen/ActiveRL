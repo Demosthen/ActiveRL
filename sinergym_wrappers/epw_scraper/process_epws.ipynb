{
 "cells": [
  {
   "cell_type": "code",
   "execution_count": 1,
   "metadata": {},
   "outputs": [],
   "source": [
    "import os\n",
    "import opyplus as op\n",
    "import matplotlib.pyplot as plt\n",
    "import pandas as pd\n",
    "epw_files = os.listdir(\"data\")\n",
    "weather_dfs = []\n",
    "base_df = None\n",
    "for file in epw_files:\n",
    "    # load weather data object\n",
    "    try:\n",
    "        if \"USA\" in file:\n",
    "            weather_data = op.WeatherData.from_epw(os.path.join(\"data\", file))\n",
    "            weather_dfs.append(weather_data.get_weather_series())\n",
    "            if file == 'USA_AZ_Davis-Monthan.AFB.722745_TMY3.epw':\n",
    "                base_df = weather_dfs[-1]\n",
    "    except Exception as e:\n",
    "        print(e)"
   ]
  },
  {
   "attachments": {},
   "cell_type": "markdown",
   "metadata": {},
   "source": [
    "### Overall Process of Embedding OU Parameters into a low dimensional space:\n",
    "We model each weather file as having been generated from an OU process adding noise to the \"base\" weather of our environment. After recovering the OU parameters, we can encode them in a low dimensional space using PCA, which will capture the covariances between the parameters for each individual variable.\n",
    "\n",
    "1. Subtract each epw from base epw and rescale using base epw's std deviation\n",
    "2. Since OU process is auto-generative, we use a linear regression to predict the effect x[t] had on x[t+1]\n",
    "3. Do some math on the linear regression outputs to recover the MLE of the OU process parameters for each variable for each epw\n",
    "4. Standardize the recovered OU parameters\n",
    "5. Fit PCA to the parameters\n",
    "\n",
    "When generating new epw files:\n",
    "1. Sample a uniform random variable and multiply it by the PCA\n",
    "2. Rescale the new parameters by subtracting OU means and variances\n",
    "3. Rescale again by multiplying OU offset and std parameters by the base epw's std deviation\n"
   ]
  },
  {
   "cell_type": "code",
   "execution_count": 2,
   "metadata": {},
   "outputs": [],
   "source": [
    "variables = ['drybulb', 'relhum', \"winddir\", \"dirnorrad\", \"difhorrad\", \"windspd\", \"precip_wtr\", \"snowdepth\"]\n",
    "base_df = base_df[variables]\n",
    "df_mean = base_df.mean(0)\n",
    "df_std = base_df.std(0)\n",
    "df_std[df_std == 0] = 1\n",
    "dt = 1/8760"
   ]
  },
  {
   "cell_type": "code",
   "execution_count": 3,
   "metadata": {},
   "outputs": [
    {
     "data": {
      "text/plain": [
       "drybulb         9.003335\n",
       "relhum         23.782531\n",
       "winddir        82.218378\n",
       "dirnorrad     358.688955\n",
       "difhorrad      86.422528\n",
       "windspd         1.811650\n",
       "precip_wtr     84.068268\n",
       "snowdepth       1.000000\n",
       "dtype: float64"
      ]
     },
     "execution_count": 3,
     "metadata": {},
     "output_type": "execute_result"
    }
   ],
   "source": [
    "df_std"
   ]
  },
  {
   "cell_type": "code",
   "execution_count": 4,
   "metadata": {},
   "outputs": [],
   "source": [
    "for i in range(len(weather_dfs)):\n",
    "    weather_dfs[i] = (weather_dfs[i][variables] - base_df) / (df_std + 0.0000001)"
   ]
  },
  {
   "cell_type": "code",
   "execution_count": 5,
   "metadata": {},
   "outputs": [
    {
     "data": {
      "text/html": [
       "<div>\n",
       "<style scoped>\n",
       "    .dataframe tbody tr th:only-of-type {\n",
       "        vertical-align: middle;\n",
       "    }\n",
       "\n",
       "    .dataframe tbody tr th {\n",
       "        vertical-align: top;\n",
       "    }\n",
       "\n",
       "    .dataframe thead th {\n",
       "        text-align: right;\n",
       "    }\n",
       "</style>\n",
       "<table border=\"1\" class=\"dataframe\">\n",
       "  <thead>\n",
       "    <tr style=\"text-align: right;\">\n",
       "      <th></th>\n",
       "      <th>drybulb</th>\n",
       "      <th>relhum</th>\n",
       "      <th>winddir</th>\n",
       "      <th>dirnorrad</th>\n",
       "      <th>difhorrad</th>\n",
       "      <th>windspd</th>\n",
       "      <th>precip_wtr</th>\n",
       "      <th>snowdepth</th>\n",
       "    </tr>\n",
       "  </thead>\n",
       "  <tbody>\n",
       "    <tr>\n",
       "      <th>count</th>\n",
       "      <td>1.294728e+07</td>\n",
       "      <td>1.294728e+07</td>\n",
       "      <td>1.294728e+07</td>\n",
       "      <td>1.294728e+07</td>\n",
       "      <td>1.294728e+07</td>\n",
       "      <td>1.294728e+07</td>\n",
       "      <td>1.294728e+07</td>\n",
       "      <td>1.294728e+07</td>\n",
       "    </tr>\n",
       "    <tr>\n",
       "      <th>mean</th>\n",
       "      <td>-1.093482e+00</td>\n",
       "      <td>1.360681e+00</td>\n",
       "      <td>-2.219868e-01</td>\n",
       "      <td>-2.825541e-01</td>\n",
       "      <td>9.275677e-02</td>\n",
       "      <td>3.000955e-01</td>\n",
       "      <td>-2.697253e-01</td>\n",
       "      <td>4.333823e-01</td>\n",
       "    </tr>\n",
       "    <tr>\n",
       "      <th>std</th>\n",
       "      <td>1.001236e+00</td>\n",
       "      <td>1.203614e+00</td>\n",
       "      <td>1.659077e+00</td>\n",
       "      <td>8.637207e-01</td>\n",
       "      <td>7.952110e-01</td>\n",
       "      <td>1.693164e+00</td>\n",
       "      <td>1.539851e+00</td>\n",
       "      <td>3.715370e+00</td>\n",
       "    </tr>\n",
       "    <tr>\n",
       "      <th>min</th>\n",
       "      <td>-8.596814e+00</td>\n",
       "      <td>-3.994529e+00</td>\n",
       "      <td>-4.378583e+00</td>\n",
       "      <td>-2.879933e+00</td>\n",
       "      <td>-6.398794e+00</td>\n",
       "      <td>-7.672564e+00</td>\n",
       "      <td>-5.352793e+00</td>\n",
       "      <td>0.000000e+00</td>\n",
       "    </tr>\n",
       "    <tr>\n",
       "      <th>25%</th>\n",
       "      <td>-1.688263e+00</td>\n",
       "      <td>5.886674e-01</td>\n",
       "      <td>-1.459528e+00</td>\n",
       "      <td>-4.683724e-01</td>\n",
       "      <td>0.000000e+00</td>\n",
       "      <td>-8.279746e-01</td>\n",
       "      <td>-1.189509e+00</td>\n",
       "      <td>0.000000e+00</td>\n",
       "    </tr>\n",
       "    <tr>\n",
       "      <th>50%</th>\n",
       "      <td>-1.032951e+00</td>\n",
       "      <td>1.471668e+00</td>\n",
       "      <td>-2.432546e-01</td>\n",
       "      <td>0.000000e+00</td>\n",
       "      <td>0.000000e+00</td>\n",
       "      <td>2.759915e-01</td>\n",
       "      <td>-3.568528e-01</td>\n",
       "      <td>0.000000e+00</td>\n",
       "    </tr>\n",
       "    <tr>\n",
       "      <th>75%</th>\n",
       "      <td>-4.331728e-01</td>\n",
       "      <td>2.270574e+00</td>\n",
       "      <td>9.730185e-01</td>\n",
       "      <td>0.000000e+00</td>\n",
       "      <td>1.619948e-01</td>\n",
       "      <td>1.324759e+00</td>\n",
       "      <td>5.947547e-01</td>\n",
       "      <td>0.000000e+00</td>\n",
       "    </tr>\n",
       "    <tr>\n",
       "      <th>max</th>\n",
       "      <td>3.998518e+00</td>\n",
       "      <td>4.078624e+00</td>\n",
       "      <td>4.378583e+00</td>\n",
       "      <td>3.950498e+00</td>\n",
       "      <td>6.850066e+00</td>\n",
       "      <td>4.117794e+01</td>\n",
       "      <td>7.256008e+00</td>\n",
       "      <td>1.370000e+02</td>\n",
       "    </tr>\n",
       "  </tbody>\n",
       "</table>\n",
       "</div>"
      ],
      "text/plain": [
       "            drybulb        relhum       winddir     dirnorrad     difhorrad  \\\n",
       "count  1.294728e+07  1.294728e+07  1.294728e+07  1.294728e+07  1.294728e+07   \n",
       "mean  -1.093482e+00  1.360681e+00 -2.219868e-01 -2.825541e-01  9.275677e-02   \n",
       "std    1.001236e+00  1.203614e+00  1.659077e+00  8.637207e-01  7.952110e-01   \n",
       "min   -8.596814e+00 -3.994529e+00 -4.378583e+00 -2.879933e+00 -6.398794e+00   \n",
       "25%   -1.688263e+00  5.886674e-01 -1.459528e+00 -4.683724e-01  0.000000e+00   \n",
       "50%   -1.032951e+00  1.471668e+00 -2.432546e-01  0.000000e+00  0.000000e+00   \n",
       "75%   -4.331728e-01  2.270574e+00  9.730185e-01  0.000000e+00  1.619948e-01   \n",
       "max    3.998518e+00  4.078624e+00  4.378583e+00  3.950498e+00  6.850066e+00   \n",
       "\n",
       "            windspd    precip_wtr     snowdepth  \n",
       "count  1.294728e+07  1.294728e+07  1.294728e+07  \n",
       "mean   3.000955e-01 -2.697253e-01  4.333823e-01  \n",
       "std    1.693164e+00  1.539851e+00  3.715370e+00  \n",
       "min   -7.672564e+00 -5.352793e+00  0.000000e+00  \n",
       "25%   -8.279746e-01 -1.189509e+00  0.000000e+00  \n",
       "50%    2.759915e-01 -3.568528e-01  0.000000e+00  \n",
       "75%    1.324759e+00  5.947547e-01  0.000000e+00  \n",
       "max    4.117794e+01  7.256008e+00  1.370000e+02  "
      ]
     },
     "execution_count": 5,
     "metadata": {},
     "output_type": "execute_result"
    }
   ],
   "source": [
    "big_df = pd.concat(weather_dfs)\n",
    "big_df.describe()"
   ]
  },
  {
   "cell_type": "code",
   "execution_count": 6,
   "metadata": {},
   "outputs": [
    {
     "data": {
      "text/plain": [
       "(8760, 8)"
      ]
     },
     "execution_count": 6,
     "metadata": {},
     "output_type": "execute_result"
    }
   ],
   "source": [
    "weather_dfs[0].shape"
   ]
  },
  {
   "cell_type": "code",
   "execution_count": 7,
   "metadata": {},
   "outputs": [],
   "source": [
    "from sklearn.linear_model import LinearRegression\n",
    "import numpy as np\n",
    "OU_vars = {k: [] for k in weather_dfs[0].columns}\n",
    "all_OU = []\n",
    "scores = {k: [] for k in weather_dfs[0].columns}\n",
    "all_scores = []\n",
    "coefs = []\n",
    "intercepts = []\n",
    "for i in range(len(weather_dfs)):\n",
    "    if np.any(weather_dfs[i].isna()):\n",
    "        continue\n",
    "    for j in range(weather_dfs[i].shape[-1]):\n",
    "        reg = LinearRegression()\n",
    "        split = int(8760 * 0.8)\n",
    "        X_train = np.array(weather_dfs[i].iloc[:split-1, j]).reshape([-1, 1])\n",
    "        y_train = np.array(weather_dfs[i].iloc[1:split, j]).reshape([-1, 1])\n",
    "        X_test = np.array(weather_dfs[i].iloc[split:-1, j]).reshape([-1, 1])\n",
    "        y_test = np.array(weather_dfs[i].iloc[split+1:, j]).reshape([-1, 1])\n",
    "        reg = reg.fit(X_train, y_train)\n",
    "        preds = reg.predict(X_train)\n",
    "        std = np.sqrt(np.mean((preds - y_train) ** 2))\n",
    "        score = reg.score(X_test, y_test)\n",
    "        scores[weather_dfs[i].columns[j]].append(score)\n",
    "        coef = reg.coef_.squeeze().item()\n",
    "        coefs.append(coef)\n",
    "        intercept = reg.intercept_.squeeze().item()\n",
    "        intercepts.append(intercept)\n",
    "        if coef == 0:\n",
    "            tau = 0.001\n",
    "        else:\n",
    "            tau = dt / (1 - coef) #(1 - dt) / coef\n",
    "        mu = intercept * tau / dt\n",
    "        sigma = std / (np.sqrt(dt * 2. / tau))\n",
    "\n",
    "        OU_vars[weather_dfs[i].columns[j]].append(np.array([sigma, mu, tau]))\n",
    "        all_OU.append(np.array([sigma, mu, tau]))\n",
    "        all_scores.append(score)"
   ]
  },
  {
   "cell_type": "code",
   "execution_count": 8,
   "metadata": {},
   "outputs": [],
   "source": [
    "all_OU = np.stack(all_OU)\n",
    "all_scores = np.stack(all_scores)"
   ]
  },
  {
   "cell_type": "code",
   "execution_count": 9,
   "metadata": {},
   "outputs": [
    {
     "data": {
      "text/html": [
       "<div>\n",
       "<style scoped>\n",
       "    .dataframe tbody tr th:only-of-type {\n",
       "        vertical-align: middle;\n",
       "    }\n",
       "\n",
       "    .dataframe tbody tr th {\n",
       "        vertical-align: top;\n",
       "    }\n",
       "\n",
       "    .dataframe thead th {\n",
       "        text-align: right;\n",
       "    }\n",
       "</style>\n",
       "<table border=\"1\" class=\"dataframe\">\n",
       "  <thead>\n",
       "    <tr style=\"text-align: right;\">\n",
       "      <th></th>\n",
       "      <th>0</th>\n",
       "    </tr>\n",
       "  </thead>\n",
       "  <tbody>\n",
       "    <tr>\n",
       "      <th>count</th>\n",
       "      <td>11824.000000</td>\n",
       "    </tr>\n",
       "    <tr>\n",
       "      <th>mean</th>\n",
       "      <td>0.743307</td>\n",
       "    </tr>\n",
       "    <tr>\n",
       "      <th>std</th>\n",
       "      <td>0.241941</td>\n",
       "    </tr>\n",
       "    <tr>\n",
       "      <th>min</th>\n",
       "      <td>-4.523659</td>\n",
       "    </tr>\n",
       "    <tr>\n",
       "      <th>25%</th>\n",
       "      <td>0.541347</td>\n",
       "    </tr>\n",
       "    <tr>\n",
       "      <th>50%</th>\n",
       "      <td>0.785736</td>\n",
       "    </tr>\n",
       "    <tr>\n",
       "      <th>75%</th>\n",
       "      <td>0.965271</td>\n",
       "    </tr>\n",
       "    <tr>\n",
       "      <th>max</th>\n",
       "      <td>1.000000</td>\n",
       "    </tr>\n",
       "  </tbody>\n",
       "</table>\n",
       "</div>"
      ],
      "text/plain": [
       "                  0\n",
       "count  11824.000000\n",
       "mean       0.743307\n",
       "std        0.241941\n",
       "min       -4.523659\n",
       "25%        0.541347\n",
       "50%        0.785736\n",
       "75%        0.965271\n",
       "max        1.000000"
      ]
     },
     "execution_count": 9,
     "metadata": {},
     "output_type": "execute_result"
    }
   ],
   "source": [
    "pd.DataFrame(all_scores).describe()"
   ]
  },
  {
   "cell_type": "code",
   "execution_count": 10,
   "metadata": {},
   "outputs": [
    {
     "data": {
      "text/plain": [
       "{'drybulb': array([ 0.72918787, -1.11909799,  0.0041514 ]),\n",
       " 'relhum': array([1.1157683 , 1.36511382, 0.00326103]),\n",
       " 'winddir': array([ 1.46200430e+00, -2.34226992e-01,  3.48571028e-04]),\n",
       " 'dirnorrad': array([ 8.04454152e-01, -2.67266879e-01,  5.98230606e-04]),\n",
       " 'difhorrad': array([7.58214955e-01, 1.20950294e-01, 3.60393860e-04]),\n",
       " 'windspd': array([1.47887723e+00, 2.26013467e-01, 4.95889862e-04]),\n",
       " 'precip_wtr': array([ 1.03724484, -0.32147545,  0.02084473]),\n",
       " 'snowdepth': array([0.65863037, 0.33040698, 0.00648558])}"
      ]
     },
     "execution_count": 10,
     "metadata": {},
     "output_type": "execute_result"
    }
   ],
   "source": [
    "{k: np.mean(np.array(var), axis=0) for k, var in OU_vars.items()}"
   ]
  },
  {
   "cell_type": "code",
   "execution_count": 11,
   "metadata": {},
   "outputs": [],
   "source": [
    "OU_vars = {k: np.stack(v) for k, v in OU_vars.items()}"
   ]
  },
  {
   "cell_type": "code",
   "execution_count": 12,
   "metadata": {},
   "outputs": [],
   "source": [
    "from scipy import stats\n",
    "from copy import deepcopy\n",
    "from sklearn.model_selection import train_test_split\n",
    "OU_dict = {}\n",
    "for i in range(len(OU_vars[\"drybulb\"])):\n",
    "    for j, var in enumerate(variables):\n",
    "        for k in range(3):\n",
    "            OU_dict[f\"{var}_{k}\"] = OU_vars[var][:, k]\n",
    "OU_df = pd.DataFrame.from_dict(OU_dict)\n",
    "OU_df = OU_df[(np.abs(stats.zscore(OU_df)) < 3).all(axis=1)]\n",
    "OU_df_saved = deepcopy(OU_df)\n",
    "OU_mean = OU_df.mean(axis=0)\n",
    "OU_std = OU_df.std(axis=0)\n",
    "OU_df = (OU_df - OU_df.mean(axis=0)) / (OU_df.std(axis=0))\n",
    "OU_df_train, OU_df_test = train_test_split(OU_df, test_size=0.2)"
   ]
  },
  {
   "cell_type": "code",
   "execution_count": 13,
   "metadata": {},
   "outputs": [],
   "source": [
    "\n",
    "for i, column in enumerate(OU_df_saved.columns):\n",
    "    delim_idx = column.rfind(\"_\")\n",
    "    var = column[:delim_idx]\n",
    "    idx = int(column[delim_idx+1:])\n",
    "    if idx in [0, 1]:\n",
    "        OU_df_saved.iloc[:, i] *= df_std[i//3]\n",
    "OU_df_saved.to_csv(\"US_epw_OU_params.csv\", index=False) "
   ]
  },
  {
   "cell_type": "code",
   "execution_count": 14,
   "metadata": {},
   "outputs": [
    {
     "data": {
      "text/plain": [
       "(1306, 24)"
      ]
     },
     "execution_count": 14,
     "metadata": {},
     "output_type": "execute_result"
    }
   ],
   "source": [
    "OU_df.shape\n",
    "# df_std.shape"
   ]
  },
  {
   "cell_type": "code",
   "execution_count": 15,
   "metadata": {},
   "outputs": [],
   "source": [
    "from sklearn.decomposition import IncrementalPCA, KernelPCA, PCA\n",
    "errs = []\n",
    "errs_train = []\n",
    "N = 3\n",
    "for n in range(1, N):\n",
    "    #pca = IncrementalPCA(len(variables), batch_size=500)\n",
    "    pca = KernelPCA(n, kernel=\"poly\", degree=3, fit_inverse_transform=True, alpha=1)\n",
    "    pca.fit(OU_df_train)\n",
    "    transformed = pd.DataFrame(pca.transform(OU_df_test))\n",
    "    transformed_train = pd.DataFrame(pca.transform(OU_df_train))\n",
    "    y = OU_df_test.to_numpy()\n",
    "    y_train = OU_df_train.to_numpy()\n",
    "    y_hat = pca.inverse_transform(transformed.to_numpy())\n",
    "    y_hat_train = pca.inverse_transform(transformed_train.to_numpy())\n",
    "    err = np.mean(np.abs((y_hat - y)))\n",
    "    err_train = np.mean(np.abs((y_hat_train - y_train)))\n",
    "    errs.append(err)\n",
    "    errs_train.append(err_train)"
   ]
  },
  {
   "cell_type": "code",
   "execution_count": 16,
   "metadata": {},
   "outputs": [
    {
     "data": {
      "image/png": "[encoded data removed]",
      "text/plain": [
       "<Figure size 640x480 with 1 Axes>"
      ]
     },
     "metadata": {},
     "output_type": "display_data"
    }
   ],
   "source": [
    "plt.plot(errs_train)\n",
    "plt.xlabel(\"Num PCA Components\")\n",
    "plt.ylabel(\"Reconstruction MAE\")\n",
    "plt.xticks(range(0, N, 2))\n",
    "plt.show()"
   ]
  },
  {
   "cell_type": "code",
   "execution_count": 17,
   "metadata": {},
   "outputs": [
    {
     "data": {
      "image/png": "[encoded data removed]",
      "text/plain": [
       "<Figure size 640x480 with 1 Axes>"
      ]
     },
     "metadata": {},
     "output_type": "display_data"
    }
   ],
   "source": [
    "plt.plot(errs)\n",
    "plt.xlabel(\"Num PCA Components\")\n",
    "plt.ylabel(\"Reconstruction MAE\")\n",
    "plt.xticks(range(0, N, 2))\n",
    "plt.show()"
   ]
  },
  {
   "cell_type": "code",
   "execution_count": 18,
   "metadata": {},
   "outputs": [
    {
     "data": {
      "text/html": [
       "<div>\n",
       "<style scoped>\n",
       "    .dataframe tbody tr th:only-of-type {\n",
       "        vertical-align: middle;\n",
       "    }\n",
       "\n",
       "    .dataframe tbody tr th {\n",
       "        vertical-align: top;\n",
       "    }\n",
       "\n",
       "    .dataframe thead th {\n",
       "        text-align: right;\n",
       "    }\n",
       "</style>\n",
       "<table border=\"1\" class=\"dataframe\">\n",
       "  <thead>\n",
       "    <tr style=\"text-align: right;\">\n",
       "      <th></th>\n",
       "      <th>0</th>\n",
       "      <th>1</th>\n",
       "    </tr>\n",
       "  </thead>\n",
       "  <tbody>\n",
       "    <tr>\n",
       "      <th>count</th>\n",
       "      <td>262.000000</td>\n",
       "      <td>262.000000</td>\n",
       "    </tr>\n",
       "    <tr>\n",
       "      <th>mean</th>\n",
       "      <td>0.271060</td>\n",
       "      <td>-0.016287</td>\n",
       "    </tr>\n",
       "    <tr>\n",
       "      <th>std</th>\n",
       "      <td>3.253826</td>\n",
       "      <td>0.946822</td>\n",
       "    </tr>\n",
       "    <tr>\n",
       "      <th>min</th>\n",
       "      <td>-0.494787</td>\n",
       "      <td>-1.437725</td>\n",
       "    </tr>\n",
       "    <tr>\n",
       "      <th>25%</th>\n",
       "      <td>-0.338832</td>\n",
       "      <td>-0.532704</td>\n",
       "    </tr>\n",
       "    <tr>\n",
       "      <th>50%</th>\n",
       "      <td>-0.290781</td>\n",
       "      <td>-0.301082</td>\n",
       "    </tr>\n",
       "    <tr>\n",
       "      <th>75%</th>\n",
       "      <td>-0.241317</td>\n",
       "      <td>0.155977</td>\n",
       "    </tr>\n",
       "    <tr>\n",
       "      <th>max</th>\n",
       "      <td>42.856191</td>\n",
       "      <td>4.801125</td>\n",
       "    </tr>\n",
       "  </tbody>\n",
       "</table>\n",
       "</div>"
      ],
      "text/plain": [
       "                0           1\n",
       "count  262.000000  262.000000\n",
       "mean     0.271060   -0.016287\n",
       "std      3.253826    0.946822\n",
       "min     -0.494787   -1.437725\n",
       "25%     -0.338832   -0.532704\n",
       "50%     -0.290781   -0.301082\n",
       "75%     -0.241317    0.155977\n",
       "max     42.856191    4.801125"
      ]
     },
     "execution_count": 18,
     "metadata": {},
     "output_type": "execute_result"
    }
   ],
   "source": [
    "all_transformed = pd.DataFrame(pca.transform(OU_df))\n",
    "transformed = pd.DataFrame(pca.transform(OU_df_test))\n",
    "np.mean((transformed - OU_df_test) ** 2)\n",
    "transformed.describe()"
   ]
  },
  {
   "cell_type": "code",
   "execution_count": 19,
   "metadata": {},
   "outputs": [
    {
     "data": {
      "text/plain": [
       "<matplotlib.collections.PathCollection at 0x7f9fd2a287c0>"
      ]
     },
     "execution_count": 19,
     "metadata": {},
     "output_type": "execute_result"
    },
    {
     "data": {
      "image/png": "[encoded data removed]",
      "text/plain": [
       "<Figure size 640x480 with 1 Axes>"
      ]
     },
     "metadata": {},
     "output_type": "display_data"
    }
   ],
   "source": [
    "plt.scatter(transformed.iloc[:, 0], transformed.iloc[:, 1])"
   ]
  },
  {
   "cell_type": "code",
   "execution_count": null,
   "metadata": {},
   "outputs": [],
   "source": []
  },
  {
   "cell_type": "code",
   "execution_count": 20,
   "metadata": {},
   "outputs": [],
   "source": [
    "var_values = pca.eigenvalues_ / sum(pca.eigenvalues_)"
   ]
  },
  {
   "cell_type": "code",
   "execution_count": 21,
   "metadata": {},
   "outputs": [
    {
     "data": {
      "text/plain": [
       "<BarContainer object of 2 artists>"
      ]
     },
     "execution_count": 21,
     "metadata": {},
     "output_type": "execute_result"
    },
    {
     "data": {
      "image/png": "[encoded data removed]",
      "text/plain": [
       "<Figure size 640x480 with 1 Axes>"
      ]
     },
     "metadata": {},
     "output_type": "display_data"
    }
   ],
   "source": [
    "plt.bar(range(len(pca.eigenvalues_)), pca.eigenvalues_)"
   ]
  },
  {
   "cell_type": "code",
   "execution_count": 22,
   "metadata": {},
   "outputs": [
    {
     "data": {
      "text/plain": [
       "array([[-0.00297567, -0.02399087],\n",
       "       [-0.00556494, -0.00595297],\n",
       "       [ 0.00044912, -0.02688654],\n",
       "       ...,\n",
       "       [-0.00495392, -0.00920797],\n",
       "       [ 0.00128281, -0.01333476],\n",
       "       [-0.00585671,  0.00022453]])"
      ]
     },
     "execution_count": 22,
     "metadata": {},
     "output_type": "execute_result"
    }
   ],
   "source": [
    "pca.eigenvectors_"
   ]
  },
  {
   "cell_type": "code",
   "execution_count": 23,
   "metadata": {},
   "outputs": [
    {
     "data": {
      "text/plain": [
       "[<matplotlib.lines.Line2D at 0x7f9fd4ebf160>]"
      ]
     },
     "execution_count": 23,
     "metadata": {},
     "output_type": "execute_result"
    },
    {
     "data": {
      "image/png": "[encoded data removed]",
      "text/plain": [
       "<Figure size 640x480 with 1 Axes>"
      ]
     },
     "metadata": {},
     "output_type": "display_data"
    }
   ],
   "source": [
    "plt.plot(np.cumsum(var_values))"
   ]
  },
  {
   "cell_type": "code",
   "execution_count": 24,
   "metadata": {},
   "outputs": [
    {
     "data": {
      "text/plain": [
       "array([0.80477183, 1.        ])"
      ]
     },
     "execution_count": 24,
     "metadata": {},
     "output_type": "execute_result"
    }
   ],
   "source": [
    "np.cumsum(var_values)"
   ]
  },
  {
   "cell_type": "code",
   "execution_count": 25,
   "metadata": {},
   "outputs": [
    {
     "data": {
      "text/plain": [
       "drybulb_0       0.726880\n",
       "drybulb_1      -1.100279\n",
       "drybulb_2       0.004113\n",
       "relhum_0        1.119873\n",
       "relhum_1        1.396569\n",
       "relhum_2        0.003250\n",
       "winddir_0       1.467288\n",
       "winddir_1      -0.231831\n",
       "winddir_2       0.000344\n",
       "dirnorrad_0     0.806122\n",
       "dirnorrad_1    -0.271714\n",
       "dirnorrad_2     0.000599\n",
       "difhorrad_0     0.753601\n",
       "difhorrad_1     0.128952\n",
       "difhorrad_2     0.000356\n",
       "windspd_0       1.467094\n",
       "windspd_1       0.185073\n",
       "windspd_2       0.000485\n",
       "precip_wtr_0    1.048878\n",
       "precip_wtr_1   -0.211666\n",
       "precip_wtr_2    0.020536\n",
       "snowdepth_0     0.289412\n",
       "snowdepth_1     0.079111\n",
       "snowdepth_2     0.003044\n",
       "dtype: float64"
      ]
     },
     "execution_count": 25,
     "metadata": {},
     "output_type": "execute_result"
    }
   ],
   "source": [
    "OU_mean"
   ]
  },
  {
   "cell_type": "code",
   "execution_count": 26,
   "metadata": {},
   "outputs": [],
   "source": [
    "# sample = np.random.uniform(-0.5, 0, [1, 3])\n",
    "sample = np.array([[-0.3, -0.3]])\n",
    "sampled_OU_vars = pca.inverse_transform(sample)\n",
    "sampled_OU_vars = sampled_OU_vars * np.array(OU_std)[None, -1] + np.array(OU_mean)[None, -1]\n",
    "store_OU_mean = deepcopy(OU_mean)\n",
    "store_OU_std = deepcopy(OU_std)\n",
    "for i, column in enumerate(OU_df.columns):\n",
    "    delim_idx = column.rfind(\"_\")\n",
    "    var = column[:delim_idx]\n",
    "    idx = int(column[delim_idx+1:])\n",
    "    if idx in [0, 1]:\n",
    "        sampled_OU_vars[:, i] *= df_std[i//3]\n",
    "        store_OU_mean[i] *= df_std[i//3]\n",
    "        store_OU_std[i] *= df_std[i//3]\n"
   ]
  },
  {
   "cell_type": "code",
   "execution_count": 27,
   "metadata": {},
   "outputs": [
    {
     "data": {
      "text/plain": [
       "drybulb_0         6.544343\n",
       "drybulb_1        -9.906180\n",
       "drybulb_2         0.004113\n",
       "relhum_0         26.633425\n",
       "relhum_1         33.213955\n",
       "relhum_2          0.003250\n",
       "winddir_0       120.638017\n",
       "winddir_1       -19.060754\n",
       "winddir_2         0.000344\n",
       "dirnorrad_0     289.147122\n",
       "dirnorrad_1     -97.460831\n",
       "dirnorrad_2       0.000599\n",
       "difhorrad_0      65.128118\n",
       "difhorrad_1      11.144331\n",
       "difhorrad_2       0.000356\n",
       "windspd_0         2.657861\n",
       "windspd_1         0.335287\n",
       "windspd_2         0.000485\n",
       "precip_wtr_0     88.177361\n",
       "precip_wtr_1    -17.794375\n",
       "precip_wtr_2      0.020536\n",
       "snowdepth_0       0.289412\n",
       "snowdepth_1       0.079111\n",
       "snowdepth_2       0.003044\n",
       "dtype: float64"
      ]
     },
     "execution_count": 27,
     "metadata": {},
     "output_type": "execute_result"
    }
   ],
   "source": [
    "store_OU_mean"
   ]
  },
  {
   "cell_type": "code",
   "execution_count": 33,
   "metadata": {},
   "outputs": [
    {
     "ename": "ModuleNotFoundError",
     "evalue": "No module named 'epw_scraper'",
     "output_type": "error",
     "traceback": [
      "\u001b[0;31m---------------------------------------------------------------------------\u001b[0m",
      "\u001b[0;31mModuleNotFoundError\u001b[0m                       Traceback (most recent call last)",
      "Cell \u001b[0;32mIn [33], line 1\u001b[0m\n\u001b[0;32m----> 1\u001b[0m \u001b[39mfrom\u001b[39;00m \u001b[39mepw_scraper\u001b[39;00m\u001b[39m.\u001b[39;00m\u001b[39mepw_data\u001b[39;00m \u001b[39mimport\u001b[39;00m EPW_Data\n\u001b[1;32m      2\u001b[0m \u001b[39mimport\u001b[39;00m \u001b[39mpickle\u001b[39;00m\n\u001b[1;32m      3\u001b[0m epw_data \u001b[39m=\u001b[39m EPW_Data(OU_df_saved, all_transformed, pca, store_OU_mean, store_OU_std)\n",
      "\u001b[0;31mModuleNotFoundError\u001b[0m: No module named 'epw_scraper'"
     ]
    }
   ],
   "source": [
    "from importlib import reload\n",
    "reload(epw_data)\n",
    "from epw_data import EPW_Data\n",
    "import pickle\n",
    "epw_data = EPW_Data(OU_df_saved, all_transformed, pca, store_OU_mean, store_OU_std)\n",
    "with open(\"US_epw_OU_data.pkl\", 'wb') as f:\n",
    "    pickle.dump(epw_data, f)"
   ]
  },
  {
   "cell_type": "code",
   "execution_count": 29,
   "metadata": {},
   "outputs": [],
   "source": [
    "with open(\"US_epw_OU_data.pkl\", 'rb') as f:\n",
    "    loaded_data = pickle.load(f)"
   ]
  },
  {
   "cell_type": "code",
   "execution_count": 30,
   "metadata": {},
   "outputs": [
    {
     "data": {
      "text/plain": [
       "drybulb_0         6.544343\n",
       "drybulb_1        -9.906180\n",
       "drybulb_2         0.004113\n",
       "relhum_0         26.633425\n",
       "relhum_1         33.213955\n",
       "relhum_2          0.003250\n",
       "winddir_0       120.638017\n",
       "winddir_1       -19.060754\n",
       "winddir_2         0.000344\n",
       "dirnorrad_0     289.147122\n",
       "dirnorrad_1     -97.460831\n",
       "dirnorrad_2       0.000599\n",
       "difhorrad_0      65.128118\n",
       "difhorrad_1      11.144331\n",
       "difhorrad_2       0.000356\n",
       "windspd_0         2.657861\n",
       "windspd_1         0.335287\n",
       "windspd_2         0.000485\n",
       "precip_wtr_0     88.177361\n",
       "precip_wtr_1    -17.794375\n",
       "precip_wtr_2      0.020536\n",
       "snowdepth_0       0.289412\n",
       "snowdepth_1       0.079111\n",
       "snowdepth_2       0.003044\n",
       "dtype: float64"
      ]
     },
     "execution_count": 30,
     "metadata": {},
     "output_type": "execute_result"
    }
   ],
   "source": [
    "loaded_data.OU_mean"
   ]
  },
  {
   "cell_type": "code",
   "execution_count": 32,
   "metadata": {},
   "outputs": [
    {
     "data": {
      "text/plain": [
       "(88.17736115203442, -17.794374525092607, 0.02053597606659049)"
      ]
     },
     "execution_count": 32,
     "metadata": {},
     "output_type": "execute_result"
    }
   ],
   "source": [
    "loaded_data.read_OU_param(loaded_data.OU_mean, \"precip_wtr\")"
   ]
  },
  {
   "cell_type": "code",
   "execution_count": null,
   "metadata": {},
   "outputs": [],
   "source": []
  }
 ],
 "metadata": {
  "kernelspec": {
   "display_name": "ActiveRL",
   "language": "python",
   "name": "python3"
  },
  "language_info": {
   "codemirror_mode": {
    "name": "ipython",
    "version": 3
   },
   "file_extension": ".py",
   "mimetype": "text/x-python",
   "name": "python",
   "nbconvert_exporter": "python",
   "pygments_lexer": "ipython3",
   "version": "3.10.8"
  },
  "orig_nbformat": 4,
  "vscode": {
   "interpreter": {
    "hash": "05ed386050a6f61d6ae19bb50f9ad90c7e2b03875ed318bf31de6d12a39305c0"
   }
  }
 },
 "nbformat": 4,
 "nbformat_minor": 2
}
