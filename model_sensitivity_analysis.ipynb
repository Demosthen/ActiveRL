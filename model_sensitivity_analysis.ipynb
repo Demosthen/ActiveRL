{
 "cells": [
  {
   "cell_type": "code",
   "execution_count": 1,
   "metadata": {},
   "outputs": [
    {
     "name": "stderr",
     "output_type": "stream",
     "text": [
      "/home/doseok/miniconda3/envs/ActiveRL/lib/python3.10/site-packages/gym/spaces/box.py:112: UserWarning: \u001b[33mWARN: Box bound precision lowered by casting to float32\u001b[0m\n",
      "  logger.warn(f\"Box bound precision lowered by casting to {self.dtype}\")\n"
     ]
    },
    {
     "name": "stdout",
     "output_type": "stream",
     "text": [
      "156.5950316905449\n"
     ]
    }
   ],
   "source": [
    "import sys\n",
    "sys.path.append('../')\n",
    "import pickle\n",
    "from sinergym_wrappers.sinergym_wrapper import SinergymWrapper\n",
    "from sinergym_wrappers.epw_scraper.epw_data import EPW_Data\n",
    "from core.utils import *\n",
    "import numpy as np\n",
    "import pandas as pd\n",
    "from itertools import starmap\n",
    "from multiprocessing import Pool\n",
    "\n",
    "weather_var_names = ['drybulb', 'relhum',\n",
    "                        \"winddir\", \"dirnorrad\", \"difhorrad\"]\n",
    "weather_var_rev_names = [\"windspd\"]\n",
    "\n",
    "epw_data = EPW_Data.load(\"sinergym_wrappers/epw_scraper/US_epw_OU_data.pkl\")\n",
    "# We only need to include the default evaluation variability since we'll sample the rest later\n",
    "weather_var_config = get_variability_configs(\n",
    "        weather_var_names, weather_var_rev_names, only_default_eval=True, epw_data=epw_data)\n",
    "\n",
    "weather_variabilities = []#weather_var_config[\"train_var\"] # start with the training config\n",
    "min_diff = 100000\n",
    "for row, pca in zip(epw_data.epw_df.iterrows(), epw_data.transformed_df.iterrows()):\n",
    "    row = row[1]\n",
    "    pca = pca[1]\n",
    "    weather_params = {}\n",
    "    diff = 0\n",
    "    for variable in weather_var_names + weather_var_rev_names:\n",
    "        OU_param = np.zeros(3)\n",
    "        for j in range(3):\n",
    "            OU_param[j] = np.array(row[f\"{variable}_{j}\"]).squeeze().item()\n",
    "        weather_params[variable] = OU_param\n",
    "        diff += np.mean(np.abs(OU_param))\n",
    "    weather_variabilities.append(weather_params)\n",
    "    min_diff = min(diff, min_diff)\n",
    "print(min_diff)\n",
    "\n",
    "env_config = {\n",
    "    # sigma, mean, tau for OU Process\n",
    "    \"weather_variability\": weather_variabilities,\n",
    "    \"variability_low\": weather_var_config[\"train_var_low\"],\n",
    "    \"variability_high\": weather_var_config[\"train_var_high\"],\n",
    "    \"use_rbc\": False,\n",
    "    \"use_random\": False,\n",
    "    \"sample_environments\": True,\n",
    "    \"sinergym_timesteps_per_hour\": 1\n",
    "}\n"
   ]
  },
  {
   "cell_type": "code",
   "execution_count": 5,
   "metadata": {},
   "outputs": [
    {
     "name": "stderr",
     "output_type": "stream",
     "text": [
      "/mnt/7076984276980B4C/ssd_backup/ActiveRL/sinergym_wrappers/sinergym_wrapper.py:333: DeprecationWarning: getName() is deprecated, get the name attribute instead\n",
      "  self._thread_name = threading.current_thread().getName()\n"
     ]
    },
    {
     "name": "stdout",
     "output_type": "stream",
     "text": [
      "[2023-03-16 20:33:39,481] EPLUS_ENV_Eplus-5Zone-mixed-discrete-stochastic-v1-FlexibleReset70972_MainThread_ROOT INFO:Updating idf ExternalInterface object if it is not present...\n",
      "[2023-03-16 20:33:39,481] EPLUS_ENV_Eplus-5Zone-mixed-discrete-stochastic-v1-FlexibleReset70972_MainThread_ROOT INFO:Updating idf ExternalInterface object if it is not present...\n",
      "[2023-03-16 20:33:39,482] EPLUS_ENV_Eplus-5Zone-mixed-discrete-stochastic-v1-FlexibleReset70972_MainThread_ROOT INFO:Updating idf Site:Location and SizingPeriod:DesignDay(s) to weather and ddy file...\n",
      "[2023-03-16 20:33:39,482] EPLUS_ENV_Eplus-5Zone-mixed-discrete-stochastic-v1-FlexibleReset70972_MainThread_ROOT INFO:Updating idf Site:Location and SizingPeriod:DesignDay(s) to weather and ddy file...\n",
      "[2023-03-16 20:33:39,483] EPLUS_ENV_Eplus-5Zone-mixed-discrete-stochastic-v1-FlexibleReset70972_MainThread_ROOT INFO:Updating idf OutPut:Variable and variables XML tree model for BVCTB connection.\n",
      "[2023-03-16 20:33:39,483] EPLUS_ENV_Eplus-5Zone-mixed-discrete-stochastic-v1-FlexibleReset70972_MainThread_ROOT INFO:Updating idf OutPut:Variable and variables XML tree model for BVCTB connection.\n",
      "[2023-03-16 20:33:39,485] EPLUS_ENV_Eplus-5Zone-mixed-discrete-stochastic-v1-FlexibleReset70972_MainThread_ROOT INFO:Setting up extra configuration in building model if exists...\n",
      "[2023-03-16 20:33:39,485] EPLUS_ENV_Eplus-5Zone-mixed-discrete-stochastic-v1-FlexibleReset70972_MainThread_ROOT INFO:Setting up extra configuration in building model if exists...\n",
      "[2023-03-16 20:33:39,485] EPLUS_ENV_Eplus-5Zone-mixed-discrete-stochastic-v1-FlexibleReset70972_MainThread_ROOT INFO:Setting up action definition in building model if exists...\n",
      "[2023-03-16 20:33:39,485] EPLUS_ENV_Eplus-5Zone-mixed-discrete-stochastic-v1-FlexibleReset70972_MainThread_ROOT INFO:Setting up action definition in building model if exists...\n",
      "FullyConnectedNetwork(\n",
      "  (_logits): SlimFC(\n",
      "    (_model): Sequential(\n",
      "      (0): Linear(in_features=256, out_features=10, bias=True)\n",
      "    )\n",
      "  )\n",
      "  (_hidden_layers): Sequential(\n",
      "    (0): SlimFC(\n",
      "      (_model): Sequential(\n",
      "        (0): Linear(in_features=38, out_features=256, bias=True)\n",
      "        (1): Sequential(\n",
      "          (0): Tanh()\n",
      "          (1): Dropout(p=0.1, inplace=False)\n",
      "        )\n",
      "      )\n",
      "    )\n",
      "    (1): SlimFC(\n",
      "      (_model): Sequential(\n",
      "        (0): Linear(in_features=256, out_features=256, bias=True)\n",
      "        (1): Sequential(\n",
      "          (0): Tanh()\n",
      "          (1): Dropout(p=0.1, inplace=False)\n",
      "        )\n",
      "      )\n",
      "    )\n",
      "  )\n",
      "  (_value_branch): SlimFC(\n",
      "    (_model): Sequential(\n",
      "      (0): Linear(in_features=256, out_features=1, bias=True)\n",
      "    )\n",
      "  )\n",
      ")\n"
     ]
    },
    {
     "name": "stderr",
     "output_type": "stream",
     "text": [
      "/home/doseok/miniconda3/envs/ActiveRL/lib/python3.10/site-packages/gym/utils/passive_env_checker.py:97: UserWarning: \u001b[33mWARN: We recommend you to use a symmetric and normalized Box action space (range=[-1, 1]) https://stable-baselines3.readthedocs.io/en/master/guide/rl_tips.html\u001b[0m\n",
      "  logger.warn(\n",
      "/home/doseok/miniconda3/envs/ActiveRL/lib/python3.10/site-packages/gym/spaces/box.py:112: UserWarning: \u001b[33mWARN: Box bound precision lowered by casting to float32\u001b[0m\n",
      "  logger.warn(f\"Box bound precision lowered by casting to {self.dtype}\")\n"
     ]
    }
   ],
   "source": [
    "from core.uncertain_ppo.uncertain_ppo import UncertainPPOTorchPolicy\n",
    "env = SinergymWrapper(env_config)\n",
    "agent = UncertainPPOTorchPolicy.from_checkpoint(\"checkpoints/vanilla_hot\")[\"default_policy\"]"
   ]
  },
  {
   "cell_type": "code",
   "execution_count": 6,
   "metadata": {},
   "outputs": [
    {
     "data": {
      "text/plain": [
       "['year',\n",
       " 'month',\n",
       " 'day',\n",
       " 'hour',\n",
       " 'Site Outdoor Air Drybulb Temperature(Environment)',\n",
       " 'Site Outdoor Air Relative Humidity(Environment)',\n",
       " 'Site Wind Speed(Environment)',\n",
       " 'Site Wind Direction(Environment)',\n",
       " 'Site Diffuse Solar Radiation Rate per Area(Environment)',\n",
       " 'Site Direct Solar Radiation Rate per Area(Environment)',\n",
       " 'Zone Thermostat Heating Setpoint Temperature(SPACE1-1)',\n",
       " 'Zone Thermostat Cooling Setpoint Temperature(SPACE1-1)',\n",
       " 'Zone Air Temperature(SPACE1-1)',\n",
       " 'Zone Thermal Comfort Mean Radiant Temperature(SPACE1-1 PEOPLE 1)',\n",
       " 'Zone Air Relative Humidity(SPACE1-1)',\n",
       " 'Zone Thermal Comfort Clothing Value(SPACE1-1 PEOPLE 1)',\n",
       " 'Zone Thermal Comfort Fanger Model PPD(SPACE1-1 PEOPLE 1)',\n",
       " 'Zone People Occupant Count(SPACE1-1)',\n",
       " 'People Air Temperature(SPACE1-1 PEOPLE 1)',\n",
       " 'Facility Total HVAC Electricity Demand Rate(Whole Building)']"
      ]
     },
     "execution_count": 6,
     "metadata": {},
     "output_type": "execute_result"
    }
   ],
   "source": [
    "env.variables[\"observation\"]"
   ]
  },
  {
   "cell_type": "code",
   "execution_count": 9,
   "metadata": {},
   "outputs": [
    {
     "name": "stdout",
     "output_type": "stream",
     "text": [
      "[2023-03-16 20:35:20,730] EPLUS_ENV_Eplus-5Zone-mixed-discrete-stochastic-v1-FlexibleReset70972_MainThread_ROOT INFO:EnergyPlus episode completed successfully. \n",
      "[2023-03-16 20:35:20,730] EPLUS_ENV_Eplus-5Zone-mixed-discrete-stochastic-v1-FlexibleReset70972_MainThread_ROOT INFO:EnergyPlus episode completed successfully. \n",
      "[2023-03-16 20:35:20,731] EPLUS_ENV_Eplus-5Zone-mixed-discrete-stochastic-v1-FlexibleReset70972_MainThread_ROOT INFO:Creating new EnergyPlus simulation episode...\n",
      "[2023-03-16 20:35:20,731] EPLUS_ENV_Eplus-5Zone-mixed-discrete-stochastic-v1-FlexibleReset70972_MainThread_ROOT INFO:Creating new EnergyPlus simulation episode...\n",
      "[2023-03-16 20:35:20,884] EPLUS_ENV_Eplus-5Zone-mixed-discrete-stochastic-v1-FlexibleReset70972_MainThread_ROOT INFO:EnergyPlus working directory is in /mnt/7076984276980B4C/ssd_backup/ActiveRL/Eplus-env-Eplus-5Zone-mixed-discrete-stochastic-v1-FlexibleReset70972-res2/Eplus-env-sub_run3\n",
      "[2023-03-16 20:35:20,884] EPLUS_ENV_Eplus-5Zone-mixed-discrete-stochastic-v1-FlexibleReset70972_MainThread_ROOT INFO:EnergyPlus working directory is in /mnt/7076984276980B4C/ssd_backup/ActiveRL/Eplus-env-Eplus-5Zone-mixed-discrete-stochastic-v1-FlexibleReset70972-res2/Eplus-env-sub_run3\n",
      "tensor([[0.0307]], device='cuda:0', grad_fn=<UnsqueezeBackward0>)\n",
      "IG Attributions: tensor([ 0.0597,  0.0000, -0.0000,  0.0000, -0.2348,  0.0996,  0.0062,  0.0063,\n",
      "        -0.0000, -0.0000,  0.0043, -0.0038,  0.2166, -0.0000, -0.0455,  0.0000,\n",
      "        -0.0000,  0.0000,  0.0000, -0.1553], device='cuda:0',\n",
      "       dtype=torch.float64) tensor([ 8.5824e-04, -6.3219e-03,  1.5457e-02,  2.9164e-03,  1.3596e-02,\n",
      "         1.6943e-02, -5.3456e-04,  2.0950e-03,  1.2186e-03,  3.3324e-02,\n",
      "        -3.2668e-02,  2.2728e-02, -4.6019e-03, -9.2592e-06,  1.6061e-02,\n",
      "         9.0478e-03,  2.8829e-02,  1.4889e-02], device='cuda:0',\n",
      "       dtype=torch.float64)\n",
      "Convergence Delta: tensor([0.0083], device='cuda:0', dtype=torch.float64)\n"
     ]
    }
   ],
   "source": [
    "from captum.attr import IntegratedGradients\n",
    "import torch\n",
    "obs = torch.tensor(env.reset(), device=\"cuda\")[None, :]\n",
    "forward_fn = lambda obs: agent.compute_value_uncertainty(obs)[:, None]\n",
    "ig = IntegratedGradients(forward_fn)\n",
    "print(forward_fn(obs))\n",
    "attributions, delta = ig.attribute(obs, torch.zeros(obs.shape, device=\"cuda\"), target=0, return_convergence_delta=True, n_steps=200)\n",
    "print('IG Attributions:', attributions[0, 0:20], attributions[0, 20:])\n",
    "print('Convergence Delta:', delta)"
   ]
  },
  {
   "cell_type": "code",
   "execution_count": null,
   "metadata": {},
   "outputs": [],
   "source": []
  }
 ],
 "metadata": {
  "kernelspec": {
   "display_name": "ActiveRL",
   "language": "python",
   "name": "python3"
  },
  "language_info": {
   "codemirror_mode": {
    "name": "ipython",
    "version": 3
   },
   "file_extension": ".py",
   "mimetype": "text/x-python",
   "name": "python",
   "nbconvert_exporter": "python",
   "pygments_lexer": "ipython3",
   "version": "3.10.8"
  },
  "orig_nbformat": 4
 },
 "nbformat": 4,
 "nbformat_minor": 2
}
