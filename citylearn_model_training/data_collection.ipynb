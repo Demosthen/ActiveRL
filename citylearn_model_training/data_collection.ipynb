{
 "cells": [
  {
   "cell_type": "code",
   "execution_count": 1,
   "metadata": {},
   "outputs": [],
   "source": [
    "import sys\n",
    " \n",
    "# setting path\n",
    "sys.path.append('../')\n",
    "from citylearn.citylearn import CityLearnEnv\n",
    "from citylearn_wrapper import CityLearnEnvWrapper\n",
    "import csv"
   ]
  },
  {
   "cell_type": "code",
   "execution_count": 2,
   "metadata": {},
   "outputs": [],
   "source": [
    "env_config = {\n",
    "    \"schema\": \"../data/citylearn_challenge_2022_phase_1/schema.json\",\n",
    "}\n",
    "num_episodes = 20"
   ]
  },
  {
   "cell_type": "code",
   "execution_count": 3,
   "metadata": {},
   "outputs": [],
   "source": [
    "env = CityLearnEnvWrapper(env_config)"
   ]
  },
  {
   "cell_type": "code",
   "execution_count": 4,
   "metadata": {},
   "outputs": [],
   "source": [
    "def collect_dataset(env, num_episodes):\n",
    "    data = []\n",
    "    for i in range(num_episodes):\n",
    "        print(f\"Episode {i}, {len(data)} steps collected\")\n",
    "        obs = env.reset()\n",
    "        done = False\n",
    "        while not done:\n",
    "            action = env.action_space.sample()\n",
    "            next_obs, rew, done, info = env.step(action)\n",
    "            data.append([obs, next_obs, action.tolist(), rew, done])\n",
    "            obs = next_obs\n",
    "    return data\n",
    "\n",
    "def store_data(data, filename):\n",
    "    with open(filename, \"w\") as f:\n",
    "        writer = csv.writer(f, delimiter='|')\n",
    "        writer.writerow([\"obs\", \"next_obs\", \"action\", \"rew\", \"done\"])\n",
    "        writer.writerows(data)"
   ]
  },
  {
   "cell_type": "code",
   "execution_count": 5,
   "metadata": {},
   "outputs": [
    {
     "name": "stdout",
     "output_type": "stream",
     "text": [
      "Episode 0, 0 steps collected\n",
      "Episode 1, 8759 steps collected\n",
      "Episode 2, 17518 steps collected\n",
      "Episode 3, 26277 steps collected\n",
      "Episode 4, 35036 steps collected\n",
      "Episode 5, 43795 steps collected\n",
      "Episode 6, 52554 steps collected\n",
      "Episode 7, 61313 steps collected\n",
      "Episode 8, 70072 steps collected\n",
      "Episode 9, 78831 steps collected\n",
      "Episode 10, 87590 steps collected\n",
      "Episode 11, 96349 steps collected\n",
      "Episode 12, 105108 steps collected\n",
      "Episode 13, 113867 steps collected\n",
      "Episode 14, 122626 steps collected\n",
      "Episode 15, 131385 steps collected\n",
      "Episode 16, 140144 steps collected\n",
      "Episode 17, 148903 steps collected\n",
      "Episode 18, 157662 steps collected\n",
      "Episode 19, 166421 steps collected\n"
     ]
    }
   ],
   "source": [
    "data = collect_dataset(env, num_episodes)\n",
    "store_data(data, \"planning_model_data.csv\")"
   ]
  }
 ],
 "metadata": {
  "kernelspec": {
   "display_name": "Python 3.10.4 ('ActiveRL')",
   "language": "python",
   "name": "python3"
  },
  "language_info": {
   "codemirror_mode": {
    "name": "ipython",
    "version": 3
   },
   "file_extension": ".py",
   "mimetype": "text/x-python",
   "name": "python",
   "nbconvert_exporter": "python",
   "pygments_lexer": "ipython3",
   "version": "3.10.4"
  },
  "orig_nbformat": 4,
  "vscode": {
   "interpreter": {
    "hash": "05ed386050a6f61d6ae19bb50f9ad90c7e2b03875ed318bf31de6d12a39305c0"
   }
  }
 },
 "nbformat": 4,
 "nbformat_minor": 2
}
