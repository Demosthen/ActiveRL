{
 "cells": [
  {
   "cell_type": "code",
   "execution_count": 1,
   "metadata": {},
   "outputs": [
    {
     "name": "stderr",
     "output_type": "stream",
     "text": [
      "/home/doseok/miniconda3/envs/ActiveRL/lib/python3.10/site-packages/gym/spaces/box.py:112: UserWarning: \u001b[33mWARN: Box bound precision lowered by casting to float32\u001b[0m\n",
      "  logger.warn(f\"Box bound precision lowered by casting to {self.dtype}\")\n",
      "/mnt/7076984276980B4C/ssd_backup/ActiveRL/sinergym_wrapper.py:321: DeprecationWarning: getName() is deprecated, get the name attribute instead\n",
      "  self._thread_name = threading.current_thread().getName()\n"
     ]
    },
    {
     "name": "stdout",
     "output_type": "stream",
     "text": [
      "[2023-02-16 19:49:24,337] EPLUS_ENV_Eplus-5Zone-hot-discrete-stochastic-v1-FlexibleReset1809681_MainThread_ROOT INFO:Updating idf ExternalInterface object if it is not present...\n",
      "[2023-02-16 19:49:24,338] EPLUS_ENV_Eplus-5Zone-hot-discrete-stochastic-v1-FlexibleReset1809681_MainThread_ROOT INFO:Updating idf Site:Location and SizingPeriod:DesignDay(s) to weather and ddy file...\n",
      "[2023-02-16 19:49:24,339] EPLUS_ENV_Eplus-5Zone-hot-discrete-stochastic-v1-FlexibleReset1809681_MainThread_ROOT INFO:Updating idf OutPut:Variable and variables XML tree model for BVCTB connection.\n",
      "[2023-02-16 19:49:24,340] EPLUS_ENV_Eplus-5Zone-hot-discrete-stochastic-v1-FlexibleReset1809681_MainThread_ROOT INFO:Setting up extra configuration in building model if exists...\n",
      "[2023-02-16 19:49:24,341] EPLUS_ENV_Eplus-5Zone-hot-discrete-stochastic-v1-FlexibleReset1809681_MainThread_ROOT INFO:Setting up action definition in building model if exists...\n"
     ]
    },
    {
     "name": "stderr",
     "output_type": "stream",
     "text": [
      "/home/doseok/miniconda3/envs/ActiveRL/lib/python3.10/site-packages/gym/utils/passive_env_checker.py:97: UserWarning: \u001b[33mWARN: We recommend you to use a symmetric and normalized Box action space (range=[-1, 1]) https://stable-baselines3.readthedocs.io/en/master/guide/rl_tips.html\u001b[0m\n",
      "  logger.warn(\n",
      "/home/doseok/miniconda3/envs/ActiveRL/lib/python3.10/site-packages/gym/spaces/box.py:112: UserWarning: \u001b[33mWARN: Box bound precision lowered by casting to float32\u001b[0m\n",
      "  logger.warn(f\"Box bound precision lowered by casting to {self.dtype}\")\n"
     ]
    }
   ],
   "source": [
    "from sinergym_wrapper import SinergymWrapper\n",
    "from epw_scraper.epw_data import EPW_Data\n",
    "from utils import *\n",
    "import numpy as np\n",
    "import pandas as pd\n",
    "\n",
    "weather_var_names = ['drybulb', 'relhum',\n",
    "                        \"winddir\", \"dirnorrad\", \"difhorrad\"]\n",
    "weather_var_rev_names = [\"windspd\"]\n",
    "\n",
    "epw_data = EPW_Data.load(\"epw_scraper/US_epw_OU_data.pkl\")\n",
    "# We only need to include the default evaluation variability since we'll sample the rest later\n",
    "weather_var_config = get_variability_configs(\n",
    "    weather_var_names, weather_var_rev_names, epw_data=epw_data)\n",
    "\n",
    "weather_variabilities = []\n",
    "for row, pca in zip(epw_data.epw_df.iterrows(), epw_data.transformed_df.iterrows()):\n",
    "    row = row[1]\n",
    "    pca = pca[1]\n",
    "    weather_params = {}\n",
    "    for variable in weather_var_names + weather_var_rev_names:\n",
    "        OU_param = np.zeros(3)\n",
    "        for j in range(3):\n",
    "            OU_param[j] = np.array(row[f\"{variable}_{j}\"]).squeeze().item()\n",
    "        weather_params[variable] = OU_param\n",
    "    weather_variabilities.append(weather_params)\n",
    "\n",
    "env_config = {\n",
    "    # sigma, mean, tau for OU Process\n",
    "    \"weather_variability\": weather_variabilities,\n",
    "    \"variability_low\": weather_var_config[\"train_var_low\"],\n",
    "    \"variability_high\": weather_var_config[\"train_var_high\"],\n",
    "    \"use_rbc\": False,\n",
    "    \"use_random\": False,\n",
    "    \"sample_environments\": False,\n",
    "    \"sinergym_timesteps_per_hour\": 1\n",
    "}\n",
    "env = SinergymWrapper(env_config)"
   ]
  },
  {
   "cell_type": "code",
   "execution_count": 2,
   "metadata": {},
   "outputs": [
    {
     "name": "stderr",
     "output_type": "stream",
     "text": [
      "/home/doseok/miniconda3/envs/ActiveRL/lib/python3.10/site-packages/torch/utils/tensorboard/__init__.py:4: DeprecationWarning: distutils Version classes are deprecated. Use packaging.version instead.\n",
      "  if not hasattr(tensorboard, \"__version__\") or LooseVersion(\n",
      "/mnt/7076984276980B4C/ssd_backup/ActiveRL/dm_maze/dm_wrapper.py:3: DeprecationWarning: the imp module is deprecated in favour of importlib and slated for removal in Python 3.12; see the module's documentation for alternative uses\n",
      "  import imp\n"
     ]
    },
    {
     "name": "stdout",
     "output_type": "stream",
     "text": [
      "FullyConnectedNetwork(\n",
      "  (_logits): SlimFC(\n",
      "    (_model): Sequential(\n",
      "      (0): Linear(in_features=256, out_features=10, bias=True)\n",
      "    )\n",
      "  )\n",
      "  (_hidden_layers): Sequential(\n",
      "    (0): SlimFC(\n",
      "      (_model): Sequential(\n",
      "        (0): Linear(in_features=38, out_features=256, bias=True)\n",
      "        (1): Sequential(\n",
      "          (0): Tanh()\n",
      "          (1): Dropout(p=0.1, inplace=False)\n",
      "        )\n",
      "      )\n",
      "    )\n",
      "    (1): SlimFC(\n",
      "      (_model): Sequential(\n",
      "        (0): Linear(in_features=256, out_features=256, bias=True)\n",
      "        (1): Sequential(\n",
      "          (0): Tanh()\n",
      "          (1): Dropout(p=0.1, inplace=False)\n",
      "        )\n",
      "      )\n",
      "    )\n",
      "  )\n",
      "  (_value_branch): SlimFC(\n",
      "    (_model): Sequential(\n",
      "      (0): Linear(in_features=256, out_features=1, bias=True)\n",
      "    )\n",
      "  )\n",
      ")\n"
     ]
    }
   ],
   "source": [
    "from uncertain_ppo import UncertainPPOTorchPolicy\n",
    "# agent = UncertainPPO(config={\"env_config\": env_config, \"env\": env, \"disable_env_checking\": True})\n",
    "agent = UncertainPPOTorchPolicy.from_checkpoint(\"checkpoints/activerl\")[\"default_policy\"]"
   ]
  },
  {
   "cell_type": "code",
   "execution_count": 3,
   "metadata": {},
   "outputs": [
    {
     "data": {
      "text/plain": [
       "dict_keys(['framework', '_loss_initialized', 'observation_space', 'action_space', 'observation_space_struct', 'action_space_struct', 'config', 'callbacks', 'global_timestep', 'num_grad_updates', 'dist_class', 'view_requirements', '_model_init_state_automatically_added', 'agent_connectors', 'action_connectors', 'devices', 'device', 'model_gpu_towers', 'model', 'unwrapped_model', '_lock', '_state_inputs', '_is_recurrent', 'exploration', '_optimizers', '_loss', 'multi_gpu_param_groups', '_loaded_batches', 'distributed_world_size', 'batch_divisibility_req', 'max_seq_len', '_value', '_lr_schedule', 'cur_lr', '_entropy_coeff_schedule', 'entropy_coeff', 'kl_coeff', 'kl_target', '_no_tracing', '_dummy_batch', 'num_dropout_evals'])"
      ]
     },
     "execution_count": 3,
     "metadata": {},
     "output_type": "execute_result"
    }
   ],
   "source": [
    "agent.__dict__.keys()"
   ]
  },
  {
   "cell_type": "code",
   "execution_count": 4,
   "metadata": {},
   "outputs": [],
   "source": [
    "agent.model = agent.model.to(\"cuda\")"
   ]
  },
  {
   "cell_type": "code",
   "execution_count": 5,
   "metadata": {},
   "outputs": [
    {
     "name": "stdout",
     "output_type": "stream",
     "text": [
      "[2023-02-16 19:49:28,895] EPLUS_ENV_Eplus-5Zone-hot-discrete-stochastic-v1-FlexibleReset1809681_MainThread_ROOT INFO:Creating new EnergyPlus simulation episode...\n",
      "[2023-02-16 19:49:29,007] EPLUS_ENV_Eplus-5Zone-hot-discrete-stochastic-v1-FlexibleReset1809681_MainThread_ROOT INFO:EnergyPlus working directory is in /mnt/7076984276980B4C/ssd_backup/ActiveRL/Eplus-env-Eplus-5Zone-hot-discrete-stochastic-v1-FlexibleReset1809681-res1/Eplus-env-sub_run1\n"
     ]
    },
    {
     "name": "stderr",
     "output_type": "stream",
     "text": [
      "/home/doseok/miniconda3/envs/ActiveRL/lib/python3.10/site-packages/gym/utils/passive_env_checker.py:216: UserWarning: \u001b[33mWARN: Future gym versions will require that `Env.reset` can be passed a `seed` instead of using `Env.seed` for resetting the environment random number generator. \u001b[0m\n",
      "  logger.warn(\n",
      "/home/doseok/miniconda3/envs/ActiveRL/lib/python3.10/site-packages/gym/utils/passive_env_checker.py:228: UserWarning: \u001b[33mWARN: Future gym versions will require that `Env.reset` can be passed `return_info` to return information from the environment resetting.\u001b[0m\n",
      "  logger.warn(\n",
      "/home/doseok/miniconda3/envs/ActiveRL/lib/python3.10/site-packages/gym/utils/passive_env_checker.py:233: UserWarning: \u001b[33mWARN: Future gym versions will require that `Env.reset` can be passed `options` to allow the environment initialisation to be passed additional information.\u001b[0m\n",
      "  logger.warn(\n"
     ]
    },
    {
     "name": "stdout",
     "output_type": "stream",
     "text": [
      "PRESET VARIABILITY {'drybulb': array([ 7.32890664e+00, -1.46704904e+01,  5.56886516e-03]), 'relhum': array([2.74770835e+01, 1.97655611e+01, 4.16457610e-03]), 'winddir': array([1.20503325e+02, 8.22794702e+00, 4.01096933e-04]), 'dirnorrad': array([ 2.78731385e+02, -3.95705723e+01,  5.97677364e-04]), 'difhorrad': array([6.26395029e+01, 4.83088340e-01, 3.73415552e-04]), 'windspd': array([3.27976588e+00, 2.12826001e+00, 8.49027825e-04])}\n",
      "[2023-02-16 19:49:31,970] EPLUS_ENV_Eplus-5Zone-hot-discrete-stochastic-v1-FlexibleReset1809681_MainThread_ROOT INFO:EnergyPlus episode completed successfully. \n",
      "[2023-02-16 19:49:31,971] EPLUS_ENV_Eplus-5Zone-hot-discrete-stochastic-v1-FlexibleReset1809681_MainThread_ROOT INFO:Creating new EnergyPlus simulation episode...\n",
      "[2023-02-16 19:49:32,128] EPLUS_ENV_Eplus-5Zone-hot-discrete-stochastic-v1-FlexibleReset1809681_MainThread_ROOT INFO:EnergyPlus working directory is in /mnt/7076984276980B4C/ssd_backup/ActiveRL/Eplus-env-Eplus-5Zone-hot-discrete-stochastic-v1-FlexibleReset1809681-res1/Eplus-env-sub_run2\n",
      "[2023-02-16 19:49:45,547] EPLUS_ENV_Eplus-5Zone-hot-discrete-stochastic-v1-FlexibleReset1809681_MainThread_ROOT INFO:EnergyPlus episode completed successfully. \n",
      "[2023-02-16 19:49:45,549] EPLUS_ENV_Eplus-5Zone-hot-discrete-stochastic-v1-FlexibleReset1809681_MainThread_ROOT INFO:Creating new EnergyPlus simulation episode...\n",
      "[2023-02-16 19:49:45,657] EPLUS_ENV_Eplus-5Zone-hot-discrete-stochastic-v1-FlexibleReset1809681_MainThread_ROOT INFO:EnergyPlus working directory is in /mnt/7076984276980B4C/ssd_backup/ActiveRL/Eplus-env-Eplus-5Zone-hot-discrete-stochastic-v1-FlexibleReset1809681-res1/Eplus-env-sub_run3\n",
      "PRESET VARIABILITY {'drybulb': array([ 6.93778943e+00, -1.44424103e+01,  4.15688031e-03]), 'relhum': array([2.92410249e+01, 1.76903032e+01, 3.79097652e-03]), 'winddir': array([1.29299045e+02, 2.98865788e+01, 4.07663541e-04]), 'dirnorrad': array([ 2.73847026e+02, -4.84194377e+01,  5.28239147e-04]), 'difhorrad': array([6.38829903e+01, 2.47823605e+00, 3.56999318e-04]), 'windspd': array([3.32672726e+00, 2.25517014e+00, 6.23023190e-04])}\n",
      "[2023-02-16 19:49:48,537] EPLUS_ENV_Eplus-5Zone-hot-discrete-stochastic-v1-FlexibleReset1809681_MainThread_ROOT INFO:EnergyPlus episode completed successfully. \n",
      "[2023-02-16 19:49:48,539] EPLUS_ENV_Eplus-5Zone-hot-discrete-stochastic-v1-FlexibleReset1809681_MainThread_ROOT INFO:Creating new EnergyPlus simulation episode...\n",
      "[2023-02-16 19:49:48,703] EPLUS_ENV_Eplus-5Zone-hot-discrete-stochastic-v1-FlexibleReset1809681_MainThread_ROOT INFO:EnergyPlus working directory is in /mnt/7076984276980B4C/ssd_backup/ActiveRL/Eplus-env-Eplus-5Zone-hot-discrete-stochastic-v1-FlexibleReset1809681-res1/Eplus-env-sub_run4\n",
      "[2023-02-16 19:50:01,859] EPLUS_ENV_Eplus-5Zone-hot-discrete-stochastic-v1-FlexibleReset1809681_MainThread_ROOT INFO:EnergyPlus episode completed successfully. \n",
      "[2023-02-16 19:50:01,860] EPLUS_ENV_Eplus-5Zone-hot-discrete-stochastic-v1-FlexibleReset1809681_MainThread_ROOT INFO:Creating new EnergyPlus simulation episode...\n",
      "[2023-02-16 19:50:01,966] EPLUS_ENV_Eplus-5Zone-hot-discrete-stochastic-v1-FlexibleReset1809681_MainThread_ROOT INFO:EnergyPlus working directory is in /mnt/7076984276980B4C/ssd_backup/ActiveRL/Eplus-env-Eplus-5Zone-hot-discrete-stochastic-v1-FlexibleReset1809681-res1/Eplus-env-sub_run5\n",
      "PRESET VARIABILITY {'drybulb': array([ 6.61879204e+00, -1.44908657e+01,  3.76252668e-03]), 'relhum': array([3.03959742e+01, 1.94298148e+01, 3.62688137e-03]), 'winddir': array([1.22817592e+02, 3.84025488e+01, 3.80629887e-04]), 'dirnorrad': array([ 2.94987242e+02, -2.89463394e+01,  5.81631411e-04]), 'difhorrad': array([ 6.80836829e+01, -2.60468103e+00,  3.82517422e-04]), 'windspd': array([3.30001018e+00, 2.34479316e+00, 5.32591532e-04])}\n",
      "[2023-02-16 19:50:04,879] EPLUS_ENV_Eplus-5Zone-hot-discrete-stochastic-v1-FlexibleReset1809681_MainThread_ROOT INFO:EnergyPlus episode completed successfully. \n",
      "[2023-02-16 19:50:04,880] EPLUS_ENV_Eplus-5Zone-hot-discrete-stochastic-v1-FlexibleReset1809681_MainThread_ROOT INFO:Creating new EnergyPlus simulation episode...\n",
      "[2023-02-16 19:50:05,037] EPLUS_ENV_Eplus-5Zone-hot-discrete-stochastic-v1-FlexibleReset1809681_MainThread_ROOT INFO:EnergyPlus working directory is in /mnt/7076984276980B4C/ssd_backup/ActiveRL/Eplus-env-Eplus-5Zone-hot-discrete-stochastic-v1-FlexibleReset1809681-res1/Eplus-env-sub_run6\n",
      "[2023-02-16 19:50:18,241] EPLUS_ENV_Eplus-5Zone-hot-discrete-stochastic-v1-FlexibleReset1809681_MainThread_ROOT INFO:EnergyPlus episode completed successfully. \n",
      "[2023-02-16 19:50:18,244] EPLUS_ENV_Eplus-5Zone-hot-discrete-stochastic-v1-FlexibleReset1809681_MainThread_ROOT INFO:Creating new EnergyPlus simulation episode...\n",
      "[2023-02-16 19:50:18,353] EPLUS_ENV_Eplus-5Zone-hot-discrete-stochastic-v1-FlexibleReset1809681_MainThread_ROOT INFO:EnergyPlus working directory is in /mnt/7076984276980B4C/ssd_backup/ActiveRL/Eplus-env-Eplus-5Zone-hot-discrete-stochastic-v1-FlexibleReset1809681-res1/Eplus-env-sub_run7\n",
      "PRESET VARIABILITY {'drybulb': array([ 6.32836276e+00, -1.44419677e+01,  3.37339323e-03]), 'relhum': array([2.75136488e+01, 1.86629727e+01, 3.28356527e-03]), 'winddir': array([1.18578621e+02, 3.17293803e+01, 3.75707553e-04]), 'dirnorrad': array([ 2.85364207e+02, -5.80632225e+01,  5.72808223e-04]), 'difhorrad': array([6.66245823e+01, 4.62037962e+00, 3.77911581e-04]), 'windspd': array([3.18758201e+00, 2.09022706e+00, 5.46099463e-04])}\n",
      "[2023-02-16 19:50:21,213] EPLUS_ENV_Eplus-5Zone-hot-discrete-stochastic-v1-FlexibleReset1809681_MainThread_ROOT INFO:EnergyPlus episode completed successfully. \n",
      "[2023-02-16 19:50:21,214] EPLUS_ENV_Eplus-5Zone-hot-discrete-stochastic-v1-FlexibleReset1809681_MainThread_ROOT INFO:Creating new EnergyPlus simulation episode...\n",
      "[2023-02-16 19:50:21,377] EPLUS_ENV_Eplus-5Zone-hot-discrete-stochastic-v1-FlexibleReset1809681_MainThread_ROOT INFO:EnergyPlus working directory is in /mnt/7076984276980B4C/ssd_backup/ActiveRL/Eplus-env-Eplus-5Zone-hot-discrete-stochastic-v1-FlexibleReset1809681-res1/Eplus-env-sub_run8\n",
      "[2023-02-16 19:50:34,585] EPLUS_ENV_Eplus-5Zone-hot-discrete-stochastic-v1-FlexibleReset1809681_MainThread_ROOT INFO:EnergyPlus episode completed successfully. \n",
      "[2023-02-16 19:50:34,588] EPLUS_ENV_Eplus-5Zone-hot-discrete-stochastic-v1-FlexibleReset1809681_MainThread_ROOT INFO:Creating new EnergyPlus simulation episode...\n",
      "[2023-02-16 19:50:34,711] EPLUS_ENV_Eplus-5Zone-hot-discrete-stochastic-v1-FlexibleReset1809681_MainThread_ROOT INFO:EnergyPlus working directory is in /mnt/7076984276980B4C/ssd_backup/ActiveRL/Eplus-env-Eplus-5Zone-hot-discrete-stochastic-v1-FlexibleReset1809681-res1/Eplus-env-sub_run9\n",
      "PRESET VARIABILITY {'drybulb': array([ 7.03531127e+00, -1.33735614e+01,  3.64543306e-03]), 'relhum': array([2.79408594e+01, 1.06377774e+01, 3.21194830e-03]), 'winddir': array([ 1.23906389e+02, -3.09203696e+01,  2.24534144e-04]), 'dirnorrad': array([ 2.97460367e+02, -3.59113743e+01,  4.57960350e-04]), 'difhorrad': array([6.46880645e+01, 4.74668188e-01, 3.17877202e-04]), 'windspd': array([ 2.59415723e+00, -1.85617499e-01,  3.35840176e-04])}\n",
      "[2023-02-16 19:50:37,568] EPLUS_ENV_Eplus-5Zone-hot-discrete-stochastic-v1-FlexibleReset1809681_MainThread_ROOT INFO:EnergyPlus episode completed successfully. \n",
      "[2023-02-16 19:50:37,570] EPLUS_ENV_Eplus-5Zone-hot-discrete-stochastic-v1-FlexibleReset1809681_MainThread_ROOT INFO:Creating new EnergyPlus simulation episode...\n",
      "[2023-02-16 19:50:37,739] EPLUS_ENV_Eplus-5Zone-hot-discrete-stochastic-v1-FlexibleReset1809681_MainThread_ROOT INFO:EnergyPlus working directory is in /mnt/7076984276980B4C/ssd_backup/ActiveRL/Eplus-env-Eplus-5Zone-hot-discrete-stochastic-v1-FlexibleReset1809681-res1/Eplus-env-sub_run10\n"
     ]
    }
   ],
   "source": [
    "\n",
    "rew_df = {\"rew\": [], \"x\": [], \"y\": []}\n",
    "bad_idxs = []\n",
    "for i in range(5):#range(len(weather_variabilities)):\n",
    "    try:\n",
    "        pca = epw_data.transformed_df.iloc[i]\n",
    "        obs = env.reset(i)\n",
    "        done = False\n",
    "        avg_rew = 0\n",
    "        cnt = 0\n",
    "        while not done:\n",
    "            action = agent.compute_single_action(obs)[0]\n",
    "            obs, rew, done, _ = env.step(action)\n",
    "            avg_rew += rew\n",
    "            cnt += 1\n",
    "        rew_df[\"rew\"].append(avg_rew / cnt)\n",
    "        rew_df[\"x\"].append(pca[0])\n",
    "        rew_df[\"y\"].append(pca[1])\n",
    "    except Exception as e:\n",
    "        bad_idxs.append(i)\n",
    "        "
   ]
  },
  {
   "cell_type": "code",
   "execution_count": 6,
   "metadata": {},
   "outputs": [],
   "source": [
    "rew_df = pd.DataFrame.from_dict(rew_df)"
   ]
  },
  {
   "cell_type": "code",
   "execution_count": 7,
   "metadata": {},
   "outputs": [
    {
     "name": "stderr",
     "output_type": "stream",
     "text": [
      "/tmp/ipykernel_1809681/3621953069.py:4: FutureWarning: Support for multi-dimensional indexing (e.g. `obj[:, None]`) is deprecated and will be removed in a future version.  Convert to a numpy array before indexing instead.\n",
      "  rews = np.array(rew_df[\"rew\"][:, None])\n"
     ]
    },
    {
     "data": {
      "text/plain": [
       "<matplotlib.collections.PathCollection at 0x7feb84442dd0>"
      ]
     },
     "execution_count": 7,
     "metadata": {},
     "output_type": "execute_result"
    },
    {
     "data": {
      "image/png": "[encoded data removed]",
      "text/plain": [
       "<Figure size 640x480 with 1 Axes>"
      ]
     },
     "metadata": {},
     "output_type": "display_data"
    }
   ],
   "source": [
    "import matplotlib.pyplot as plt\n",
    "green = np.array([0,0,1])\n",
    "red = np.array([1,0,0])\n",
    "rews = np.array(rew_df[\"rew\"][:, None])\n",
    "plt.scatter(rew_df[\"x\"], rew_df[\"y\"], c=( rews > 0.5) * green + (rews <= 0.5) * red)"
   ]
  },
  {
   "cell_type": "code",
   "execution_count": 10,
   "metadata": {},
   "outputs": [
    {
     "data": {
      "text/html": [
       "<div>\n",
       "<style scoped>\n",
       "    .dataframe tbody tr th:only-of-type {\n",
       "        vertical-align: middle;\n",
       "    }\n",
       "\n",
       "    .dataframe tbody tr th {\n",
       "        vertical-align: top;\n",
       "    }\n",
       "\n",
       "    .dataframe thead th {\n",
       "        text-align: right;\n",
       "    }\n",
       "</style>\n",
       "<table border=\"1\" class=\"dataframe\">\n",
       "  <thead>\n",
       "    <tr style=\"text-align: right;\">\n",
       "      <th></th>\n",
       "      <th>rew</th>\n",
       "      <th>x</th>\n",
       "      <th>y</th>\n",
       "    </tr>\n",
       "  </thead>\n",
       "  <tbody>\n",
       "    <tr>\n",
       "      <th>0</th>\n",
       "      <td>-0.455074</td>\n",
       "      <td>-0.362468</td>\n",
       "      <td>1.516681</td>\n",
       "    </tr>\n",
       "    <tr>\n",
       "      <th>1</th>\n",
       "      <td>-0.438776</td>\n",
       "      <td>-0.362468</td>\n",
       "      <td>1.516681</td>\n",
       "    </tr>\n",
       "    <tr>\n",
       "      <th>2</th>\n",
       "      <td>-0.421518</td>\n",
       "      <td>-0.362468</td>\n",
       "      <td>1.516681</td>\n",
       "    </tr>\n",
       "    <tr>\n",
       "      <th>3</th>\n",
       "      <td>-0.424568</td>\n",
       "      <td>-0.362468</td>\n",
       "      <td>1.516681</td>\n",
       "    </tr>\n",
       "    <tr>\n",
       "      <th>4</th>\n",
       "      <td>-0.432518</td>\n",
       "      <td>-0.362468</td>\n",
       "      <td>1.516681</td>\n",
       "    </tr>\n",
       "  </tbody>\n",
       "</table>\n",
       "</div>"
      ],
      "text/plain": [
       "        rew         x         y\n",
       "0 -0.455074 -0.362468  1.516681\n",
       "1 -0.438776 -0.362468  1.516681\n",
       "2 -0.421518 -0.362468  1.516681\n",
       "3 -0.424568 -0.362468  1.516681\n",
       "4 -0.432518 -0.362468  1.516681"
      ]
     },
     "execution_count": 10,
     "metadata": {},
     "output_type": "execute_result"
    }
   ],
   "source": [
    "rew_df"
   ]
  },
  {
   "cell_type": "code",
   "execution_count": null,
   "metadata": {},
   "outputs": [],
   "source": []
  }
 ],
 "metadata": {
  "kernelspec": {
   "display_name": "ActiveRL",
   "language": "python",
   "name": "python3"
  },
  "language_info": {
   "codemirror_mode": {
    "name": "ipython",
    "version": 3
   },
   "file_extension": ".py",
   "mimetype": "text/x-python",
   "name": "python",
   "nbconvert_exporter": "python",
   "pygments_lexer": "ipython3",
   "version": "3.10.8"
  },
  "orig_nbformat": 4,
  "vscode": {
   "interpreter": {
    "hash": "05ed386050a6f61d6ae19bb50f9ad90c7e2b03875ed318bf31de6d12a39305c0"
   }
  }
 },
 "nbformat": 4,
 "nbformat_minor": 2
}
