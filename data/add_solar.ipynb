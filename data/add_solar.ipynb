{
 "cells": [
  {
   "cell_type": "code",
   "execution_count": 1,
   "metadata": {},
   "outputs": [],
   "source": [
    "import pandas as pd\n",
    "import os\n",
    "import sys\n"
   ]
  },
  {
   "cell_type": "code",
   "execution_count": 2,
   "metadata": {},
   "outputs": [],
   "source": [
    "folder_name = \".old/Test_snowy_Cali_winter/\"\n",
    "output_folder = \"Test_snowy_Cali_winter\""
   ]
  },
  {
   "cell_type": "code",
   "execution_count": 3,
   "metadata": {},
   "outputs": [],
   "source": [
    "buildings = []\n",
    "building_paths = []\n",
    "solar = None\n",
    "weather = None\n",
    "weather_path = None\n",
    "for file_name in os.listdir(folder_name):\n",
    "    file = os.path.join(folder_name, file_name)\n",
    "    out_file = os.path.join(output_folder, file_name)\n",
    "    if \"Building\" in file_name:\n",
    "        buildings.append(pd.read_csv(file))\n",
    "        building_paths.append(file_name)\n",
    "    elif \"solar\" in file_name:\n",
    "        solar = pd.read_csv(file)\n",
    "        solar = solar.drop('Unnamed: 0', axis=1)\n",
    "        solar.to_csv(out_file)\n",
    "    elif \"weather\" in file_name:\n",
    "        weather = pd.read_csv(file)\n",
    "        weather = weather.drop('Unnamed: 0', axis=1)\n",
    "        weather.to_csv(out_file)"
   ]
  },
  {
   "cell_type": "code",
   "execution_count": 4,
   "metadata": {},
   "outputs": [],
   "source": [
    "for i in range(len(buildings)):\n",
    "    buildings[i] = buildings[i].drop('Unnamed: 0', axis=1)\n",
    "    buildings[i][\"Heating Load [kWh]\"] = 0\n",
    "    buildings[i][\"Solar Generation [W/kW]\"] = solar[\"Hourly Data: AC inverter power (W)\"]"
   ]
  },
  {
   "cell_type": "code",
   "execution_count": 5,
   "metadata": {},
   "outputs": [],
   "source": [
    "for building, building_path in zip(buildings, building_paths):\n",
    "    full_building_path = os.path.join(output_folder, building_path)\n",
    "    building.to_csv(full_building_path, index=False)\n",
    "weather.csv()"
   ]
  },
  {
   "cell_type": "code",
   "execution_count": null,
   "metadata": {},
   "outputs": [],
   "source": []
  }
 ],
 "metadata": {
  "kernelspec": {
   "display_name": "Python 3.10.4 ('ActiveRL')",
   "language": "python",
   "name": "python3"
  },
  "language_info": {
   "codemirror_mode": {
    "name": "ipython",
    "version": 3
   },
   "file_extension": ".py",
   "mimetype": "text/x-python",
   "name": "python",
   "nbconvert_exporter": "python",
   "pygments_lexer": "ipython3",
   "version": "3.10.4"
  },
  "orig_nbformat": 4,
  "vscode": {
   "interpreter": {
    "hash": "05ed386050a6f61d6ae19bb50f9ad90c7e2b03875ed318bf31de6d12a39305c0"
   }
  }
 },
 "nbformat": 4,
 "nbformat_minor": 2
}
