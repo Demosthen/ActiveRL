{
 "cells": [
  {
   "cell_type": "code",
   "execution_count": 6,
   "metadata": {},
   "outputs": [
    {
     "data": {
      "text/html": [
       "Finishing last run (ID:nmzwkgul) before initializing another..."
      ],
      "text/plain": [
       "<IPython.core.display.HTML object>"
      ]
     },
     "metadata": {},
     "output_type": "display_data"
    },
    {
     "data": {
      "text/html": [
       "Waiting for W&B process to finish... <strong style=\"color:green\">(success).</strong>"
      ],
      "text/plain": [
       "<IPython.core.display.HTML object>"
      ]
     },
     "metadata": {},
     "output_type": "display_data"
    },
    {
     "data": {
      "text/html": [
       " View run <strong style=\"color:#cdcd00\">skilled-microwave-21</strong> at: <a href='https://wandb.ai/doseok/ActiveRL/runs/nmzwkgul' target=\"_blank\">https://wandb.ai/doseok/ActiveRL/runs/nmzwkgul</a><br/>Synced 6 W&B file(s), 1 media file(s), 0 artifact file(s) and 0 other file(s)"
      ],
      "text/plain": [
       "<IPython.core.display.HTML object>"
      ]
     },
     "metadata": {},
     "output_type": "display_data"
    },
    {
     "data": {
      "text/html": [
       "Find logs at: <code>./wandb/run-20230429_015540-nmzwkgul/logs</code>"
      ],
      "text/plain": [
       "<IPython.core.display.HTML object>"
      ]
     },
     "metadata": {},
     "output_type": "display_data"
    },
    {
     "data": {
      "text/html": [
       "Successfully finished last run (ID:nmzwkgul). Initializing new run:<br/>"
      ],
      "text/plain": [
       "<IPython.core.display.HTML object>"
      ]
     },
     "metadata": {},
     "output_type": "display_data"
    },
    {
     "data": {
      "application/vnd.jupyter.widget-view+json": {
       "model_id": "04d5e0993d3c432d9e6b73cde11233c3",
       "version_major": 2,
       "version_minor": 0
      },
      "text/plain": [
       "VBox(children=(Label(value='Waiting for wandb.init()...\\r'), FloatProgress(value=0.016667950116485978, max=1.0…"
      ]
     },
     "metadata": {},
     "output_type": "display_data"
    },
    {
     "data": {
      "text/html": [
       "wandb version 0.15.0 is available!  To upgrade, please run:\n",
       " $ pip install wandb --upgrade"
      ],
      "text/plain": [
       "<IPython.core.display.HTML object>"
      ]
     },
     "metadata": {},
     "output_type": "display_data"
    },
    {
     "data": {
      "text/html": [
       "Tracking run with wandb version 0.14.0"
      ],
      "text/plain": [
       "<IPython.core.display.HTML object>"
      ]
     },
     "metadata": {},
     "output_type": "display_data"
    },
    {
     "data": {
      "text/html": [
       "Run data is saved locally in <code>/mnt/7076984276980B4C/ssd_backup/ActiveRL/wandb/run-20230429_015910-6jng7ofd</code>"
      ],
      "text/plain": [
       "<IPython.core.display.HTML object>"
      ]
     },
     "metadata": {},
     "output_type": "display_data"
    },
    {
     "data": {
      "text/html": [
       "Syncing run <strong><a href='https://wandb.ai/doseok/ActiveRL/runs/6jng7ofd' target=\"_blank\">polar-plant-22</a></strong> to <a href='https://wandb.ai/doseok/ActiveRL' target=\"_blank\">Weights & Biases</a> (<a href='https://wandb.me/run' target=\"_blank\">docs</a>)<br/>"
      ],
      "text/plain": [
       "<IPython.core.display.HTML object>"
      ]
     },
     "metadata": {},
     "output_type": "display_data"
    },
    {
     "data": {
      "text/html": [
       " View project at <a href='https://wandb.ai/doseok/ActiveRL' target=\"_blank\">https://wandb.ai/doseok/ActiveRL</a>"
      ],
      "text/plain": [
       "<IPython.core.display.HTML object>"
      ]
     },
     "metadata": {},
     "output_type": "display_data"
    },
    {
     "data": {
      "text/html": [
       " View run at <a href='https://wandb.ai/doseok/ActiveRL/runs/6jng7ofd' target=\"_blank\">https://wandb.ai/doseok/ActiveRL/runs/6jng7ofd</a>"
      ],
      "text/plain": [
       "<IPython.core.display.HTML object>"
      ]
     },
     "metadata": {},
     "output_type": "display_data"
    },
    {
     "name": "stderr",
     "output_type": "stream",
     "text": [
      "\u001b[34m\u001b[1mwandb\u001b[0m:   1 of 1 files downloaded.  \n"
     ]
    }
   ],
   "source": [
    "import wandb\n",
    "run = wandb.init()\n",
    "runs = [59, 56, 60, 57, 58, 61]\n",
    "artifact = run.use_artifact('doseok/ActiveRL/reward_data:v61', type='evaluation')\n",
    "artifact_dir = artifact.download()\n",
    "ARTIFACT_TYPE = \"scatter\""
   ]
  },
  {
   "cell_type": "code",
   "execution_count": 7,
   "metadata": {},
   "outputs": [
    {
     "name": "stdout",
     "output_type": "stream",
     "text": [
      "./artifacts/reward_data:v61/1_117_active_vs_activeplr.pkl\n"
     ]
    }
   ],
   "source": [
    "import os\n",
    "import pickle\n",
    "file_name = list(os.listdir(artifact_dir))[0]\n",
    "file_name = os.path.join(artifact_dir, file_name)\n",
    "print(file_name)\n",
    "with open(file_name, 'rb') as f:\n",
    "    data = pickle.load(f)\n",
    "rews, bad_idxs = data"
   ]
  },
  {
   "cell_type": "code",
   "execution_count": 11,
   "metadata": {},
   "outputs": [
    {
     "data": {
      "text/plain": [
       "dict_keys(['median_activeplr', 'median_activerl'])"
      ]
     },
     "execution_count": 11,
     "metadata": {},
     "output_type": "execute_result"
    }
   ],
   "source": [
    "rews.keys()"
   ]
  },
  {
   "cell_type": "code",
   "execution_count": 12,
   "metadata": {},
   "outputs": [
    {
     "name": "stdout",
     "output_type": "stream",
     "text": [
      "set()\n",
      "median_activerl:            rew         x         y  idx\n",
      "0   -0.388746  0.103472  0.260794    0\n",
      "1   -0.300583 -0.049980  0.143678    1\n",
      "2   -0.337123 -0.128204  0.192089    2\n",
      "3   -0.357794 -0.090003  0.130694    3\n",
      "4   -0.359165  0.009176  0.024713    4\n",
      "..        ...       ...       ...  ...\n",
      "115 -0.344243 -0.030980 -0.117930  115\n",
      "116 -0.316434 -0.135319 -0.200766  116\n",
      "117 -0.334609 -0.092765 -0.286366  117\n",
      "118 -0.320170 -0.384961 -0.188659  118\n",
      "119 -0.309459 -0.039971 -0.011125  119\n",
      "\n",
      "[120 rows x 4 columns]\n",
      "median_activeplr:            rew         x         y  idx\n",
      "0   -0.394193  0.103472  0.260794    0\n",
      "1   -0.305745 -0.049980  0.143678    1\n",
      "2   -0.343141 -0.128204  0.192089    2\n",
      "3   -0.363810 -0.090003  0.130694    3\n",
      "4   -0.364229  0.009176  0.024713    4\n",
      "..        ...       ...       ...  ...\n",
      "115 -0.350565 -0.030980 -0.117930  115\n",
      "116 -0.321689 -0.135319 -0.200766  116\n",
      "117 -0.340646 -0.092765 -0.286366  117\n",
      "118 -0.326092 -0.384961 -0.188659  118\n",
      "119 -0.315429 -0.039971 -0.011125  119\n",
      "\n",
      "[120 rows x 4 columns]\n",
      "TOOK 0.006503381999209523 SECONDS\n"
     ]
    },
    {
     "data": {
      "image/png": "[encoded data removed]",
      "text/plain": [
       "<Figure size 640x480 with 1 Axes>"
      ]
     },
     "metadata": {},
     "output_type": "display_data"
    }
   ],
   "source": [
    "import time\n",
    "import writeup.utils as utils\n",
    "from importlib import reload\n",
    "reload(utils)\n",
    "if ARTIFACT_TYPE == \"scatter\":\n",
    "    utils.plot_scatter(time.perf_counter(), rews, bad_idxs, \"median_activerl\")\n",
    "else:\n",
    "    utils.plot_bars(time.perf_counter(), rews, bad_idxs, \"results\", only_avg=True)"
   ]
  },
  {
   "cell_type": "code",
   "execution_count": null,
   "metadata": {},
   "outputs": [],
   "source": []
  },
  {
   "cell_type": "code",
   "execution_count": null,
   "metadata": {},
   "outputs": [],
   "source": []
  }
 ],
 "metadata": {
  "kernelspec": {
   "display_name": "imagenet_decoding",
   "language": "python",
   "name": "python3"
  },
  "language_info": {
   "codemirror_mode": {
    "name": "ipython",
    "version": 3
   },
   "file_extension": ".py",
   "mimetype": "text/x-python",
   "name": "python",
   "nbconvert_exporter": "python",
   "pygments_lexer": "ipython3",
   "version": "3.10.8"
  },
  "orig_nbformat": 4
 },
 "nbformat": 4,
 "nbformat_minor": 2
}
