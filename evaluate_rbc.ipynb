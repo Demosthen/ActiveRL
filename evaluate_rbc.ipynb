{
 "cells": [
  {
   "cell_type": "code",
   "execution_count": 1,
   "metadata": {},
   "outputs": [
    {
     "name": "stderr",
     "output_type": "stream",
     "text": [
      "/home/doseok/miniconda3/envs/ActiveRL/lib/python3.10/site-packages/torch/utils/tensorboard/__init__.py:4: DeprecationWarning: distutils Version classes are deprecated. Use packaging.version instead.\n",
      "  if not hasattr(tensorboard, \"__version__\") or LooseVersion(\n"
     ]
    }
   ],
   "source": [
    "from citylearn_wrapper import CityLearnEnvWrapper\n",
    "import multiprocessing as mp\n",
    "import numpy as np\n",
    "import pandas as pd\n",
    "import os\n",
    "from rbc_agent import RBCAgent\n",
    "from constants import *"
   ]
  },
  {
   "cell_type": "code",
   "execution_count": 2,
   "metadata": {},
   "outputs": [],
   "source": [
    "paths = [f\"data/Test_{env_name}\" for env_name in CL_ENV_KEYS]\n",
    "schemas = [os.path.join(cl_path, \"schema.json\") for cl_path in paths]\n",
    "env_configs = [{\n",
    "    \"schema\": schema,\n",
    "    \"is_evaluation\": True,\n",
    "} for schema in schemas]"
   ]
  },
  {
   "cell_type": "code",
   "execution_count": 3,
   "metadata": {},
   "outputs": [
    {
     "name": "stdout",
     "output_type": "stream",
     "text": [
      "TRAIN ENV SCHEMA:  ['/mnt/7076984276980B4C/ssd_backup/ActiveRL/data/Test_cold_Texas']\n",
      "TRAIN ENV SCHEMA:  ['/mnt/7076984276980B4C/ssd_backup/ActiveRL/data/Test_dry_Cali']\n",
      "TRAIN ENV SCHEMA:  ['/mnt/7076984276980B4C/ssd_backup/ActiveRL/data/Test_hot_new_york']\n",
      "TRAIN ENV SCHEMA:  ['/mnt/7076984276980B4C/ssd_backup/ActiveRL/data/Test_snowy_Cali_winter']\n"
     ]
    }
   ],
   "source": [
    "envs = [CityLearnEnvWrapper(env_config) for env_config in env_configs]\n",
    "def pool_fn(input):\n",
    "    i, env = input\n",
    "    obs = env.reset()\n",
    "    done = False\n",
    "    obss = []\n",
    "    next_obss = []\n",
    "    actions = []\n",
    "    rews = []\n",
    "    dones = []\n",
    "    rbc_agent = RBCAgent(env.action_space)\n",
    "    while not done:\n",
    "        action = rbc_agent.compute_action(obs)\n",
    "        next_obs, rew, done, info = env.step(action)\n",
    "        actions.append(action)\n",
    "        rews.append(rew)\n",
    "        obs = next_obs\n",
    "    return rews, i"
   ]
  },
  {
   "cell_type": "code",
   "execution_count": 4,
   "metadata": {},
   "outputs": [],
   "source": [
    "def store_data(data, path):\n",
    "    df = pd.Series(data)\n",
    "    print(df.sum())\n",
    "    df.to_csv(os.path.join(path, \"rbc_rews.csv\"), mode='a', index=False, header=False)\n",
    "\n",
    "def collect_dataset(envs, num_processes=4):\n",
    "    obss = []\n",
    "    next_obss = []\n",
    "    actions = []\n",
    "    rews = []\n",
    "    dones = []\n",
    "    \n",
    "    pool = mp.Pool(processes=num_processes)\n",
    "    results = pool.map(pool_fn, enumerate(envs))\n",
    "    for result, i in results:\n",
    "        print(i)\n",
    "        store_data(result, paths[i])"
   ]
  },
  {
   "cell_type": "code",
   "execution_count": 5,
   "metadata": {},
   "outputs": [
    {
     "name": "stdout",
     "output_type": "stream",
     "text": [
      "0\n",
      "-13531.602310933922\n",
      "1\n",
      "-10615.03498861454\n",
      "2\n",
      "-9864.91520918176\n",
      "3\n",
      "-12578.293095695566\n"
     ]
    }
   ],
   "source": [
    "collect_dataset(envs, 4)"
   ]
  },
  {
   "cell_type": "code",
   "execution_count": null,
   "metadata": {},
   "outputs": [],
   "source": []
  }
 ],
 "metadata": {
  "kernelspec": {
   "display_name": "Python 3.10.4 ('ActiveRL')",
   "language": "python",
   "name": "python3"
  },
  "language_info": {
   "codemirror_mode": {
    "name": "ipython",
    "version": 3
   },
   "file_extension": ".py",
   "mimetype": "text/x-python",
   "name": "python",
   "nbconvert_exporter": "python",
   "pygments_lexer": "ipython3",
   "version": "3.10.4"
  },
  "orig_nbformat": 4,
  "vscode": {
   "interpreter": {
    "hash": "05ed386050a6f61d6ae19bb50f9ad90c7e2b03875ed318bf31de6d12a39305c0"
   }
  }
 },
 "nbformat": 4,
 "nbformat_minor": 2
}
